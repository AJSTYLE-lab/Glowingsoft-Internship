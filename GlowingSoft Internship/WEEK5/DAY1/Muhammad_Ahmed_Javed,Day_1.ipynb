{
  "nbformat": 4,
  "nbformat_minor": 0,
  "metadata": {
    "colab": {
      "provenance": []
    },
    "kernelspec": {
      "name": "python3",
      "display_name": "Python 3"
    },
    "language_info": {
      "name": "python"
    }
  },
  "cells": [
    {
      "cell_type": "markdown",
      "source": [
        "#Importing Dataset:"
      ],
      "metadata": {
        "id": "FwaU6EaP2Kyt"
      }
    },
    {
      "cell_type": "code",
      "source": [
        "import pandas as pd\n",
        "!pip install dash\n",
        "import numpy as np;np.random.seed(42)\n",
        "import seaborn as sb\n",
        "import matplotlib.pyplot as plt\n",
        "!pip install plotly\n",
        "import plotly\n",
        "import dash\n",
        "from dash import html,dcc\n",
        "from dash.dependencies import Input,Output\n",
        "import matplotlib.pyplot as plt\n",
        "import plotly.express as px\n",
        "import plotly.graph_objects as go\n",
        "from sklearn.cluster import KMeans\n",
        "from sklearn.preprocessing import StandardScaler"
      ],
      "metadata": {
        "colab": {
          "base_uri": "https://localhost:8080/",
          "height": 749
        },
        "id": "u0d4BJdx2ImN",
        "outputId": "6753ea32-15ad-435c-9e3b-229af66f9343"
      },
      "execution_count": 1,
      "outputs": [
        {
          "output_type": "stream",
          "name": "stdout",
          "text": [
            "Collecting dash\n",
            "  Downloading dash-2.11.1-py3-none-any.whl (10.4 MB)\n",
            "\u001b[2K     \u001b[90m━━━━━━━━━━━━━━━━━━━━━━━━━━━━━━━━━━━━━━━━\u001b[0m \u001b[32m10.4/10.4 MB\u001b[0m \u001b[31m21.8 MB/s\u001b[0m eta \u001b[36m0:00:00\u001b[0m\n",
            "\u001b[?25hRequirement already satisfied: Flask<2.3.0,>=1.0.4 in /usr/local/lib/python3.10/dist-packages (from dash) (2.2.5)\n",
            "Collecting Werkzeug<2.3.0 (from dash)\n",
            "  Downloading Werkzeug-2.2.3-py3-none-any.whl (233 kB)\n",
            "\u001b[2K     \u001b[90m━━━━━━━━━━━━━━━━━━━━━━━━━━━━━━━━━━━━━━\u001b[0m \u001b[32m233.6/233.6 kB\u001b[0m \u001b[31m13.7 MB/s\u001b[0m eta \u001b[36m0:00:00\u001b[0m\n",
            "\u001b[?25hRequirement already satisfied: plotly>=5.0.0 in /usr/local/lib/python3.10/dist-packages (from dash) (5.13.1)\n",
            "Collecting dash-html-components==2.0.0 (from dash)\n",
            "  Downloading dash_html_components-2.0.0-py3-none-any.whl (4.1 kB)\n",
            "Collecting dash-core-components==2.0.0 (from dash)\n",
            "  Downloading dash_core_components-2.0.0-py3-none-any.whl (3.8 kB)\n",
            "Collecting dash-table==5.0.0 (from dash)\n",
            "  Downloading dash_table-5.0.0-py3-none-any.whl (3.9 kB)\n",
            "Requirement already satisfied: typing-extensions>=4.1.1 in /usr/local/lib/python3.10/dist-packages (from dash) (4.7.1)\n",
            "Requirement already satisfied: requests in /usr/local/lib/python3.10/dist-packages (from dash) (2.27.1)\n",
            "Collecting retrying (from dash)\n",
            "  Downloading retrying-1.3.4-py3-none-any.whl (11 kB)\n",
            "Collecting ansi2html (from dash)\n",
            "  Downloading ansi2html-1.8.0-py3-none-any.whl (16 kB)\n",
            "Requirement already satisfied: nest-asyncio in /usr/local/lib/python3.10/dist-packages (from dash) (1.5.6)\n",
            "Requirement already satisfied: Jinja2>=3.0 in /usr/local/lib/python3.10/dist-packages (from Flask<2.3.0,>=1.0.4->dash) (3.1.2)\n",
            "Requirement already satisfied: itsdangerous>=2.0 in /usr/local/lib/python3.10/dist-packages (from Flask<2.3.0,>=1.0.4->dash) (2.1.2)\n",
            "Requirement already satisfied: click>=8.0 in /usr/local/lib/python3.10/dist-packages (from Flask<2.3.0,>=1.0.4->dash) (8.1.6)\n",
            "Requirement already satisfied: tenacity>=6.2.0 in /usr/local/lib/python3.10/dist-packages (from plotly>=5.0.0->dash) (8.2.2)\n",
            "Requirement already satisfied: MarkupSafe>=2.1.1 in /usr/local/lib/python3.10/dist-packages (from Werkzeug<2.3.0->dash) (2.1.3)\n",
            "Requirement already satisfied: urllib3<1.27,>=1.21.1 in /usr/local/lib/python3.10/dist-packages (from requests->dash) (1.26.16)\n",
            "Requirement already satisfied: certifi>=2017.4.17 in /usr/local/lib/python3.10/dist-packages (from requests->dash) (2023.5.7)\n",
            "Requirement already satisfied: charset-normalizer~=2.0.0 in /usr/local/lib/python3.10/dist-packages (from requests->dash) (2.0.12)\n",
            "Requirement already satisfied: idna<4,>=2.5 in /usr/local/lib/python3.10/dist-packages (from requests->dash) (3.4)\n",
            "Requirement already satisfied: six>=1.7.0 in /usr/local/lib/python3.10/dist-packages (from retrying->dash) (1.16.0)\n",
            "Installing collected packages: dash-table, dash-html-components, dash-core-components, Werkzeug, retrying, ansi2html, dash\n",
            "  Attempting uninstall: Werkzeug\n",
            "    Found existing installation: Werkzeug 2.3.6\n",
            "    Uninstalling Werkzeug-2.3.6:\n",
            "      Successfully uninstalled Werkzeug-2.3.6\n",
            "Successfully installed Werkzeug-2.2.3 ansi2html-1.8.0 dash-2.11.1 dash-core-components-2.0.0 dash-html-components-2.0.0 dash-table-5.0.0 retrying-1.3.4\n",
            "Requirement already satisfied: plotly in /usr/local/lib/python3.10/dist-packages (5.13.1)\n",
            "Requirement already satisfied: tenacity>=6.2.0 in /usr/local/lib/python3.10/dist-packages (from plotly) (8.2.2)\n"
          ]
        }
      ]
    },
    {
      "cell_type": "markdown",
      "source": [
        "#Generating Dataset:"
      ],
      "metadata": {
        "id": "YOhcYI1Y2GGp"
      }
    },
    {
      "cell_type": "code",
      "source": [
        "customer_id = range(1001, 1501)\n",
        "age = np.random.randint(18, 65, 500)\n",
        "gender = np.random.choice(['Male', 'Female'], 500)\n",
        "marital_status = np.random.choice(['Single', 'Married', 'Divorced'], 500)\n",
        "annual_income = np.random.randint(30000, 100000, 500)\n",
        "total_purchase = np.random.randint(5, 50,500)\n",
        "preferred_category = np.random.choice(['Electronics', 'Appliances', 'Beauty', 'Fashion'], 500)"
      ],
      "metadata": {
        "id": "IoPxarGuvUkD"
      },
      "execution_count": 2,
      "outputs": []
    },
    {
      "cell_type": "code",
      "source": [
        "file = pd.DataFrame({'CUSTOMER_ID': customer_id,'ANNUAL_INCOME (USD)': annual_income,'ANNUAL_INCOME (USD)': annual_income,\n",
        "    'MARITAL_STATUS': marital_status,\n",
        "    'TOTAL_PURCAHSE': total_purchase,\n",
        "    'GENDER': gender,\n",
        "    'PREFERRED_CATEGORY': preferred_category,\n",
        "     'AGE': age\n",
        "})"
      ],
      "metadata": {
        "id": "NCjLFWhavLsL"
      },
      "execution_count": 3,
      "outputs": []
    },
    {
      "cell_type": "markdown",
      "source": [
        "#Saving Dataset:"
      ],
      "metadata": {
        "id": "IawSSmUe2R_u"
      }
    },
    {
      "cell_type": "code",
      "source": [
        "file.to_csv('TechElectro_Customer_Data.csv', index=False)\n"
      ],
      "metadata": {
        "id": "mMm4Ww0CuSlK"
      },
      "execution_count": 4,
      "outputs": []
    },
    {
      "cell_type": "markdown",
      "source": [
        "#Importing Dataset:"
      ],
      "metadata": {
        "id": "5PXI6h_32ZBc"
      }
    },
    {
      "cell_type": "code",
      "source": [
        "file=pd.read_csv(\"TechElectro_Customer_Data.csv\")\n",
        "file.head()"
      ],
      "metadata": {
        "colab": {
          "base_uri": "https://localhost:8080/",
          "height": 206
        },
        "id": "lYo1ZO3-vdc3",
        "outputId": "3dc14f73-cbbf-4148-e60b-0a691eaae67d"
      },
      "execution_count": 5,
      "outputs": [
        {
          "output_type": "execute_result",
          "data": {
            "text/plain": [
              "   CUSTOMER_ID  ANNUAL_INCOME (USD) MARITAL_STATUS  TOTAL_PURCAHSE GENDER  \\\n",
              "0         1001                86133         Single              32   Male   \n",
              "1         1002                91268        Married              19   Male   \n",
              "2         1003                68243       Divorced              10   Male   \n",
              "3         1004                87384        Married              48   Male   \n",
              "4         1005                61653       Divorced              24   Male   \n",
              "\n",
              "  PREFERRED_CATEGORY  AGE  \n",
              "0        Electronics   56  \n",
              "1         Appliances   46  \n",
              "2             Beauty   32  \n",
              "3         Appliances   60  \n",
              "4            Fashion   25  "
            ],
            "text/html": [
              "\n",
              "\n",
              "  <div id=\"df-6fe58bca-f91d-483d-9f93-0c80c9d75116\">\n",
              "    <div class=\"colab-df-container\">\n",
              "      <div>\n",
              "<style scoped>\n",
              "    .dataframe tbody tr th:only-of-type {\n",
              "        vertical-align: middle;\n",
              "    }\n",
              "\n",
              "    .dataframe tbody tr th {\n",
              "        vertical-align: top;\n",
              "    }\n",
              "\n",
              "    .dataframe thead th {\n",
              "        text-align: right;\n",
              "    }\n",
              "</style>\n",
              "<table border=\"1\" class=\"dataframe\">\n",
              "  <thead>\n",
              "    <tr style=\"text-align: right;\">\n",
              "      <th></th>\n",
              "      <th>CUSTOMER_ID</th>\n",
              "      <th>ANNUAL_INCOME (USD)</th>\n",
              "      <th>MARITAL_STATUS</th>\n",
              "      <th>TOTAL_PURCAHSE</th>\n",
              "      <th>GENDER</th>\n",
              "      <th>PREFERRED_CATEGORY</th>\n",
              "      <th>AGE</th>\n",
              "    </tr>\n",
              "  </thead>\n",
              "  <tbody>\n",
              "    <tr>\n",
              "      <th>0</th>\n",
              "      <td>1001</td>\n",
              "      <td>86133</td>\n",
              "      <td>Single</td>\n",
              "      <td>32</td>\n",
              "      <td>Male</td>\n",
              "      <td>Electronics</td>\n",
              "      <td>56</td>\n",
              "    </tr>\n",
              "    <tr>\n",
              "      <th>1</th>\n",
              "      <td>1002</td>\n",
              "      <td>91268</td>\n",
              "      <td>Married</td>\n",
              "      <td>19</td>\n",
              "      <td>Male</td>\n",
              "      <td>Appliances</td>\n",
              "      <td>46</td>\n",
              "    </tr>\n",
              "    <tr>\n",
              "      <th>2</th>\n",
              "      <td>1003</td>\n",
              "      <td>68243</td>\n",
              "      <td>Divorced</td>\n",
              "      <td>10</td>\n",
              "      <td>Male</td>\n",
              "      <td>Beauty</td>\n",
              "      <td>32</td>\n",
              "    </tr>\n",
              "    <tr>\n",
              "      <th>3</th>\n",
              "      <td>1004</td>\n",
              "      <td>87384</td>\n",
              "      <td>Married</td>\n",
              "      <td>48</td>\n",
              "      <td>Male</td>\n",
              "      <td>Appliances</td>\n",
              "      <td>60</td>\n",
              "    </tr>\n",
              "    <tr>\n",
              "      <th>4</th>\n",
              "      <td>1005</td>\n",
              "      <td>61653</td>\n",
              "      <td>Divorced</td>\n",
              "      <td>24</td>\n",
              "      <td>Male</td>\n",
              "      <td>Fashion</td>\n",
              "      <td>25</td>\n",
              "    </tr>\n",
              "  </tbody>\n",
              "</table>\n",
              "</div>\n",
              "      <button class=\"colab-df-convert\" onclick=\"convertToInteractive('df-6fe58bca-f91d-483d-9f93-0c80c9d75116')\"\n",
              "              title=\"Convert this dataframe to an interactive table.\"\n",
              "              style=\"display:none;\">\n",
              "\n",
              "  <svg xmlns=\"http://www.w3.org/2000/svg\" height=\"24px\"viewBox=\"0 0 24 24\"\n",
              "       width=\"24px\">\n",
              "    <path d=\"M0 0h24v24H0V0z\" fill=\"none\"/>\n",
              "    <path d=\"M18.56 5.44l.94 2.06.94-2.06 2.06-.94-2.06-.94-.94-2.06-.94 2.06-2.06.94zm-11 1L8.5 8.5l.94-2.06 2.06-.94-2.06-.94L8.5 2.5l-.94 2.06-2.06.94zm10 10l.94 2.06.94-2.06 2.06-.94-2.06-.94-.94-2.06-.94 2.06-2.06.94z\"/><path d=\"M17.41 7.96l-1.37-1.37c-.4-.4-.92-.59-1.43-.59-.52 0-1.04.2-1.43.59L10.3 9.45l-7.72 7.72c-.78.78-.78 2.05 0 2.83L4 21.41c.39.39.9.59 1.41.59.51 0 1.02-.2 1.41-.59l7.78-7.78 2.81-2.81c.8-.78.8-2.07 0-2.86zM5.41 20L4 18.59l7.72-7.72 1.47 1.35L5.41 20z\"/>\n",
              "  </svg>\n",
              "      </button>\n",
              "\n",
              "\n",
              "\n",
              "    <div id=\"df-7d1e84ed-74e5-4795-b92d-2a1e5bcf1245\">\n",
              "      <button class=\"colab-df-quickchart\" onclick=\"quickchart('df-7d1e84ed-74e5-4795-b92d-2a1e5bcf1245')\"\n",
              "              title=\"Suggest charts.\"\n",
              "              style=\"display:none;\">\n",
              "\n",
              "<svg xmlns=\"http://www.w3.org/2000/svg\" height=\"24px\"viewBox=\"0 0 24 24\"\n",
              "     width=\"24px\">\n",
              "    <g>\n",
              "        <path d=\"M19 3H5c-1.1 0-2 .9-2 2v14c0 1.1.9 2 2 2h14c1.1 0 2-.9 2-2V5c0-1.1-.9-2-2-2zM9 17H7v-7h2v7zm4 0h-2V7h2v10zm4 0h-2v-4h2v4z\"/>\n",
              "    </g>\n",
              "</svg>\n",
              "      </button>\n",
              "    </div>\n",
              "\n",
              "<style>\n",
              "  .colab-df-quickchart {\n",
              "    background-color: #E8F0FE;\n",
              "    border: none;\n",
              "    border-radius: 50%;\n",
              "    cursor: pointer;\n",
              "    display: none;\n",
              "    fill: #1967D2;\n",
              "    height: 32px;\n",
              "    padding: 0 0 0 0;\n",
              "    width: 32px;\n",
              "  }\n",
              "\n",
              "  .colab-df-quickchart:hover {\n",
              "    background-color: #E2EBFA;\n",
              "    box-shadow: 0px 1px 2px rgba(60, 64, 67, 0.3), 0px 1px 3px 1px rgba(60, 64, 67, 0.15);\n",
              "    fill: #174EA6;\n",
              "  }\n",
              "\n",
              "  [theme=dark] .colab-df-quickchart {\n",
              "    background-color: #3B4455;\n",
              "    fill: #D2E3FC;\n",
              "  }\n",
              "\n",
              "  [theme=dark] .colab-df-quickchart:hover {\n",
              "    background-color: #434B5C;\n",
              "    box-shadow: 0px 1px 3px 1px rgba(0, 0, 0, 0.15);\n",
              "    filter: drop-shadow(0px 1px 2px rgba(0, 0, 0, 0.3));\n",
              "    fill: #FFFFFF;\n",
              "  }\n",
              "</style>\n",
              "\n",
              "    <script>\n",
              "      async function quickchart(key) {\n",
              "        const containerElement = document.querySelector('#' + key);\n",
              "        const charts = await google.colab.kernel.invokeFunction(\n",
              "            'suggestCharts', [key], {});\n",
              "      }\n",
              "    </script>\n",
              "\n",
              "      <script>\n",
              "\n",
              "function displayQuickchartButton(domScope) {\n",
              "  let quickchartButtonEl =\n",
              "    domScope.querySelector('#df-7d1e84ed-74e5-4795-b92d-2a1e5bcf1245 button.colab-df-quickchart');\n",
              "  quickchartButtonEl.style.display =\n",
              "    google.colab.kernel.accessAllowed ? 'block' : 'none';\n",
              "}\n",
              "\n",
              "        displayQuickchartButton(document);\n",
              "      </script>\n",
              "      <style>\n",
              "    .colab-df-container {\n",
              "      display:flex;\n",
              "      flex-wrap:wrap;\n",
              "      gap: 12px;\n",
              "    }\n",
              "\n",
              "    .colab-df-convert {\n",
              "      background-color: #E8F0FE;\n",
              "      border: none;\n",
              "      border-radius: 50%;\n",
              "      cursor: pointer;\n",
              "      display: none;\n",
              "      fill: #1967D2;\n",
              "      height: 32px;\n",
              "      padding: 0 0 0 0;\n",
              "      width: 32px;\n",
              "    }\n",
              "\n",
              "    .colab-df-convert:hover {\n",
              "      background-color: #E2EBFA;\n",
              "      box-shadow: 0px 1px 2px rgba(60, 64, 67, 0.3), 0px 1px 3px 1px rgba(60, 64, 67, 0.15);\n",
              "      fill: #174EA6;\n",
              "    }\n",
              "\n",
              "    [theme=dark] .colab-df-convert {\n",
              "      background-color: #3B4455;\n",
              "      fill: #D2E3FC;\n",
              "    }\n",
              "\n",
              "    [theme=dark] .colab-df-convert:hover {\n",
              "      background-color: #434B5C;\n",
              "      box-shadow: 0px 1px 3px 1px rgba(0, 0, 0, 0.15);\n",
              "      filter: drop-shadow(0px 1px 2px rgba(0, 0, 0, 0.3));\n",
              "      fill: #FFFFFF;\n",
              "    }\n",
              "  </style>\n",
              "\n",
              "      <script>\n",
              "        const buttonEl =\n",
              "          document.querySelector('#df-6fe58bca-f91d-483d-9f93-0c80c9d75116 button.colab-df-convert');\n",
              "        buttonEl.style.display =\n",
              "          google.colab.kernel.accessAllowed ? 'block' : 'none';\n",
              "\n",
              "        async function convertToInteractive(key) {\n",
              "          const element = document.querySelector('#df-6fe58bca-f91d-483d-9f93-0c80c9d75116');\n",
              "          const dataTable =\n",
              "            await google.colab.kernel.invokeFunction('convertToInteractive',\n",
              "                                                     [key], {});\n",
              "          if (!dataTable) return;\n",
              "\n",
              "          const docLinkHtml = 'Like what you see? Visit the ' +\n",
              "            '<a target=\"_blank\" href=https://colab.research.google.com/notebooks/data_table.ipynb>data table notebook</a>'\n",
              "            + ' to learn more about interactive tables.';\n",
              "          element.innerHTML = '';\n",
              "          dataTable['output_type'] = 'display_data';\n",
              "          await google.colab.output.renderOutput(dataTable, element);\n",
              "          const docLink = document.createElement('div');\n",
              "          docLink.innerHTML = docLinkHtml;\n",
              "          element.appendChild(docLink);\n",
              "        }\n",
              "      </script>\n",
              "    </div>\n",
              "  </div>\n"
            ]
          },
          "metadata": {},
          "execution_count": 5
        }
      ]
    },
    {
      "cell_type": "markdown",
      "source": [
        "#EDA:"
      ],
      "metadata": {
        "id": "1bdiyqMn2dLX"
      }
    },
    {
      "cell_type": "code",
      "source": [
        "file.columns"
      ],
      "metadata": {
        "colab": {
          "base_uri": "https://localhost:8080/"
        },
        "id": "rUTN5_Uwvjo5",
        "outputId": "82017c8d-2d29-4a69-9d5f-e74fa3ceca58"
      },
      "execution_count": 6,
      "outputs": [
        {
          "output_type": "execute_result",
          "data": {
            "text/plain": [
              "Index(['CUSTOMER_ID', 'ANNUAL_INCOME (USD)', 'MARITAL_STATUS',\n",
              "       'TOTAL_PURCAHSE', 'GENDER', 'PREFERRED_CATEGORY', 'AGE'],\n",
              "      dtype='object')"
            ]
          },
          "metadata": {},
          "execution_count": 6
        }
      ]
    },
    {
      "cell_type": "code",
      "source": [
        "file.isnull().sum()"
      ],
      "metadata": {
        "colab": {
          "base_uri": "https://localhost:8080/"
        },
        "id": "1MLlVH_0vuXQ",
        "outputId": "6602a256-3202-4168-f025-ff7112d6da8e"
      },
      "execution_count": 7,
      "outputs": [
        {
          "output_type": "execute_result",
          "data": {
            "text/plain": [
              "CUSTOMER_ID            0\n",
              "ANNUAL_INCOME (USD)    0\n",
              "MARITAL_STATUS         0\n",
              "TOTAL_PURCAHSE         0\n",
              "GENDER                 0\n",
              "PREFERRED_CATEGORY     0\n",
              "AGE                    0\n",
              "dtype: int64"
            ]
          },
          "metadata": {},
          "execution_count": 7
        }
      ]
    },
    {
      "cell_type": "code",
      "source": [
        "file.describe()"
      ],
      "metadata": {
        "colab": {
          "base_uri": "https://localhost:8080/",
          "height": 300
        },
        "id": "HStoVWwQvwDW",
        "outputId": "34d3a6ca-a8a1-43f0-df93-2a133422b581"
      },
      "execution_count": 8,
      "outputs": [
        {
          "output_type": "execute_result",
          "data": {
            "text/plain": [
              "       CUSTOMER_ID  ANNUAL_INCOME (USD)  TOTAL_PURCAHSE         AGE\n",
              "count   500.000000           500.000000      500.000000  500.000000\n",
              "mean   1250.500000         65129.962000       26.260000   41.278000\n",
              "std     144.481833         19309.946461       13.006103   13.389072\n",
              "min    1001.000000         30060.000000        5.000000   18.000000\n",
              "25%    1125.750000         50641.750000       15.000000   30.000000\n",
              "50%    1250.500000         64088.500000       26.000000   42.000000\n",
              "75%    1375.250000         81202.750000       38.000000   52.000000\n",
              "max    1500.000000         99768.000000       49.000000   64.000000"
            ],
            "text/html": [
              "\n",
              "\n",
              "  <div id=\"df-41dab472-c4f1-4586-bf80-9527e2d8f3a2\">\n",
              "    <div class=\"colab-df-container\">\n",
              "      <div>\n",
              "<style scoped>\n",
              "    .dataframe tbody tr th:only-of-type {\n",
              "        vertical-align: middle;\n",
              "    }\n",
              "\n",
              "    .dataframe tbody tr th {\n",
              "        vertical-align: top;\n",
              "    }\n",
              "\n",
              "    .dataframe thead th {\n",
              "        text-align: right;\n",
              "    }\n",
              "</style>\n",
              "<table border=\"1\" class=\"dataframe\">\n",
              "  <thead>\n",
              "    <tr style=\"text-align: right;\">\n",
              "      <th></th>\n",
              "      <th>CUSTOMER_ID</th>\n",
              "      <th>ANNUAL_INCOME (USD)</th>\n",
              "      <th>TOTAL_PURCAHSE</th>\n",
              "      <th>AGE</th>\n",
              "    </tr>\n",
              "  </thead>\n",
              "  <tbody>\n",
              "    <tr>\n",
              "      <th>count</th>\n",
              "      <td>500.000000</td>\n",
              "      <td>500.000000</td>\n",
              "      <td>500.000000</td>\n",
              "      <td>500.000000</td>\n",
              "    </tr>\n",
              "    <tr>\n",
              "      <th>mean</th>\n",
              "      <td>1250.500000</td>\n",
              "      <td>65129.962000</td>\n",
              "      <td>26.260000</td>\n",
              "      <td>41.278000</td>\n",
              "    </tr>\n",
              "    <tr>\n",
              "      <th>std</th>\n",
              "      <td>144.481833</td>\n",
              "      <td>19309.946461</td>\n",
              "      <td>13.006103</td>\n",
              "      <td>13.389072</td>\n",
              "    </tr>\n",
              "    <tr>\n",
              "      <th>min</th>\n",
              "      <td>1001.000000</td>\n",
              "      <td>30060.000000</td>\n",
              "      <td>5.000000</td>\n",
              "      <td>18.000000</td>\n",
              "    </tr>\n",
              "    <tr>\n",
              "      <th>25%</th>\n",
              "      <td>1125.750000</td>\n",
              "      <td>50641.750000</td>\n",
              "      <td>15.000000</td>\n",
              "      <td>30.000000</td>\n",
              "    </tr>\n",
              "    <tr>\n",
              "      <th>50%</th>\n",
              "      <td>1250.500000</td>\n",
              "      <td>64088.500000</td>\n",
              "      <td>26.000000</td>\n",
              "      <td>42.000000</td>\n",
              "    </tr>\n",
              "    <tr>\n",
              "      <th>75%</th>\n",
              "      <td>1375.250000</td>\n",
              "      <td>81202.750000</td>\n",
              "      <td>38.000000</td>\n",
              "      <td>52.000000</td>\n",
              "    </tr>\n",
              "    <tr>\n",
              "      <th>max</th>\n",
              "      <td>1500.000000</td>\n",
              "      <td>99768.000000</td>\n",
              "      <td>49.000000</td>\n",
              "      <td>64.000000</td>\n",
              "    </tr>\n",
              "  </tbody>\n",
              "</table>\n",
              "</div>\n",
              "      <button class=\"colab-df-convert\" onclick=\"convertToInteractive('df-41dab472-c4f1-4586-bf80-9527e2d8f3a2')\"\n",
              "              title=\"Convert this dataframe to an interactive table.\"\n",
              "              style=\"display:none;\">\n",
              "\n",
              "  <svg xmlns=\"http://www.w3.org/2000/svg\" height=\"24px\"viewBox=\"0 0 24 24\"\n",
              "       width=\"24px\">\n",
              "    <path d=\"M0 0h24v24H0V0z\" fill=\"none\"/>\n",
              "    <path d=\"M18.56 5.44l.94 2.06.94-2.06 2.06-.94-2.06-.94-.94-2.06-.94 2.06-2.06.94zm-11 1L8.5 8.5l.94-2.06 2.06-.94-2.06-.94L8.5 2.5l-.94 2.06-2.06.94zm10 10l.94 2.06.94-2.06 2.06-.94-2.06-.94-.94-2.06-.94 2.06-2.06.94z\"/><path d=\"M17.41 7.96l-1.37-1.37c-.4-.4-.92-.59-1.43-.59-.52 0-1.04.2-1.43.59L10.3 9.45l-7.72 7.72c-.78.78-.78 2.05 0 2.83L4 21.41c.39.39.9.59 1.41.59.51 0 1.02-.2 1.41-.59l7.78-7.78 2.81-2.81c.8-.78.8-2.07 0-2.86zM5.41 20L4 18.59l7.72-7.72 1.47 1.35L5.41 20z\"/>\n",
              "  </svg>\n",
              "      </button>\n",
              "\n",
              "\n",
              "\n",
              "    <div id=\"df-9b033606-3368-417d-8e5d-202723cb6e02\">\n",
              "      <button class=\"colab-df-quickchart\" onclick=\"quickchart('df-9b033606-3368-417d-8e5d-202723cb6e02')\"\n",
              "              title=\"Suggest charts.\"\n",
              "              style=\"display:none;\">\n",
              "\n",
              "<svg xmlns=\"http://www.w3.org/2000/svg\" height=\"24px\"viewBox=\"0 0 24 24\"\n",
              "     width=\"24px\">\n",
              "    <g>\n",
              "        <path d=\"M19 3H5c-1.1 0-2 .9-2 2v14c0 1.1.9 2 2 2h14c1.1 0 2-.9 2-2V5c0-1.1-.9-2-2-2zM9 17H7v-7h2v7zm4 0h-2V7h2v10zm4 0h-2v-4h2v4z\"/>\n",
              "    </g>\n",
              "</svg>\n",
              "      </button>\n",
              "    </div>\n",
              "\n",
              "<style>\n",
              "  .colab-df-quickchart {\n",
              "    background-color: #E8F0FE;\n",
              "    border: none;\n",
              "    border-radius: 50%;\n",
              "    cursor: pointer;\n",
              "    display: none;\n",
              "    fill: #1967D2;\n",
              "    height: 32px;\n",
              "    padding: 0 0 0 0;\n",
              "    width: 32px;\n",
              "  }\n",
              "\n",
              "  .colab-df-quickchart:hover {\n",
              "    background-color: #E2EBFA;\n",
              "    box-shadow: 0px 1px 2px rgba(60, 64, 67, 0.3), 0px 1px 3px 1px rgba(60, 64, 67, 0.15);\n",
              "    fill: #174EA6;\n",
              "  }\n",
              "\n",
              "  [theme=dark] .colab-df-quickchart {\n",
              "    background-color: #3B4455;\n",
              "    fill: #D2E3FC;\n",
              "  }\n",
              "\n",
              "  [theme=dark] .colab-df-quickchart:hover {\n",
              "    background-color: #434B5C;\n",
              "    box-shadow: 0px 1px 3px 1px rgba(0, 0, 0, 0.15);\n",
              "    filter: drop-shadow(0px 1px 2px rgba(0, 0, 0, 0.3));\n",
              "    fill: #FFFFFF;\n",
              "  }\n",
              "</style>\n",
              "\n",
              "    <script>\n",
              "      async function quickchart(key) {\n",
              "        const containerElement = document.querySelector('#' + key);\n",
              "        const charts = await google.colab.kernel.invokeFunction(\n",
              "            'suggestCharts', [key], {});\n",
              "      }\n",
              "    </script>\n",
              "\n",
              "      <script>\n",
              "\n",
              "function displayQuickchartButton(domScope) {\n",
              "  let quickchartButtonEl =\n",
              "    domScope.querySelector('#df-9b033606-3368-417d-8e5d-202723cb6e02 button.colab-df-quickchart');\n",
              "  quickchartButtonEl.style.display =\n",
              "    google.colab.kernel.accessAllowed ? 'block' : 'none';\n",
              "}\n",
              "\n",
              "        displayQuickchartButton(document);\n",
              "      </script>\n",
              "      <style>\n",
              "    .colab-df-container {\n",
              "      display:flex;\n",
              "      flex-wrap:wrap;\n",
              "      gap: 12px;\n",
              "    }\n",
              "\n",
              "    .colab-df-convert {\n",
              "      background-color: #E8F0FE;\n",
              "      border: none;\n",
              "      border-radius: 50%;\n",
              "      cursor: pointer;\n",
              "      display: none;\n",
              "      fill: #1967D2;\n",
              "      height: 32px;\n",
              "      padding: 0 0 0 0;\n",
              "      width: 32px;\n",
              "    }\n",
              "\n",
              "    .colab-df-convert:hover {\n",
              "      background-color: #E2EBFA;\n",
              "      box-shadow: 0px 1px 2px rgba(60, 64, 67, 0.3), 0px 1px 3px 1px rgba(60, 64, 67, 0.15);\n",
              "      fill: #174EA6;\n",
              "    }\n",
              "\n",
              "    [theme=dark] .colab-df-convert {\n",
              "      background-color: #3B4455;\n",
              "      fill: #D2E3FC;\n",
              "    }\n",
              "\n",
              "    [theme=dark] .colab-df-convert:hover {\n",
              "      background-color: #434B5C;\n",
              "      box-shadow: 0px 1px 3px 1px rgba(0, 0, 0, 0.15);\n",
              "      filter: drop-shadow(0px 1px 2px rgba(0, 0, 0, 0.3));\n",
              "      fill: #FFFFFF;\n",
              "    }\n",
              "  </style>\n",
              "\n",
              "      <script>\n",
              "        const buttonEl =\n",
              "          document.querySelector('#df-41dab472-c4f1-4586-bf80-9527e2d8f3a2 button.colab-df-convert');\n",
              "        buttonEl.style.display =\n",
              "          google.colab.kernel.accessAllowed ? 'block' : 'none';\n",
              "\n",
              "        async function convertToInteractive(key) {\n",
              "          const element = document.querySelector('#df-41dab472-c4f1-4586-bf80-9527e2d8f3a2');\n",
              "          const dataTable =\n",
              "            await google.colab.kernel.invokeFunction('convertToInteractive',\n",
              "                                                     [key], {});\n",
              "          if (!dataTable) return;\n",
              "\n",
              "          const docLinkHtml = 'Like what you see? Visit the ' +\n",
              "            '<a target=\"_blank\" href=https://colab.research.google.com/notebooks/data_table.ipynb>data table notebook</a>'\n",
              "            + ' to learn more about interactive tables.';\n",
              "          element.innerHTML = '';\n",
              "          dataTable['output_type'] = 'display_data';\n",
              "          await google.colab.output.renderOutput(dataTable, element);\n",
              "          const docLink = document.createElement('div');\n",
              "          docLink.innerHTML = docLinkHtml;\n",
              "          element.appendChild(docLink);\n",
              "        }\n",
              "      </script>\n",
              "    </div>\n",
              "  </div>\n"
            ]
          },
          "metadata": {},
          "execution_count": 8
        }
      ]
    },
    {
      "cell_type": "code",
      "source": [
        "file.shape\n"
      ],
      "metadata": {
        "colab": {
          "base_uri": "https://localhost:8080/"
        },
        "id": "_IyK8nfcv40r",
        "outputId": "b4791be7-1cfa-4570-d083-bb1d50deb44a"
      },
      "execution_count": 9,
      "outputs": [
        {
          "output_type": "execute_result",
          "data": {
            "text/plain": [
              "(500, 7)"
            ]
          },
          "metadata": {},
          "execution_count": 9
        }
      ]
    },
    {
      "cell_type": "code",
      "source": [
        "pc_counts =file.PREFERRED_CATEGORY.value_counts()\n",
        "pc_percentage = (pc_counts/ len(file)) * 100\n",
        "print('Preferred Category Percentage\\n',pc_percentage)"
      ],
      "metadata": {
        "colab": {
          "base_uri": "https://localhost:8080/"
        },
        "id": "b9RHkgjs05Jz",
        "outputId": "022367cb-d0d0-4668-eb00-5f61fe61a42c"
      },
      "execution_count": 10,
      "outputs": [
        {
          "output_type": "stream",
          "name": "stdout",
          "text": [
            "Preferred Category Percentage\n",
            " Fashion        27.4\n",
            "Electronics    26.4\n",
            "Appliances     24.2\n",
            "Beauty         22.0\n",
            "Name: PREFERRED_CATEGORY, dtype: float64\n"
          ]
        }
      ]
    },
    {
      "cell_type": "markdown",
      "source": [
        "#Data Visualization:"
      ],
      "metadata": {
        "id": "TzJumK0k2xYZ"
      }
    },
    {
      "cell_type": "markdown",
      "source": [
        "#Preferred Category:"
      ],
      "metadata": {
        "id": "VjmdRUjZN1Hg"
      }
    },
    {
      "cell_type": "markdown",
      "source": [
        "#Pie Chart Of Percentages of Preferred Category:"
      ],
      "metadata": {
        "id": "TzREHZJY4zfe"
      }
    },
    {
      "cell_type": "code",
      "source": [
        "fig_pie_for_percentage_of_pc = px.pie(data_frame=file, names='PREFERRED_CATEGORY', title='Pie Chart:<br>Percentages of Preferred Category:<br>Collectively People Prefer Fashion Category Of Your Company',hole=0.10,template='plotly_dark')\n",
        "fig_pie_for_percentage_of_pc.update_layout(title_font=dict(size=15,family=\"Arial\",color='Cyan'))\n",
        "fig_pie_for_percentage_of_pc.show()"
      ],
      "metadata": {
        "colab": {
          "base_uri": "https://localhost:8080/",
          "height": 542
        },
        "id": "nSmUw19K20J5",
        "outputId": "2b4ecfc3-0e85-4e97-8dd9-71a98abcfbf4"
      },
      "execution_count": 11,
      "outputs": [
        {
          "output_type": "display_data",
          "data": {
            "text/html": [
              "<html>\n",
              "<head><meta charset=\"utf-8\" /></head>\n",
              "<body>\n",
              "    <div>            <script src=\"https://cdnjs.cloudflare.com/ajax/libs/mathjax/2.7.5/MathJax.js?config=TeX-AMS-MML_SVG\"></script><script type=\"text/javascript\">if (window.MathJax && window.MathJax.Hub && window.MathJax.Hub.Config) {window.MathJax.Hub.Config({SVG: {font: \"STIX-Web\"}});}</script>                <script type=\"text/javascript\">window.PlotlyConfig = {MathJaxConfig: 'local'};</script>\n",
              "        <script src=\"https://cdn.plot.ly/plotly-2.18.2.min.js\"></script>                <div id=\"d527e12e-aa6c-4738-8c4b-39ced0371496\" class=\"plotly-graph-div\" style=\"height:525px; width:100%;\"></div>            <script type=\"text/javascript\">                                    window.PLOTLYENV=window.PLOTLYENV || {};                                    if (document.getElementById(\"d527e12e-aa6c-4738-8c4b-39ced0371496\")) {                    Plotly.newPlot(                        \"d527e12e-aa6c-4738-8c4b-39ced0371496\",                        [{\"domain\":{\"x\":[0.0,1.0],\"y\":[0.0,1.0]},\"hole\":0.1,\"hovertemplate\":\"PREFERRED_CATEGORY=%{label}<extra></extra>\",\"labels\":[\"Electronics\",\"Appliances\",\"Beauty\",\"Appliances\",\"Fashion\",\"Beauty\",\"Electronics\",\"Electronics\",\"Electronics\",\"Electronics\",\"Appliances\",\"Appliances\",\"Electronics\",\"Electronics\",\"Electronics\",\"Appliances\",\"Electronics\",\"Electronics\",\"Fashion\",\"Fashion\",\"Electronics\",\"Beauty\",\"Electronics\",\"Fashion\",\"Beauty\",\"Beauty\",\"Electronics\",\"Fashion\",\"Fashion\",\"Beauty\",\"Electronics\",\"Appliances\",\"Appliances\",\"Fashion\",\"Appliances\",\"Fashion\",\"Fashion\",\"Fashion\",\"Appliances\",\"Fashion\",\"Beauty\",\"Electronics\",\"Electronics\",\"Fashion\",\"Electronics\",\"Appliances\",\"Appliances\",\"Electronics\",\"Appliances\",\"Electronics\",\"Electronics\",\"Electronics\",\"Fashion\",\"Electronics\",\"Fashion\",\"Electronics\",\"Electronics\",\"Electronics\",\"Appliances\",\"Fashion\",\"Fashion\",\"Electronics\",\"Electronics\",\"Appliances\",\"Appliances\",\"Appliances\",\"Fashion\",\"Fashion\",\"Fashion\",\"Electronics\",\"Fashion\",\"Beauty\",\"Beauty\",\"Appliances\",\"Fashion\",\"Beauty\",\"Appliances\",\"Fashion\",\"Electronics\",\"Beauty\",\"Electronics\",\"Fashion\",\"Beauty\",\"Fashion\",\"Electronics\",\"Beauty\",\"Electronics\",\"Fashion\",\"Fashion\",\"Electronics\",\"Beauty\",\"Electronics\",\"Fashion\",\"Electronics\",\"Fashion\",\"Electronics\",\"Beauty\",\"Beauty\",\"Electronics\",\"Electronics\",\"Beauty\",\"Fashion\",\"Beauty\",\"Fashion\",\"Electronics\",\"Electronics\",\"Fashion\",\"Electronics\",\"Fashion\",\"Appliances\",\"Beauty\",\"Appliances\",\"Fashion\",\"Beauty\",\"Fashion\",\"Beauty\",\"Beauty\",\"Beauty\",\"Beauty\",\"Fashion\",\"Beauty\",\"Beauty\",\"Appliances\",\"Electronics\",\"Electronics\",\"Appliances\",\"Appliances\",\"Fashion\",\"Fashion\",\"Fashion\",\"Appliances\",\"Appliances\",\"Beauty\",\"Fashion\",\"Fashion\",\"Fashion\",\"Electronics\",\"Beauty\",\"Fashion\",\"Fashion\",\"Fashion\",\"Electronics\",\"Electronics\",\"Appliances\",\"Beauty\",\"Appliances\",\"Beauty\",\"Electronics\",\"Fashion\",\"Appliances\",\"Fashion\",\"Appliances\",\"Electronics\",\"Electronics\",\"Electronics\",\"Appliances\",\"Beauty\",\"Appliances\",\"Beauty\",\"Appliances\",\"Appliances\",\"Electronics\",\"Fashion\",\"Fashion\",\"Beauty\",\"Fashion\",\"Appliances\",\"Appliances\",\"Electronics\",\"Electronics\",\"Fashion\",\"Beauty\",\"Fashion\",\"Fashion\",\"Fashion\",\"Fashion\",\"Appliances\",\"Beauty\",\"Appliances\",\"Beauty\",\"Electronics\",\"Fashion\",\"Appliances\",\"Beauty\",\"Electronics\",\"Electronics\",\"Fashion\",\"Beauty\",\"Appliances\",\"Fashion\",\"Appliances\",\"Electronics\",\"Appliances\",\"Appliances\",\"Fashion\",\"Appliances\",\"Fashion\",\"Electronics\",\"Fashion\",\"Fashion\",\"Beauty\",\"Appliances\",\"Electronics\",\"Fashion\",\"Electronics\",\"Beauty\",\"Appliances\",\"Fashion\",\"Appliances\",\"Beauty\",\"Beauty\",\"Electronics\",\"Fashion\",\"Electronics\",\"Beauty\",\"Appliances\",\"Electronics\",\"Electronics\",\"Appliances\",\"Electronics\",\"Appliances\",\"Fashion\",\"Appliances\",\"Fashion\",\"Appliances\",\"Beauty\",\"Beauty\",\"Fashion\",\"Fashion\",\"Beauty\",\"Fashion\",\"Appliances\",\"Appliances\",\"Beauty\",\"Electronics\",\"Appliances\",\"Fashion\",\"Electronics\",\"Electronics\",\"Appliances\",\"Appliances\",\"Electronics\",\"Electronics\",\"Beauty\",\"Fashion\",\"Beauty\",\"Appliances\",\"Beauty\",\"Beauty\",\"Beauty\",\"Beauty\",\"Fashion\",\"Fashion\",\"Electronics\",\"Appliances\",\"Beauty\",\"Electronics\",\"Electronics\",\"Electronics\",\"Fashion\",\"Beauty\",\"Beauty\",\"Appliances\",\"Beauty\",\"Beauty\",\"Electronics\",\"Appliances\",\"Beauty\",\"Fashion\",\"Beauty\",\"Electronics\",\"Fashion\",\"Electronics\",\"Beauty\",\"Fashion\",\"Appliances\",\"Appliances\",\"Fashion\",\"Fashion\",\"Electronics\",\"Fashion\",\"Electronics\",\"Beauty\",\"Electronics\",\"Fashion\",\"Fashion\",\"Beauty\",\"Fashion\",\"Fashion\",\"Appliances\",\"Appliances\",\"Beauty\",\"Electronics\",\"Appliances\",\"Electronics\",\"Fashion\",\"Appliances\",\"Beauty\",\"Beauty\",\"Beauty\",\"Appliances\",\"Electronics\",\"Fashion\",\"Electronics\",\"Electronics\",\"Fashion\",\"Fashion\",\"Appliances\",\"Appliances\",\"Appliances\",\"Appliances\",\"Appliances\",\"Fashion\",\"Electronics\",\"Appliances\",\"Appliances\",\"Electronics\",\"Appliances\",\"Electronics\",\"Electronics\",\"Fashion\",\"Beauty\",\"Fashion\",\"Beauty\",\"Beauty\",\"Beauty\",\"Appliances\",\"Fashion\",\"Beauty\",\"Electronics\",\"Appliances\",\"Fashion\",\"Beauty\",\"Electronics\",\"Fashion\",\"Fashion\",\"Appliances\",\"Fashion\",\"Appliances\",\"Beauty\",\"Appliances\",\"Electronics\",\"Appliances\",\"Electronics\",\"Appliances\",\"Fashion\",\"Beauty\",\"Electronics\",\"Appliances\",\"Appliances\",\"Appliances\",\"Fashion\",\"Fashion\",\"Electronics\",\"Electronics\",\"Fashion\",\"Electronics\",\"Beauty\",\"Beauty\",\"Fashion\",\"Electronics\",\"Appliances\",\"Beauty\",\"Fashion\",\"Electronics\",\"Fashion\",\"Appliances\",\"Beauty\",\"Fashion\",\"Fashion\",\"Fashion\",\"Appliances\",\"Fashion\",\"Appliances\",\"Appliances\",\"Appliances\",\"Beauty\",\"Beauty\",\"Fashion\",\"Fashion\",\"Beauty\",\"Electronics\",\"Beauty\",\"Appliances\",\"Beauty\",\"Appliances\",\"Fashion\",\"Electronics\",\"Fashion\",\"Appliances\",\"Appliances\",\"Appliances\",\"Electronics\",\"Beauty\",\"Fashion\",\"Fashion\",\"Beauty\",\"Fashion\",\"Electronics\",\"Fashion\",\"Appliances\",\"Beauty\",\"Electronics\",\"Beauty\",\"Electronics\",\"Appliances\",\"Beauty\",\"Fashion\",\"Electronics\",\"Beauty\",\"Fashion\",\"Beauty\",\"Beauty\",\"Beauty\",\"Electronics\",\"Fashion\",\"Appliances\",\"Electronics\",\"Electronics\",\"Electronics\",\"Appliances\",\"Fashion\",\"Fashion\",\"Fashion\",\"Beauty\",\"Beauty\",\"Beauty\",\"Appliances\",\"Beauty\",\"Appliances\",\"Fashion\",\"Beauty\",\"Beauty\",\"Electronics\",\"Appliances\",\"Fashion\",\"Electronics\",\"Electronics\",\"Fashion\",\"Electronics\",\"Appliances\",\"Appliances\",\"Beauty\",\"Electronics\",\"Beauty\",\"Electronics\",\"Appliances\",\"Appliances\",\"Appliances\",\"Electronics\",\"Appliances\",\"Electronics\",\"Beauty\",\"Electronics\",\"Beauty\",\"Electronics\",\"Beauty\",\"Appliances\",\"Beauty\",\"Appliances\",\"Appliances\",\"Beauty\",\"Electronics\",\"Electronics\",\"Fashion\",\"Electronics\",\"Fashion\",\"Electronics\",\"Electronics\",\"Appliances\",\"Fashion\",\"Electronics\",\"Fashion\",\"Appliances\",\"Appliances\",\"Fashion\",\"Appliances\",\"Beauty\",\"Beauty\",\"Appliances\",\"Beauty\",\"Electronics\",\"Fashion\",\"Electronics\",\"Fashion\",\"Appliances\",\"Electronics\",\"Appliances\",\"Appliances\",\"Fashion\",\"Fashion\",\"Fashion\",\"Electronics\",\"Beauty\",\"Fashion\",\"Fashion\",\"Electronics\",\"Fashion\",\"Electronics\",\"Appliances\"],\"legendgroup\":\"\",\"name\":\"\",\"showlegend\":true,\"type\":\"pie\"}],                        {\"template\":{\"data\":{\"barpolar\":[{\"marker\":{\"line\":{\"color\":\"rgb(17,17,17)\",\"width\":0.5},\"pattern\":{\"fillmode\":\"overlay\",\"size\":10,\"solidity\":0.2}},\"type\":\"barpolar\"}],\"bar\":[{\"error_x\":{\"color\":\"#f2f5fa\"},\"error_y\":{\"color\":\"#f2f5fa\"},\"marker\":{\"line\":{\"color\":\"rgb(17,17,17)\",\"width\":0.5},\"pattern\":{\"fillmode\":\"overlay\",\"size\":10,\"solidity\":0.2}},\"type\":\"bar\"}],\"carpet\":[{\"aaxis\":{\"endlinecolor\":\"#A2B1C6\",\"gridcolor\":\"#506784\",\"linecolor\":\"#506784\",\"minorgridcolor\":\"#506784\",\"startlinecolor\":\"#A2B1C6\"},\"baxis\":{\"endlinecolor\":\"#A2B1C6\",\"gridcolor\":\"#506784\",\"linecolor\":\"#506784\",\"minorgridcolor\":\"#506784\",\"startlinecolor\":\"#A2B1C6\"},\"type\":\"carpet\"}],\"choropleth\":[{\"colorbar\":{\"outlinewidth\":0,\"ticks\":\"\"},\"type\":\"choropleth\"}],\"contourcarpet\":[{\"colorbar\":{\"outlinewidth\":0,\"ticks\":\"\"},\"type\":\"contourcarpet\"}],\"contour\":[{\"colorbar\":{\"outlinewidth\":0,\"ticks\":\"\"},\"colorscale\":[[0.0,\"#0d0887\"],[0.1111111111111111,\"#46039f\"],[0.2222222222222222,\"#7201a8\"],[0.3333333333333333,\"#9c179e\"],[0.4444444444444444,\"#bd3786\"],[0.5555555555555556,\"#d8576b\"],[0.6666666666666666,\"#ed7953\"],[0.7777777777777778,\"#fb9f3a\"],[0.8888888888888888,\"#fdca26\"],[1.0,\"#f0f921\"]],\"type\":\"contour\"}],\"heatmapgl\":[{\"colorbar\":{\"outlinewidth\":0,\"ticks\":\"\"},\"colorscale\":[[0.0,\"#0d0887\"],[0.1111111111111111,\"#46039f\"],[0.2222222222222222,\"#7201a8\"],[0.3333333333333333,\"#9c179e\"],[0.4444444444444444,\"#bd3786\"],[0.5555555555555556,\"#d8576b\"],[0.6666666666666666,\"#ed7953\"],[0.7777777777777778,\"#fb9f3a\"],[0.8888888888888888,\"#fdca26\"],[1.0,\"#f0f921\"]],\"type\":\"heatmapgl\"}],\"heatmap\":[{\"colorbar\":{\"outlinewidth\":0,\"ticks\":\"\"},\"colorscale\":[[0.0,\"#0d0887\"],[0.1111111111111111,\"#46039f\"],[0.2222222222222222,\"#7201a8\"],[0.3333333333333333,\"#9c179e\"],[0.4444444444444444,\"#bd3786\"],[0.5555555555555556,\"#d8576b\"],[0.6666666666666666,\"#ed7953\"],[0.7777777777777778,\"#fb9f3a\"],[0.8888888888888888,\"#fdca26\"],[1.0,\"#f0f921\"]],\"type\":\"heatmap\"}],\"histogram2dcontour\":[{\"colorbar\":{\"outlinewidth\":0,\"ticks\":\"\"},\"colorscale\":[[0.0,\"#0d0887\"],[0.1111111111111111,\"#46039f\"],[0.2222222222222222,\"#7201a8\"],[0.3333333333333333,\"#9c179e\"],[0.4444444444444444,\"#bd3786\"],[0.5555555555555556,\"#d8576b\"],[0.6666666666666666,\"#ed7953\"],[0.7777777777777778,\"#fb9f3a\"],[0.8888888888888888,\"#fdca26\"],[1.0,\"#f0f921\"]],\"type\":\"histogram2dcontour\"}],\"histogram2d\":[{\"colorbar\":{\"outlinewidth\":0,\"ticks\":\"\"},\"colorscale\":[[0.0,\"#0d0887\"],[0.1111111111111111,\"#46039f\"],[0.2222222222222222,\"#7201a8\"],[0.3333333333333333,\"#9c179e\"],[0.4444444444444444,\"#bd3786\"],[0.5555555555555556,\"#d8576b\"],[0.6666666666666666,\"#ed7953\"],[0.7777777777777778,\"#fb9f3a\"],[0.8888888888888888,\"#fdca26\"],[1.0,\"#f0f921\"]],\"type\":\"histogram2d\"}],\"histogram\":[{\"marker\":{\"pattern\":{\"fillmode\":\"overlay\",\"size\":10,\"solidity\":0.2}},\"type\":\"histogram\"}],\"mesh3d\":[{\"colorbar\":{\"outlinewidth\":0,\"ticks\":\"\"},\"type\":\"mesh3d\"}],\"parcoords\":[{\"line\":{\"colorbar\":{\"outlinewidth\":0,\"ticks\":\"\"}},\"type\":\"parcoords\"}],\"pie\":[{\"automargin\":true,\"type\":\"pie\"}],\"scatter3d\":[{\"line\":{\"colorbar\":{\"outlinewidth\":0,\"ticks\":\"\"}},\"marker\":{\"colorbar\":{\"outlinewidth\":0,\"ticks\":\"\"}},\"type\":\"scatter3d\"}],\"scattercarpet\":[{\"marker\":{\"colorbar\":{\"outlinewidth\":0,\"ticks\":\"\"}},\"type\":\"scattercarpet\"}],\"scattergeo\":[{\"marker\":{\"colorbar\":{\"outlinewidth\":0,\"ticks\":\"\"}},\"type\":\"scattergeo\"}],\"scattergl\":[{\"marker\":{\"line\":{\"color\":\"#283442\"}},\"type\":\"scattergl\"}],\"scattermapbox\":[{\"marker\":{\"colorbar\":{\"outlinewidth\":0,\"ticks\":\"\"}},\"type\":\"scattermapbox\"}],\"scatterpolargl\":[{\"marker\":{\"colorbar\":{\"outlinewidth\":0,\"ticks\":\"\"}},\"type\":\"scatterpolargl\"}],\"scatterpolar\":[{\"marker\":{\"colorbar\":{\"outlinewidth\":0,\"ticks\":\"\"}},\"type\":\"scatterpolar\"}],\"scatter\":[{\"marker\":{\"line\":{\"color\":\"#283442\"}},\"type\":\"scatter\"}],\"scatterternary\":[{\"marker\":{\"colorbar\":{\"outlinewidth\":0,\"ticks\":\"\"}},\"type\":\"scatterternary\"}],\"surface\":[{\"colorbar\":{\"outlinewidth\":0,\"ticks\":\"\"},\"colorscale\":[[0.0,\"#0d0887\"],[0.1111111111111111,\"#46039f\"],[0.2222222222222222,\"#7201a8\"],[0.3333333333333333,\"#9c179e\"],[0.4444444444444444,\"#bd3786\"],[0.5555555555555556,\"#d8576b\"],[0.6666666666666666,\"#ed7953\"],[0.7777777777777778,\"#fb9f3a\"],[0.8888888888888888,\"#fdca26\"],[1.0,\"#f0f921\"]],\"type\":\"surface\"}],\"table\":[{\"cells\":{\"fill\":{\"color\":\"#506784\"},\"line\":{\"color\":\"rgb(17,17,17)\"}},\"header\":{\"fill\":{\"color\":\"#2a3f5f\"},\"line\":{\"color\":\"rgb(17,17,17)\"}},\"type\":\"table\"}]},\"layout\":{\"annotationdefaults\":{\"arrowcolor\":\"#f2f5fa\",\"arrowhead\":0,\"arrowwidth\":1},\"autotypenumbers\":\"strict\",\"coloraxis\":{\"colorbar\":{\"outlinewidth\":0,\"ticks\":\"\"}},\"colorscale\":{\"diverging\":[[0,\"#8e0152\"],[0.1,\"#c51b7d\"],[0.2,\"#de77ae\"],[0.3,\"#f1b6da\"],[0.4,\"#fde0ef\"],[0.5,\"#f7f7f7\"],[0.6,\"#e6f5d0\"],[0.7,\"#b8e186\"],[0.8,\"#7fbc41\"],[0.9,\"#4d9221\"],[1,\"#276419\"]],\"sequential\":[[0.0,\"#0d0887\"],[0.1111111111111111,\"#46039f\"],[0.2222222222222222,\"#7201a8\"],[0.3333333333333333,\"#9c179e\"],[0.4444444444444444,\"#bd3786\"],[0.5555555555555556,\"#d8576b\"],[0.6666666666666666,\"#ed7953\"],[0.7777777777777778,\"#fb9f3a\"],[0.8888888888888888,\"#fdca26\"],[1.0,\"#f0f921\"]],\"sequentialminus\":[[0.0,\"#0d0887\"],[0.1111111111111111,\"#46039f\"],[0.2222222222222222,\"#7201a8\"],[0.3333333333333333,\"#9c179e\"],[0.4444444444444444,\"#bd3786\"],[0.5555555555555556,\"#d8576b\"],[0.6666666666666666,\"#ed7953\"],[0.7777777777777778,\"#fb9f3a\"],[0.8888888888888888,\"#fdca26\"],[1.0,\"#f0f921\"]]},\"colorway\":[\"#636efa\",\"#EF553B\",\"#00cc96\",\"#ab63fa\",\"#FFA15A\",\"#19d3f3\",\"#FF6692\",\"#B6E880\",\"#FF97FF\",\"#FECB52\"],\"font\":{\"color\":\"#f2f5fa\"},\"geo\":{\"bgcolor\":\"rgb(17,17,17)\",\"lakecolor\":\"rgb(17,17,17)\",\"landcolor\":\"rgb(17,17,17)\",\"showlakes\":true,\"showland\":true,\"subunitcolor\":\"#506784\"},\"hoverlabel\":{\"align\":\"left\"},\"hovermode\":\"closest\",\"mapbox\":{\"style\":\"dark\"},\"paper_bgcolor\":\"rgb(17,17,17)\",\"plot_bgcolor\":\"rgb(17,17,17)\",\"polar\":{\"angularaxis\":{\"gridcolor\":\"#506784\",\"linecolor\":\"#506784\",\"ticks\":\"\"},\"bgcolor\":\"rgb(17,17,17)\",\"radialaxis\":{\"gridcolor\":\"#506784\",\"linecolor\":\"#506784\",\"ticks\":\"\"}},\"scene\":{\"xaxis\":{\"backgroundcolor\":\"rgb(17,17,17)\",\"gridcolor\":\"#506784\",\"gridwidth\":2,\"linecolor\":\"#506784\",\"showbackground\":true,\"ticks\":\"\",\"zerolinecolor\":\"#C8D4E3\"},\"yaxis\":{\"backgroundcolor\":\"rgb(17,17,17)\",\"gridcolor\":\"#506784\",\"gridwidth\":2,\"linecolor\":\"#506784\",\"showbackground\":true,\"ticks\":\"\",\"zerolinecolor\":\"#C8D4E3\"},\"zaxis\":{\"backgroundcolor\":\"rgb(17,17,17)\",\"gridcolor\":\"#506784\",\"gridwidth\":2,\"linecolor\":\"#506784\",\"showbackground\":true,\"ticks\":\"\",\"zerolinecolor\":\"#C8D4E3\"}},\"shapedefaults\":{\"line\":{\"color\":\"#f2f5fa\"}},\"sliderdefaults\":{\"bgcolor\":\"#C8D4E3\",\"bordercolor\":\"rgb(17,17,17)\",\"borderwidth\":1,\"tickwidth\":0},\"ternary\":{\"aaxis\":{\"gridcolor\":\"#506784\",\"linecolor\":\"#506784\",\"ticks\":\"\"},\"baxis\":{\"gridcolor\":\"#506784\",\"linecolor\":\"#506784\",\"ticks\":\"\"},\"bgcolor\":\"rgb(17,17,17)\",\"caxis\":{\"gridcolor\":\"#506784\",\"linecolor\":\"#506784\",\"ticks\":\"\"}},\"title\":{\"x\":0.05},\"updatemenudefaults\":{\"bgcolor\":\"#506784\",\"borderwidth\":0},\"xaxis\":{\"automargin\":true,\"gridcolor\":\"#283442\",\"linecolor\":\"#506784\",\"ticks\":\"\",\"title\":{\"standoff\":15},\"zerolinecolor\":\"#283442\",\"zerolinewidth\":2},\"yaxis\":{\"automargin\":true,\"gridcolor\":\"#283442\",\"linecolor\":\"#506784\",\"ticks\":\"\",\"title\":{\"standoff\":15},\"zerolinecolor\":\"#283442\",\"zerolinewidth\":2}}},\"legend\":{\"tracegroupgap\":0},\"title\":{\"text\":\"Pie Chart:<br>Percentages of Preferred Category:<br>Collectively People Prefer Fashion Category Of Your Company\",\"font\":{\"size\":15,\"family\":\"Arial\",\"color\":\"Cyan\"}}},                        {\"responsive\": true}                    ).then(function(){\n",
              "                            \n",
              "var gd = document.getElementById('d527e12e-aa6c-4738-8c4b-39ced0371496');\n",
              "var x = new MutationObserver(function (mutations, observer) {{\n",
              "        var display = window.getComputedStyle(gd).display;\n",
              "        if (!display || display === 'none') {{\n",
              "            console.log([gd, 'removed!']);\n",
              "            Plotly.purge(gd);\n",
              "            observer.disconnect();\n",
              "        }}\n",
              "}});\n",
              "\n",
              "// Listen for the removal of the full notebook cells\n",
              "var notebookContainer = gd.closest('#notebook-container');\n",
              "if (notebookContainer) {{\n",
              "    x.observe(notebookContainer, {childList: true});\n",
              "}}\n",
              "\n",
              "// Listen for the clearing of the current output cell\n",
              "var outputEl = gd.closest('.output');\n",
              "if (outputEl) {{\n",
              "    x.observe(outputEl, {childList: true});\n",
              "}}\n",
              "\n",
              "                        })                };                            </script>        </div>\n",
              "</body>\n",
              "</html>"
            ]
          },
          "metadata": {}
        }
      ]
    },
    {
      "cell_type": "markdown",
      "source": [
        "#Histogram of Preferred Category:"
      ],
      "metadata": {
        "id": "M3Xug5dpMo1Y"
      }
    },
    {
      "cell_type": "code",
      "source": [
        "hist_of_pc = px.bar(data_frame=file, x='PREFERRED_CATEGORY', color='PREFERRED_CATEGORY',\n",
        "             template='plotly_dark',title='Distribution of Gender on the basis of Category',\n",
        "             labels={'PREFERRED_CATEGORY': 'PREFERRED_CATEGORY', 'count': 'COUNT'})\n",
        "hist_of_pc.update_layout(title_font=dict(size=15,color=\"Cyan\"))\n",
        "hist_of_pc.show()"
      ],
      "metadata": {
        "colab": {
          "base_uri": "https://localhost:8080/",
          "height": 542
        },
        "id": "tOYzGcHaMrVP",
        "outputId": "2bf78927-3f8a-43fd-87a9-96b66f591d24"
      },
      "execution_count": 12,
      "outputs": [
        {
          "output_type": "display_data",
          "data": {
            "text/html": [
              "<html>\n",
              "<head><meta charset=\"utf-8\" /></head>\n",
              "<body>\n",
              "    <div>            <script src=\"https://cdnjs.cloudflare.com/ajax/libs/mathjax/2.7.5/MathJax.js?config=TeX-AMS-MML_SVG\"></script><script type=\"text/javascript\">if (window.MathJax && window.MathJax.Hub && window.MathJax.Hub.Config) {window.MathJax.Hub.Config({SVG: {font: \"STIX-Web\"}});}</script>                <script type=\"text/javascript\">window.PlotlyConfig = {MathJaxConfig: 'local'};</script>\n",
              "        <script src=\"https://cdn.plot.ly/plotly-2.18.2.min.js\"></script>                <div id=\"01906301-86d2-422a-91f4-10a8942327d4\" class=\"plotly-graph-div\" style=\"height:525px; width:100%;\"></div>            <script type=\"text/javascript\">                                    window.PLOTLYENV=window.PLOTLYENV || {};                                    if (document.getElementById(\"01906301-86d2-422a-91f4-10a8942327d4\")) {                    Plotly.newPlot(                        \"01906301-86d2-422a-91f4-10a8942327d4\",                        [{\"alignmentgroup\":\"True\",\"hovertemplate\":\"PREFERRED_CATEGORY=%{x}<br>COUNT=%{y}<extra></extra>\",\"legendgroup\":\"Electronics\",\"marker\":{\"color\":\"#636efa\",\"pattern\":{\"shape\":\"\"}},\"name\":\"Electronics\",\"offsetgroup\":\"Electronics\",\"orientation\":\"v\",\"showlegend\":true,\"textposition\":\"auto\",\"x\":[\"Electronics\",\"Electronics\",\"Electronics\",\"Electronics\",\"Electronics\",\"Electronics\",\"Electronics\",\"Electronics\",\"Electronics\",\"Electronics\",\"Electronics\",\"Electronics\",\"Electronics\",\"Electronics\",\"Electronics\",\"Electronics\",\"Electronics\",\"Electronics\",\"Electronics\",\"Electronics\",\"Electronics\",\"Electronics\",\"Electronics\",\"Electronics\",\"Electronics\",\"Electronics\",\"Electronics\",\"Electronics\",\"Electronics\",\"Electronics\",\"Electronics\",\"Electronics\",\"Electronics\",\"Electronics\",\"Electronics\",\"Electronics\",\"Electronics\",\"Electronics\",\"Electronics\",\"Electronics\",\"Electronics\",\"Electronics\",\"Electronics\",\"Electronics\",\"Electronics\",\"Electronics\",\"Electronics\",\"Electronics\",\"Electronics\",\"Electronics\",\"Electronics\",\"Electronics\",\"Electronics\",\"Electronics\",\"Electronics\",\"Electronics\",\"Electronics\",\"Electronics\",\"Electronics\",\"Electronics\",\"Electronics\",\"Electronics\",\"Electronics\",\"Electronics\",\"Electronics\",\"Electronics\",\"Electronics\",\"Electronics\",\"Electronics\",\"Electronics\",\"Electronics\",\"Electronics\",\"Electronics\",\"Electronics\",\"Electronics\",\"Electronics\",\"Electronics\",\"Electronics\",\"Electronics\",\"Electronics\",\"Electronics\",\"Electronics\",\"Electronics\",\"Electronics\",\"Electronics\",\"Electronics\",\"Electronics\",\"Electronics\",\"Electronics\",\"Electronics\",\"Electronics\",\"Electronics\",\"Electronics\",\"Electronics\",\"Electronics\",\"Electronics\",\"Electronics\",\"Electronics\",\"Electronics\",\"Electronics\",\"Electronics\",\"Electronics\",\"Electronics\",\"Electronics\",\"Electronics\",\"Electronics\",\"Electronics\",\"Electronics\",\"Electronics\",\"Electronics\",\"Electronics\",\"Electronics\",\"Electronics\",\"Electronics\",\"Electronics\",\"Electronics\",\"Electronics\",\"Electronics\",\"Electronics\",\"Electronics\",\"Electronics\",\"Electronics\",\"Electronics\",\"Electronics\",\"Electronics\",\"Electronics\",\"Electronics\",\"Electronics\",\"Electronics\",\"Electronics\",\"Electronics\",\"Electronics\"],\"xaxis\":\"x\",\"y\":[1,1,1,1,1,1,1,1,1,1,1,1,1,1,1,1,1,1,1,1,1,1,1,1,1,1,1,1,1,1,1,1,1,1,1,1,1,1,1,1,1,1,1,1,1,1,1,1,1,1,1,1,1,1,1,1,1,1,1,1,1,1,1,1,1,1,1,1,1,1,1,1,1,1,1,1,1,1,1,1,1,1,1,1,1,1,1,1,1,1,1,1,1,1,1,1,1,1,1,1,1,1,1,1,1,1,1,1,1,1,1,1,1,1,1,1,1,1,1,1,1,1,1,1,1,1,1,1,1,1,1,1],\"yaxis\":\"y\",\"type\":\"bar\"},{\"alignmentgroup\":\"True\",\"hovertemplate\":\"PREFERRED_CATEGORY=%{x}<br>COUNT=%{y}<extra></extra>\",\"legendgroup\":\"Appliances\",\"marker\":{\"color\":\"#EF553B\",\"pattern\":{\"shape\":\"\"}},\"name\":\"Appliances\",\"offsetgroup\":\"Appliances\",\"orientation\":\"v\",\"showlegend\":true,\"textposition\":\"auto\",\"x\":[\"Appliances\",\"Appliances\",\"Appliances\",\"Appliances\",\"Appliances\",\"Appliances\",\"Appliances\",\"Appliances\",\"Appliances\",\"Appliances\",\"Appliances\",\"Appliances\",\"Appliances\",\"Appliances\",\"Appliances\",\"Appliances\",\"Appliances\",\"Appliances\",\"Appliances\",\"Appliances\",\"Appliances\",\"Appliances\",\"Appliances\",\"Appliances\",\"Appliances\",\"Appliances\",\"Appliances\",\"Appliances\",\"Appliances\",\"Appliances\",\"Appliances\",\"Appliances\",\"Appliances\",\"Appliances\",\"Appliances\",\"Appliances\",\"Appliances\",\"Appliances\",\"Appliances\",\"Appliances\",\"Appliances\",\"Appliances\",\"Appliances\",\"Appliances\",\"Appliances\",\"Appliances\",\"Appliances\",\"Appliances\",\"Appliances\",\"Appliances\",\"Appliances\",\"Appliances\",\"Appliances\",\"Appliances\",\"Appliances\",\"Appliances\",\"Appliances\",\"Appliances\",\"Appliances\",\"Appliances\",\"Appliances\",\"Appliances\",\"Appliances\",\"Appliances\",\"Appliances\",\"Appliances\",\"Appliances\",\"Appliances\",\"Appliances\",\"Appliances\",\"Appliances\",\"Appliances\",\"Appliances\",\"Appliances\",\"Appliances\",\"Appliances\",\"Appliances\",\"Appliances\",\"Appliances\",\"Appliances\",\"Appliances\",\"Appliances\",\"Appliances\",\"Appliances\",\"Appliances\",\"Appliances\",\"Appliances\",\"Appliances\",\"Appliances\",\"Appliances\",\"Appliances\",\"Appliances\",\"Appliances\",\"Appliances\",\"Appliances\",\"Appliances\",\"Appliances\",\"Appliances\",\"Appliances\",\"Appliances\",\"Appliances\",\"Appliances\",\"Appliances\",\"Appliances\",\"Appliances\",\"Appliances\",\"Appliances\",\"Appliances\",\"Appliances\",\"Appliances\",\"Appliances\",\"Appliances\",\"Appliances\",\"Appliances\",\"Appliances\",\"Appliances\",\"Appliances\",\"Appliances\",\"Appliances\",\"Appliances\",\"Appliances\"],\"xaxis\":\"x\",\"y\":[1,1,1,1,1,1,1,1,1,1,1,1,1,1,1,1,1,1,1,1,1,1,1,1,1,1,1,1,1,1,1,1,1,1,1,1,1,1,1,1,1,1,1,1,1,1,1,1,1,1,1,1,1,1,1,1,1,1,1,1,1,1,1,1,1,1,1,1,1,1,1,1,1,1,1,1,1,1,1,1,1,1,1,1,1,1,1,1,1,1,1,1,1,1,1,1,1,1,1,1,1,1,1,1,1,1,1,1,1,1,1,1,1,1,1,1,1,1,1,1,1],\"yaxis\":\"y\",\"type\":\"bar\"},{\"alignmentgroup\":\"True\",\"hovertemplate\":\"PREFERRED_CATEGORY=%{x}<br>COUNT=%{y}<extra></extra>\",\"legendgroup\":\"Beauty\",\"marker\":{\"color\":\"#00cc96\",\"pattern\":{\"shape\":\"\"}},\"name\":\"Beauty\",\"offsetgroup\":\"Beauty\",\"orientation\":\"v\",\"showlegend\":true,\"textposition\":\"auto\",\"x\":[\"Beauty\",\"Beauty\",\"Beauty\",\"Beauty\",\"Beauty\",\"Beauty\",\"Beauty\",\"Beauty\",\"Beauty\",\"Beauty\",\"Beauty\",\"Beauty\",\"Beauty\",\"Beauty\",\"Beauty\",\"Beauty\",\"Beauty\",\"Beauty\",\"Beauty\",\"Beauty\",\"Beauty\",\"Beauty\",\"Beauty\",\"Beauty\",\"Beauty\",\"Beauty\",\"Beauty\",\"Beauty\",\"Beauty\",\"Beauty\",\"Beauty\",\"Beauty\",\"Beauty\",\"Beauty\",\"Beauty\",\"Beauty\",\"Beauty\",\"Beauty\",\"Beauty\",\"Beauty\",\"Beauty\",\"Beauty\",\"Beauty\",\"Beauty\",\"Beauty\",\"Beauty\",\"Beauty\",\"Beauty\",\"Beauty\",\"Beauty\",\"Beauty\",\"Beauty\",\"Beauty\",\"Beauty\",\"Beauty\",\"Beauty\",\"Beauty\",\"Beauty\",\"Beauty\",\"Beauty\",\"Beauty\",\"Beauty\",\"Beauty\",\"Beauty\",\"Beauty\",\"Beauty\",\"Beauty\",\"Beauty\",\"Beauty\",\"Beauty\",\"Beauty\",\"Beauty\",\"Beauty\",\"Beauty\",\"Beauty\",\"Beauty\",\"Beauty\",\"Beauty\",\"Beauty\",\"Beauty\",\"Beauty\",\"Beauty\",\"Beauty\",\"Beauty\",\"Beauty\",\"Beauty\",\"Beauty\",\"Beauty\",\"Beauty\",\"Beauty\",\"Beauty\",\"Beauty\",\"Beauty\",\"Beauty\",\"Beauty\",\"Beauty\",\"Beauty\",\"Beauty\",\"Beauty\",\"Beauty\",\"Beauty\",\"Beauty\",\"Beauty\",\"Beauty\",\"Beauty\",\"Beauty\",\"Beauty\",\"Beauty\",\"Beauty\",\"Beauty\"],\"xaxis\":\"x\",\"y\":[1,1,1,1,1,1,1,1,1,1,1,1,1,1,1,1,1,1,1,1,1,1,1,1,1,1,1,1,1,1,1,1,1,1,1,1,1,1,1,1,1,1,1,1,1,1,1,1,1,1,1,1,1,1,1,1,1,1,1,1,1,1,1,1,1,1,1,1,1,1,1,1,1,1,1,1,1,1,1,1,1,1,1,1,1,1,1,1,1,1,1,1,1,1,1,1,1,1,1,1,1,1,1,1,1,1,1,1,1,1],\"yaxis\":\"y\",\"type\":\"bar\"},{\"alignmentgroup\":\"True\",\"hovertemplate\":\"PREFERRED_CATEGORY=%{x}<br>COUNT=%{y}<extra></extra>\",\"legendgroup\":\"Fashion\",\"marker\":{\"color\":\"#ab63fa\",\"pattern\":{\"shape\":\"\"}},\"name\":\"Fashion\",\"offsetgroup\":\"Fashion\",\"orientation\":\"v\",\"showlegend\":true,\"textposition\":\"auto\",\"x\":[\"Fashion\",\"Fashion\",\"Fashion\",\"Fashion\",\"Fashion\",\"Fashion\",\"Fashion\",\"Fashion\",\"Fashion\",\"Fashion\",\"Fashion\",\"Fashion\",\"Fashion\",\"Fashion\",\"Fashion\",\"Fashion\",\"Fashion\",\"Fashion\",\"Fashion\",\"Fashion\",\"Fashion\",\"Fashion\",\"Fashion\",\"Fashion\",\"Fashion\",\"Fashion\",\"Fashion\",\"Fashion\",\"Fashion\",\"Fashion\",\"Fashion\",\"Fashion\",\"Fashion\",\"Fashion\",\"Fashion\",\"Fashion\",\"Fashion\",\"Fashion\",\"Fashion\",\"Fashion\",\"Fashion\",\"Fashion\",\"Fashion\",\"Fashion\",\"Fashion\",\"Fashion\",\"Fashion\",\"Fashion\",\"Fashion\",\"Fashion\",\"Fashion\",\"Fashion\",\"Fashion\",\"Fashion\",\"Fashion\",\"Fashion\",\"Fashion\",\"Fashion\",\"Fashion\",\"Fashion\",\"Fashion\",\"Fashion\",\"Fashion\",\"Fashion\",\"Fashion\",\"Fashion\",\"Fashion\",\"Fashion\",\"Fashion\",\"Fashion\",\"Fashion\",\"Fashion\",\"Fashion\",\"Fashion\",\"Fashion\",\"Fashion\",\"Fashion\",\"Fashion\",\"Fashion\",\"Fashion\",\"Fashion\",\"Fashion\",\"Fashion\",\"Fashion\",\"Fashion\",\"Fashion\",\"Fashion\",\"Fashion\",\"Fashion\",\"Fashion\",\"Fashion\",\"Fashion\",\"Fashion\",\"Fashion\",\"Fashion\",\"Fashion\",\"Fashion\",\"Fashion\",\"Fashion\",\"Fashion\",\"Fashion\",\"Fashion\",\"Fashion\",\"Fashion\",\"Fashion\",\"Fashion\",\"Fashion\",\"Fashion\",\"Fashion\",\"Fashion\",\"Fashion\",\"Fashion\",\"Fashion\",\"Fashion\",\"Fashion\",\"Fashion\",\"Fashion\",\"Fashion\",\"Fashion\",\"Fashion\",\"Fashion\",\"Fashion\",\"Fashion\",\"Fashion\",\"Fashion\",\"Fashion\",\"Fashion\",\"Fashion\",\"Fashion\",\"Fashion\",\"Fashion\",\"Fashion\",\"Fashion\",\"Fashion\",\"Fashion\",\"Fashion\",\"Fashion\"],\"xaxis\":\"x\",\"y\":[1,1,1,1,1,1,1,1,1,1,1,1,1,1,1,1,1,1,1,1,1,1,1,1,1,1,1,1,1,1,1,1,1,1,1,1,1,1,1,1,1,1,1,1,1,1,1,1,1,1,1,1,1,1,1,1,1,1,1,1,1,1,1,1,1,1,1,1,1,1,1,1,1,1,1,1,1,1,1,1,1,1,1,1,1,1,1,1,1,1,1,1,1,1,1,1,1,1,1,1,1,1,1,1,1,1,1,1,1,1,1,1,1,1,1,1,1,1,1,1,1,1,1,1,1,1,1,1,1,1,1,1,1,1,1,1,1],\"yaxis\":\"y\",\"type\":\"bar\"}],                        {\"template\":{\"data\":{\"barpolar\":[{\"marker\":{\"line\":{\"color\":\"rgb(17,17,17)\",\"width\":0.5},\"pattern\":{\"fillmode\":\"overlay\",\"size\":10,\"solidity\":0.2}},\"type\":\"barpolar\"}],\"bar\":[{\"error_x\":{\"color\":\"#f2f5fa\"},\"error_y\":{\"color\":\"#f2f5fa\"},\"marker\":{\"line\":{\"color\":\"rgb(17,17,17)\",\"width\":0.5},\"pattern\":{\"fillmode\":\"overlay\",\"size\":10,\"solidity\":0.2}},\"type\":\"bar\"}],\"carpet\":[{\"aaxis\":{\"endlinecolor\":\"#A2B1C6\",\"gridcolor\":\"#506784\",\"linecolor\":\"#506784\",\"minorgridcolor\":\"#506784\",\"startlinecolor\":\"#A2B1C6\"},\"baxis\":{\"endlinecolor\":\"#A2B1C6\",\"gridcolor\":\"#506784\",\"linecolor\":\"#506784\",\"minorgridcolor\":\"#506784\",\"startlinecolor\":\"#A2B1C6\"},\"type\":\"carpet\"}],\"choropleth\":[{\"colorbar\":{\"outlinewidth\":0,\"ticks\":\"\"},\"type\":\"choropleth\"}],\"contourcarpet\":[{\"colorbar\":{\"outlinewidth\":0,\"ticks\":\"\"},\"type\":\"contourcarpet\"}],\"contour\":[{\"colorbar\":{\"outlinewidth\":0,\"ticks\":\"\"},\"colorscale\":[[0.0,\"#0d0887\"],[0.1111111111111111,\"#46039f\"],[0.2222222222222222,\"#7201a8\"],[0.3333333333333333,\"#9c179e\"],[0.4444444444444444,\"#bd3786\"],[0.5555555555555556,\"#d8576b\"],[0.6666666666666666,\"#ed7953\"],[0.7777777777777778,\"#fb9f3a\"],[0.8888888888888888,\"#fdca26\"],[1.0,\"#f0f921\"]],\"type\":\"contour\"}],\"heatmapgl\":[{\"colorbar\":{\"outlinewidth\":0,\"ticks\":\"\"},\"colorscale\":[[0.0,\"#0d0887\"],[0.1111111111111111,\"#46039f\"],[0.2222222222222222,\"#7201a8\"],[0.3333333333333333,\"#9c179e\"],[0.4444444444444444,\"#bd3786\"],[0.5555555555555556,\"#d8576b\"],[0.6666666666666666,\"#ed7953\"],[0.7777777777777778,\"#fb9f3a\"],[0.8888888888888888,\"#fdca26\"],[1.0,\"#f0f921\"]],\"type\":\"heatmapgl\"}],\"heatmap\":[{\"colorbar\":{\"outlinewidth\":0,\"ticks\":\"\"},\"colorscale\":[[0.0,\"#0d0887\"],[0.1111111111111111,\"#46039f\"],[0.2222222222222222,\"#7201a8\"],[0.3333333333333333,\"#9c179e\"],[0.4444444444444444,\"#bd3786\"],[0.5555555555555556,\"#d8576b\"],[0.6666666666666666,\"#ed7953\"],[0.7777777777777778,\"#fb9f3a\"],[0.8888888888888888,\"#fdca26\"],[1.0,\"#f0f921\"]],\"type\":\"heatmap\"}],\"histogram2dcontour\":[{\"colorbar\":{\"outlinewidth\":0,\"ticks\":\"\"},\"colorscale\":[[0.0,\"#0d0887\"],[0.1111111111111111,\"#46039f\"],[0.2222222222222222,\"#7201a8\"],[0.3333333333333333,\"#9c179e\"],[0.4444444444444444,\"#bd3786\"],[0.5555555555555556,\"#d8576b\"],[0.6666666666666666,\"#ed7953\"],[0.7777777777777778,\"#fb9f3a\"],[0.8888888888888888,\"#fdca26\"],[1.0,\"#f0f921\"]],\"type\":\"histogram2dcontour\"}],\"histogram2d\":[{\"colorbar\":{\"outlinewidth\":0,\"ticks\":\"\"},\"colorscale\":[[0.0,\"#0d0887\"],[0.1111111111111111,\"#46039f\"],[0.2222222222222222,\"#7201a8\"],[0.3333333333333333,\"#9c179e\"],[0.4444444444444444,\"#bd3786\"],[0.5555555555555556,\"#d8576b\"],[0.6666666666666666,\"#ed7953\"],[0.7777777777777778,\"#fb9f3a\"],[0.8888888888888888,\"#fdca26\"],[1.0,\"#f0f921\"]],\"type\":\"histogram2d\"}],\"histogram\":[{\"marker\":{\"pattern\":{\"fillmode\":\"overlay\",\"size\":10,\"solidity\":0.2}},\"type\":\"histogram\"}],\"mesh3d\":[{\"colorbar\":{\"outlinewidth\":0,\"ticks\":\"\"},\"type\":\"mesh3d\"}],\"parcoords\":[{\"line\":{\"colorbar\":{\"outlinewidth\":0,\"ticks\":\"\"}},\"type\":\"parcoords\"}],\"pie\":[{\"automargin\":true,\"type\":\"pie\"}],\"scatter3d\":[{\"line\":{\"colorbar\":{\"outlinewidth\":0,\"ticks\":\"\"}},\"marker\":{\"colorbar\":{\"outlinewidth\":0,\"ticks\":\"\"}},\"type\":\"scatter3d\"}],\"scattercarpet\":[{\"marker\":{\"colorbar\":{\"outlinewidth\":0,\"ticks\":\"\"}},\"type\":\"scattercarpet\"}],\"scattergeo\":[{\"marker\":{\"colorbar\":{\"outlinewidth\":0,\"ticks\":\"\"}},\"type\":\"scattergeo\"}],\"scattergl\":[{\"marker\":{\"line\":{\"color\":\"#283442\"}},\"type\":\"scattergl\"}],\"scattermapbox\":[{\"marker\":{\"colorbar\":{\"outlinewidth\":0,\"ticks\":\"\"}},\"type\":\"scattermapbox\"}],\"scatterpolargl\":[{\"marker\":{\"colorbar\":{\"outlinewidth\":0,\"ticks\":\"\"}},\"type\":\"scatterpolargl\"}],\"scatterpolar\":[{\"marker\":{\"colorbar\":{\"outlinewidth\":0,\"ticks\":\"\"}},\"type\":\"scatterpolar\"}],\"scatter\":[{\"marker\":{\"line\":{\"color\":\"#283442\"}},\"type\":\"scatter\"}],\"scatterternary\":[{\"marker\":{\"colorbar\":{\"outlinewidth\":0,\"ticks\":\"\"}},\"type\":\"scatterternary\"}],\"surface\":[{\"colorbar\":{\"outlinewidth\":0,\"ticks\":\"\"},\"colorscale\":[[0.0,\"#0d0887\"],[0.1111111111111111,\"#46039f\"],[0.2222222222222222,\"#7201a8\"],[0.3333333333333333,\"#9c179e\"],[0.4444444444444444,\"#bd3786\"],[0.5555555555555556,\"#d8576b\"],[0.6666666666666666,\"#ed7953\"],[0.7777777777777778,\"#fb9f3a\"],[0.8888888888888888,\"#fdca26\"],[1.0,\"#f0f921\"]],\"type\":\"surface\"}],\"table\":[{\"cells\":{\"fill\":{\"color\":\"#506784\"},\"line\":{\"color\":\"rgb(17,17,17)\"}},\"header\":{\"fill\":{\"color\":\"#2a3f5f\"},\"line\":{\"color\":\"rgb(17,17,17)\"}},\"type\":\"table\"}]},\"layout\":{\"annotationdefaults\":{\"arrowcolor\":\"#f2f5fa\",\"arrowhead\":0,\"arrowwidth\":1},\"autotypenumbers\":\"strict\",\"coloraxis\":{\"colorbar\":{\"outlinewidth\":0,\"ticks\":\"\"}},\"colorscale\":{\"diverging\":[[0,\"#8e0152\"],[0.1,\"#c51b7d\"],[0.2,\"#de77ae\"],[0.3,\"#f1b6da\"],[0.4,\"#fde0ef\"],[0.5,\"#f7f7f7\"],[0.6,\"#e6f5d0\"],[0.7,\"#b8e186\"],[0.8,\"#7fbc41\"],[0.9,\"#4d9221\"],[1,\"#276419\"]],\"sequential\":[[0.0,\"#0d0887\"],[0.1111111111111111,\"#46039f\"],[0.2222222222222222,\"#7201a8\"],[0.3333333333333333,\"#9c179e\"],[0.4444444444444444,\"#bd3786\"],[0.5555555555555556,\"#d8576b\"],[0.6666666666666666,\"#ed7953\"],[0.7777777777777778,\"#fb9f3a\"],[0.8888888888888888,\"#fdca26\"],[1.0,\"#f0f921\"]],\"sequentialminus\":[[0.0,\"#0d0887\"],[0.1111111111111111,\"#46039f\"],[0.2222222222222222,\"#7201a8\"],[0.3333333333333333,\"#9c179e\"],[0.4444444444444444,\"#bd3786\"],[0.5555555555555556,\"#d8576b\"],[0.6666666666666666,\"#ed7953\"],[0.7777777777777778,\"#fb9f3a\"],[0.8888888888888888,\"#fdca26\"],[1.0,\"#f0f921\"]]},\"colorway\":[\"#636efa\",\"#EF553B\",\"#00cc96\",\"#ab63fa\",\"#FFA15A\",\"#19d3f3\",\"#FF6692\",\"#B6E880\",\"#FF97FF\",\"#FECB52\"],\"font\":{\"color\":\"#f2f5fa\"},\"geo\":{\"bgcolor\":\"rgb(17,17,17)\",\"lakecolor\":\"rgb(17,17,17)\",\"landcolor\":\"rgb(17,17,17)\",\"showlakes\":true,\"showland\":true,\"subunitcolor\":\"#506784\"},\"hoverlabel\":{\"align\":\"left\"},\"hovermode\":\"closest\",\"mapbox\":{\"style\":\"dark\"},\"paper_bgcolor\":\"rgb(17,17,17)\",\"plot_bgcolor\":\"rgb(17,17,17)\",\"polar\":{\"angularaxis\":{\"gridcolor\":\"#506784\",\"linecolor\":\"#506784\",\"ticks\":\"\"},\"bgcolor\":\"rgb(17,17,17)\",\"radialaxis\":{\"gridcolor\":\"#506784\",\"linecolor\":\"#506784\",\"ticks\":\"\"}},\"scene\":{\"xaxis\":{\"backgroundcolor\":\"rgb(17,17,17)\",\"gridcolor\":\"#506784\",\"gridwidth\":2,\"linecolor\":\"#506784\",\"showbackground\":true,\"ticks\":\"\",\"zerolinecolor\":\"#C8D4E3\"},\"yaxis\":{\"backgroundcolor\":\"rgb(17,17,17)\",\"gridcolor\":\"#506784\",\"gridwidth\":2,\"linecolor\":\"#506784\",\"showbackground\":true,\"ticks\":\"\",\"zerolinecolor\":\"#C8D4E3\"},\"zaxis\":{\"backgroundcolor\":\"rgb(17,17,17)\",\"gridcolor\":\"#506784\",\"gridwidth\":2,\"linecolor\":\"#506784\",\"showbackground\":true,\"ticks\":\"\",\"zerolinecolor\":\"#C8D4E3\"}},\"shapedefaults\":{\"line\":{\"color\":\"#f2f5fa\"}},\"sliderdefaults\":{\"bgcolor\":\"#C8D4E3\",\"bordercolor\":\"rgb(17,17,17)\",\"borderwidth\":1,\"tickwidth\":0},\"ternary\":{\"aaxis\":{\"gridcolor\":\"#506784\",\"linecolor\":\"#506784\",\"ticks\":\"\"},\"baxis\":{\"gridcolor\":\"#506784\",\"linecolor\":\"#506784\",\"ticks\":\"\"},\"bgcolor\":\"rgb(17,17,17)\",\"caxis\":{\"gridcolor\":\"#506784\",\"linecolor\":\"#506784\",\"ticks\":\"\"}},\"title\":{\"x\":0.05},\"updatemenudefaults\":{\"bgcolor\":\"#506784\",\"borderwidth\":0},\"xaxis\":{\"automargin\":true,\"gridcolor\":\"#283442\",\"linecolor\":\"#506784\",\"ticks\":\"\",\"title\":{\"standoff\":15},\"zerolinecolor\":\"#283442\",\"zerolinewidth\":2},\"yaxis\":{\"automargin\":true,\"gridcolor\":\"#283442\",\"linecolor\":\"#506784\",\"ticks\":\"\",\"title\":{\"standoff\":15},\"zerolinecolor\":\"#283442\",\"zerolinewidth\":2}}},\"xaxis\":{\"anchor\":\"y\",\"domain\":[0.0,1.0],\"title\":{\"text\":\"PREFERRED_CATEGORY\"},\"categoryorder\":\"array\",\"categoryarray\":[\"Electronics\",\"Appliances\",\"Beauty\",\"Fashion\"]},\"yaxis\":{\"anchor\":\"x\",\"domain\":[0.0,1.0],\"title\":{\"text\":\"COUNT\"}},\"legend\":{\"title\":{\"text\":\"PREFERRED_CATEGORY\"},\"tracegroupgap\":0},\"title\":{\"text\":\"Distribution of Gender on the basis of Category\",\"font\":{\"size\":15,\"color\":\"Cyan\"}},\"barmode\":\"relative\"},                        {\"responsive\": true}                    ).then(function(){\n",
              "                            \n",
              "var gd = document.getElementById('01906301-86d2-422a-91f4-10a8942327d4');\n",
              "var x = new MutationObserver(function (mutations, observer) {{\n",
              "        var display = window.getComputedStyle(gd).display;\n",
              "        if (!display || display === 'none') {{\n",
              "            console.log([gd, 'removed!']);\n",
              "            Plotly.purge(gd);\n",
              "            observer.disconnect();\n",
              "        }}\n",
              "}});\n",
              "\n",
              "// Listen for the removal of the full notebook cells\n",
              "var notebookContainer = gd.closest('#notebook-container');\n",
              "if (notebookContainer) {{\n",
              "    x.observe(notebookContainer, {childList: true});\n",
              "}}\n",
              "\n",
              "// Listen for the clearing of the current output cell\n",
              "var outputEl = gd.closest('.output');\n",
              "if (outputEl) {{\n",
              "    x.observe(outputEl, {childList: true});\n",
              "}}\n",
              "\n",
              "                        })                };                            </script>        </div>\n",
              "</body>\n",
              "</html>"
            ]
          },
          "metadata": {}
        }
      ]
    },
    {
      "cell_type": "markdown",
      "source": [
        "#Scatter plot of Preferred Category:"
      ],
      "metadata": {
        "id": "qDCmw3rwJYw1"
      }
    },
    {
      "cell_type": "code",
      "source": [
        "category_codes = {'Electronics':1,'Appliances':2,'Beauty':3,'Fashion':4}\n",
        "file['Category_Code'] = file['PREFERRED_CATEGORY'].map(category_codes)\n",
        "fig_scatter_category = px.scatter(data_frame=file, x='PREFERRED_CATEGORY', y='Category_Code',color='PREFERRED_CATEGORY',size='AGE',title='Scatter Plot: Preferred Category',labels={'ANNUAL_INCOME (USD)': 'Annual Income (USD)',\n",
        "                                          'TOTAL_PURCHASE': 'Total Purchase'})\n",
        "fig_scatter_category.show()"
      ],
      "metadata": {
        "colab": {
          "base_uri": "https://localhost:8080/",
          "height": 542
        },
        "id": "U9nK7inMJeT_",
        "outputId": "2c3e5c4d-3548-4132-a0bc-3564a50f8d69"
      },
      "execution_count": 13,
      "outputs": [
        {
          "output_type": "display_data",
          "data": {
            "text/html": [
              "<html>\n",
              "<head><meta charset=\"utf-8\" /></head>\n",
              "<body>\n",
              "    <div>            <script src=\"https://cdnjs.cloudflare.com/ajax/libs/mathjax/2.7.5/MathJax.js?config=TeX-AMS-MML_SVG\"></script><script type=\"text/javascript\">if (window.MathJax && window.MathJax.Hub && window.MathJax.Hub.Config) {window.MathJax.Hub.Config({SVG: {font: \"STIX-Web\"}});}</script>                <script type=\"text/javascript\">window.PlotlyConfig = {MathJaxConfig: 'local'};</script>\n",
              "        <script src=\"https://cdn.plot.ly/plotly-2.18.2.min.js\"></script>                <div id=\"52e3a0fa-4715-427b-9ed6-4d94049a8815\" class=\"plotly-graph-div\" style=\"height:525px; width:100%;\"></div>            <script type=\"text/javascript\">                                    window.PLOTLYENV=window.PLOTLYENV || {};                                    if (document.getElementById(\"52e3a0fa-4715-427b-9ed6-4d94049a8815\")) {                    Plotly.newPlot(                        \"52e3a0fa-4715-427b-9ed6-4d94049a8815\",                        [{\"hovertemplate\":\"PREFERRED_CATEGORY=%{x}<br>Category_Code=%{y}<br>AGE=%{marker.size}<extra></extra>\",\"legendgroup\":\"Electronics\",\"marker\":{\"color\":\"#636efa\",\"size\":[56,56,36,40,28,53,57,41,39,19,47,19,39,59,56,35,42,43,37,45,64,61,64,52,31,21,19,61,40,38,64,43,58,32,18,24,18,61,25,52,50,61,57,43,32,32,56,40,56,62,24,45,45,44,56,23,59,41,20,34,50,36,43,49,49,33,37,53,20,36,28,40,48,47,18,26,52,41,25,55,63,19,50,38,37,63,55,25,44,36,61,54,46,50,35,42,48,41,40,41,18,29,49,39,59,54,56,62,49,47,43,29,18,64,57,18,39,20,43,54,47,63,29,43,43,53,27,49,62,45,41,52],\"sizemode\":\"area\",\"sizeref\":0.16,\"symbol\":\"circle\"},\"mode\":\"markers\",\"name\":\"Electronics\",\"orientation\":\"v\",\"showlegend\":true,\"x\":[\"Electronics\",\"Electronics\",\"Electronics\",\"Electronics\",\"Electronics\",\"Electronics\",\"Electronics\",\"Electronics\",\"Electronics\",\"Electronics\",\"Electronics\",\"Electronics\",\"Electronics\",\"Electronics\",\"Electronics\",\"Electronics\",\"Electronics\",\"Electronics\",\"Electronics\",\"Electronics\",\"Electronics\",\"Electronics\",\"Electronics\",\"Electronics\",\"Electronics\",\"Electronics\",\"Electronics\",\"Electronics\",\"Electronics\",\"Electronics\",\"Electronics\",\"Electronics\",\"Electronics\",\"Electronics\",\"Electronics\",\"Electronics\",\"Electronics\",\"Electronics\",\"Electronics\",\"Electronics\",\"Electronics\",\"Electronics\",\"Electronics\",\"Electronics\",\"Electronics\",\"Electronics\",\"Electronics\",\"Electronics\",\"Electronics\",\"Electronics\",\"Electronics\",\"Electronics\",\"Electronics\",\"Electronics\",\"Electronics\",\"Electronics\",\"Electronics\",\"Electronics\",\"Electronics\",\"Electronics\",\"Electronics\",\"Electronics\",\"Electronics\",\"Electronics\",\"Electronics\",\"Electronics\",\"Electronics\",\"Electronics\",\"Electronics\",\"Electronics\",\"Electronics\",\"Electronics\",\"Electronics\",\"Electronics\",\"Electronics\",\"Electronics\",\"Electronics\",\"Electronics\",\"Electronics\",\"Electronics\",\"Electronics\",\"Electronics\",\"Electronics\",\"Electronics\",\"Electronics\",\"Electronics\",\"Electronics\",\"Electronics\",\"Electronics\",\"Electronics\",\"Electronics\",\"Electronics\",\"Electronics\",\"Electronics\",\"Electronics\",\"Electronics\",\"Electronics\",\"Electronics\",\"Electronics\",\"Electronics\",\"Electronics\",\"Electronics\",\"Electronics\",\"Electronics\",\"Electronics\",\"Electronics\",\"Electronics\",\"Electronics\",\"Electronics\",\"Electronics\",\"Electronics\",\"Electronics\",\"Electronics\",\"Electronics\",\"Electronics\",\"Electronics\",\"Electronics\",\"Electronics\",\"Electronics\",\"Electronics\",\"Electronics\",\"Electronics\",\"Electronics\",\"Electronics\",\"Electronics\",\"Electronics\",\"Electronics\",\"Electronics\",\"Electronics\",\"Electronics\",\"Electronics\",\"Electronics\"],\"xaxis\":\"x\",\"y\":[1,1,1,1,1,1,1,1,1,1,1,1,1,1,1,1,1,1,1,1,1,1,1,1,1,1,1,1,1,1,1,1,1,1,1,1,1,1,1,1,1,1,1,1,1,1,1,1,1,1,1,1,1,1,1,1,1,1,1,1,1,1,1,1,1,1,1,1,1,1,1,1,1,1,1,1,1,1,1,1,1,1,1,1,1,1,1,1,1,1,1,1,1,1,1,1,1,1,1,1,1,1,1,1,1,1,1,1,1,1,1,1,1,1,1,1,1,1,1,1,1,1,1,1,1,1,1,1,1,1,1,1],\"yaxis\":\"y\",\"type\":\"scatter\"},{\"hovertemplate\":\"PREFERRED_CATEGORY=%{x}<br>Category_Code=%{y}<br>AGE=%{marker.size}<extra></extra>\",\"legendgroup\":\"Appliances\",\"marker\":{\"color\":\"#EF553B\",\"size\":[46,60,28,41,20,45,33,64,24,31,26,19,34,23,59,21,31,25,59,58,52,39,44,54,64,43,30,21,54,32,46,30,49,62,23,42,50,58,26,50,61,41,49,19,19,40,61,23,21,34,41,50,26,46,36,43,58,45,33,29,20,37,42,46,35,33,21,20,34,50,29,39,47,55,62,64,21,46,23,58,41,63,38,49,40,49,44,57,26,60,56,24,62,63,33,31,39,23,23,64,36,36,40,51,49,33,56,22,46,46,45,22,38,47,54,27,51,22,21,33,50],\"sizemode\":\"area\",\"sizeref\":0.16,\"symbol\":\"circle\"},\"mode\":\"markers\",\"name\":\"Appliances\",\"orientation\":\"v\",\"showlegend\":true,\"x\":[\"Appliances\",\"Appliances\",\"Appliances\",\"Appliances\",\"Appliances\",\"Appliances\",\"Appliances\",\"Appliances\",\"Appliances\",\"Appliances\",\"Appliances\",\"Appliances\",\"Appliances\",\"Appliances\",\"Appliances\",\"Appliances\",\"Appliances\",\"Appliances\",\"Appliances\",\"Appliances\",\"Appliances\",\"Appliances\",\"Appliances\",\"Appliances\",\"Appliances\",\"Appliances\",\"Appliances\",\"Appliances\",\"Appliances\",\"Appliances\",\"Appliances\",\"Appliances\",\"Appliances\",\"Appliances\",\"Appliances\",\"Appliances\",\"Appliances\",\"Appliances\",\"Appliances\",\"Appliances\",\"Appliances\",\"Appliances\",\"Appliances\",\"Appliances\",\"Appliances\",\"Appliances\",\"Appliances\",\"Appliances\",\"Appliances\",\"Appliances\",\"Appliances\",\"Appliances\",\"Appliances\",\"Appliances\",\"Appliances\",\"Appliances\",\"Appliances\",\"Appliances\",\"Appliances\",\"Appliances\",\"Appliances\",\"Appliances\",\"Appliances\",\"Appliances\",\"Appliances\",\"Appliances\",\"Appliances\",\"Appliances\",\"Appliances\",\"Appliances\",\"Appliances\",\"Appliances\",\"Appliances\",\"Appliances\",\"Appliances\",\"Appliances\",\"Appliances\",\"Appliances\",\"Appliances\",\"Appliances\",\"Appliances\",\"Appliances\",\"Appliances\",\"Appliances\",\"Appliances\",\"Appliances\",\"Appliances\",\"Appliances\",\"Appliances\",\"Appliances\",\"Appliances\",\"Appliances\",\"Appliances\",\"Appliances\",\"Appliances\",\"Appliances\",\"Appliances\",\"Appliances\",\"Appliances\",\"Appliances\",\"Appliances\",\"Appliances\",\"Appliances\",\"Appliances\",\"Appliances\",\"Appliances\",\"Appliances\",\"Appliances\",\"Appliances\",\"Appliances\",\"Appliances\",\"Appliances\",\"Appliances\",\"Appliances\",\"Appliances\",\"Appliances\",\"Appliances\",\"Appliances\",\"Appliances\",\"Appliances\",\"Appliances\"],\"xaxis\":\"x\",\"y\":[2,2,2,2,2,2,2,2,2,2,2,2,2,2,2,2,2,2,2,2,2,2,2,2,2,2,2,2,2,2,2,2,2,2,2,2,2,2,2,2,2,2,2,2,2,2,2,2,2,2,2,2,2,2,2,2,2,2,2,2,2,2,2,2,2,2,2,2,2,2,2,2,2,2,2,2,2,2,2,2,2,2,2,2,2,2,2,2,2,2,2,2,2,2,2,2,2,2,2,2,2,2,2,2,2,2,2,2,2,2,2,2,2,2,2,2,2,2,2,2,2],\"yaxis\":\"y\",\"type\":\"scatter\"},{\"hovertemplate\":\"PREFERRED_CATEGORY=%{x}<br>Category_Code=%{y}<br>AGE=%{marker.size}<extra></extra>\",\"legendgroup\":\"Beauty\",\"marker\":{\"color\":\"#00cc96\",\"size\":[32,38,55,50,29,44,26,27,53,32,57,62,41,46,26,41,25,28,56,24,25,29,51,50,41,54,31,31,59,49,60,53,19,61,56,18,20,44,56,19,54,49,19,22,51,28,23,37,24,50,57,56,35,42,52,24,43,19,22,49,36,53,52,35,58,53,50,51,47,50,45,22,34,52,52,20,57,64,59,46,59,42,30,53,40,51,42,39,32,50,61,61,22,30,59,47,34,43,54,42,62,29,33,39,31,64,22,53,48,49],\"sizemode\":\"area\",\"sizeref\":0.16,\"symbol\":\"circle\"},\"mode\":\"markers\",\"name\":\"Beauty\",\"orientation\":\"v\",\"showlegend\":true,\"x\":[\"Beauty\",\"Beauty\",\"Beauty\",\"Beauty\",\"Beauty\",\"Beauty\",\"Beauty\",\"Beauty\",\"Beauty\",\"Beauty\",\"Beauty\",\"Beauty\",\"Beauty\",\"Beauty\",\"Beauty\",\"Beauty\",\"Beauty\",\"Beauty\",\"Beauty\",\"Beauty\",\"Beauty\",\"Beauty\",\"Beauty\",\"Beauty\",\"Beauty\",\"Beauty\",\"Beauty\",\"Beauty\",\"Beauty\",\"Beauty\",\"Beauty\",\"Beauty\",\"Beauty\",\"Beauty\",\"Beauty\",\"Beauty\",\"Beauty\",\"Beauty\",\"Beauty\",\"Beauty\",\"Beauty\",\"Beauty\",\"Beauty\",\"Beauty\",\"Beauty\",\"Beauty\",\"Beauty\",\"Beauty\",\"Beauty\",\"Beauty\",\"Beauty\",\"Beauty\",\"Beauty\",\"Beauty\",\"Beauty\",\"Beauty\",\"Beauty\",\"Beauty\",\"Beauty\",\"Beauty\",\"Beauty\",\"Beauty\",\"Beauty\",\"Beauty\",\"Beauty\",\"Beauty\",\"Beauty\",\"Beauty\",\"Beauty\",\"Beauty\",\"Beauty\",\"Beauty\",\"Beauty\",\"Beauty\",\"Beauty\",\"Beauty\",\"Beauty\",\"Beauty\",\"Beauty\",\"Beauty\",\"Beauty\",\"Beauty\",\"Beauty\",\"Beauty\",\"Beauty\",\"Beauty\",\"Beauty\",\"Beauty\",\"Beauty\",\"Beauty\",\"Beauty\",\"Beauty\",\"Beauty\",\"Beauty\",\"Beauty\",\"Beauty\",\"Beauty\",\"Beauty\",\"Beauty\",\"Beauty\",\"Beauty\",\"Beauty\",\"Beauty\",\"Beauty\",\"Beauty\",\"Beauty\",\"Beauty\",\"Beauty\",\"Beauty\",\"Beauty\"],\"xaxis\":\"x\",\"y\":[3,3,3,3,3,3,3,3,3,3,3,3,3,3,3,3,3,3,3,3,3,3,3,3,3,3,3,3,3,3,3,3,3,3,3,3,3,3,3,3,3,3,3,3,3,3,3,3,3,3,3,3,3,3,3,3,3,3,3,3,3,3,3,3,3,3,3,3,3,3,3,3,3,3,3,3,3,3,3,3,3,3,3,3,3,3,3,3,3,3,3,3,3,3,3,3,3,3,3,3,3,3,3,3,3,3,3,3,3,3],\"yaxis\":\"y\",\"type\":\"scatter\"},{\"hovertemplate\":\"PREFERRED_CATEGORY=%{x}<br>Category_Code=%{y}<br>AGE=%{marker.size}<extra></extra>\",\"legendgroup\":\"Fashion\",\"marker\":{\"color\":\"#ab63fa\",\"size\":[25,41,61,38,61,42,32,61,20,54,38,21,24,25,53,57,46,35,43,51,48,31,33,35,42,62,62,42,41,34,52,22,45,26,40,52,18,52,20,18,22,56,44,26,49,47,39,45,59,61,37,47,28,45,30,25,54,32,49,58,29,54,45,18,28,55,23,39,33,20,49,57,18,59,54,58,33,41,50,28,57,37,42,52,52,31,25,24,39,44,38,50,52,45,47,63,48,50,20,59,63,39,19,19,43,34,50,43,52,37,25,32,45,19,40,60,25,21,52,57,33,45,26,18,22,33,56,50,40,36,18,41,33,19,44,37,29],\"sizemode\":\"area\",\"sizeref\":0.16,\"symbol\":\"circle\"},\"mode\":\"markers\",\"name\":\"Fashion\",\"orientation\":\"v\",\"showlegend\":true,\"x\":[\"Fashion\",\"Fashion\",\"Fashion\",\"Fashion\",\"Fashion\",\"Fashion\",\"Fashion\",\"Fashion\",\"Fashion\",\"Fashion\",\"Fashion\",\"Fashion\",\"Fashion\",\"Fashion\",\"Fashion\",\"Fashion\",\"Fashion\",\"Fashion\",\"Fashion\",\"Fashion\",\"Fashion\",\"Fashion\",\"Fashion\",\"Fashion\",\"Fashion\",\"Fashion\",\"Fashion\",\"Fashion\",\"Fashion\",\"Fashion\",\"Fashion\",\"Fashion\",\"Fashion\",\"Fashion\",\"Fashion\",\"Fashion\",\"Fashion\",\"Fashion\",\"Fashion\",\"Fashion\",\"Fashion\",\"Fashion\",\"Fashion\",\"Fashion\",\"Fashion\",\"Fashion\",\"Fashion\",\"Fashion\",\"Fashion\",\"Fashion\",\"Fashion\",\"Fashion\",\"Fashion\",\"Fashion\",\"Fashion\",\"Fashion\",\"Fashion\",\"Fashion\",\"Fashion\",\"Fashion\",\"Fashion\",\"Fashion\",\"Fashion\",\"Fashion\",\"Fashion\",\"Fashion\",\"Fashion\",\"Fashion\",\"Fashion\",\"Fashion\",\"Fashion\",\"Fashion\",\"Fashion\",\"Fashion\",\"Fashion\",\"Fashion\",\"Fashion\",\"Fashion\",\"Fashion\",\"Fashion\",\"Fashion\",\"Fashion\",\"Fashion\",\"Fashion\",\"Fashion\",\"Fashion\",\"Fashion\",\"Fashion\",\"Fashion\",\"Fashion\",\"Fashion\",\"Fashion\",\"Fashion\",\"Fashion\",\"Fashion\",\"Fashion\",\"Fashion\",\"Fashion\",\"Fashion\",\"Fashion\",\"Fashion\",\"Fashion\",\"Fashion\",\"Fashion\",\"Fashion\",\"Fashion\",\"Fashion\",\"Fashion\",\"Fashion\",\"Fashion\",\"Fashion\",\"Fashion\",\"Fashion\",\"Fashion\",\"Fashion\",\"Fashion\",\"Fashion\",\"Fashion\",\"Fashion\",\"Fashion\",\"Fashion\",\"Fashion\",\"Fashion\",\"Fashion\",\"Fashion\",\"Fashion\",\"Fashion\",\"Fashion\",\"Fashion\",\"Fashion\",\"Fashion\",\"Fashion\",\"Fashion\",\"Fashion\",\"Fashion\",\"Fashion\",\"Fashion\"],\"xaxis\":\"x\",\"y\":[4,4,4,4,4,4,4,4,4,4,4,4,4,4,4,4,4,4,4,4,4,4,4,4,4,4,4,4,4,4,4,4,4,4,4,4,4,4,4,4,4,4,4,4,4,4,4,4,4,4,4,4,4,4,4,4,4,4,4,4,4,4,4,4,4,4,4,4,4,4,4,4,4,4,4,4,4,4,4,4,4,4,4,4,4,4,4,4,4,4,4,4,4,4,4,4,4,4,4,4,4,4,4,4,4,4,4,4,4,4,4,4,4,4,4,4,4,4,4,4,4,4,4,4,4,4,4,4,4,4,4,4,4,4,4,4,4],\"yaxis\":\"y\",\"type\":\"scatter\"}],                        {\"template\":{\"data\":{\"histogram2dcontour\":[{\"type\":\"histogram2dcontour\",\"colorbar\":{\"outlinewidth\":0,\"ticks\":\"\"},\"colorscale\":[[0.0,\"#0d0887\"],[0.1111111111111111,\"#46039f\"],[0.2222222222222222,\"#7201a8\"],[0.3333333333333333,\"#9c179e\"],[0.4444444444444444,\"#bd3786\"],[0.5555555555555556,\"#d8576b\"],[0.6666666666666666,\"#ed7953\"],[0.7777777777777778,\"#fb9f3a\"],[0.8888888888888888,\"#fdca26\"],[1.0,\"#f0f921\"]]}],\"choropleth\":[{\"type\":\"choropleth\",\"colorbar\":{\"outlinewidth\":0,\"ticks\":\"\"}}],\"histogram2d\":[{\"type\":\"histogram2d\",\"colorbar\":{\"outlinewidth\":0,\"ticks\":\"\"},\"colorscale\":[[0.0,\"#0d0887\"],[0.1111111111111111,\"#46039f\"],[0.2222222222222222,\"#7201a8\"],[0.3333333333333333,\"#9c179e\"],[0.4444444444444444,\"#bd3786\"],[0.5555555555555556,\"#d8576b\"],[0.6666666666666666,\"#ed7953\"],[0.7777777777777778,\"#fb9f3a\"],[0.8888888888888888,\"#fdca26\"],[1.0,\"#f0f921\"]]}],\"heatmap\":[{\"type\":\"heatmap\",\"colorbar\":{\"outlinewidth\":0,\"ticks\":\"\"},\"colorscale\":[[0.0,\"#0d0887\"],[0.1111111111111111,\"#46039f\"],[0.2222222222222222,\"#7201a8\"],[0.3333333333333333,\"#9c179e\"],[0.4444444444444444,\"#bd3786\"],[0.5555555555555556,\"#d8576b\"],[0.6666666666666666,\"#ed7953\"],[0.7777777777777778,\"#fb9f3a\"],[0.8888888888888888,\"#fdca26\"],[1.0,\"#f0f921\"]]}],\"heatmapgl\":[{\"type\":\"heatmapgl\",\"colorbar\":{\"outlinewidth\":0,\"ticks\":\"\"},\"colorscale\":[[0.0,\"#0d0887\"],[0.1111111111111111,\"#46039f\"],[0.2222222222222222,\"#7201a8\"],[0.3333333333333333,\"#9c179e\"],[0.4444444444444444,\"#bd3786\"],[0.5555555555555556,\"#d8576b\"],[0.6666666666666666,\"#ed7953\"],[0.7777777777777778,\"#fb9f3a\"],[0.8888888888888888,\"#fdca26\"],[1.0,\"#f0f921\"]]}],\"contourcarpet\":[{\"type\":\"contourcarpet\",\"colorbar\":{\"outlinewidth\":0,\"ticks\":\"\"}}],\"contour\":[{\"type\":\"contour\",\"colorbar\":{\"outlinewidth\":0,\"ticks\":\"\"},\"colorscale\":[[0.0,\"#0d0887\"],[0.1111111111111111,\"#46039f\"],[0.2222222222222222,\"#7201a8\"],[0.3333333333333333,\"#9c179e\"],[0.4444444444444444,\"#bd3786\"],[0.5555555555555556,\"#d8576b\"],[0.6666666666666666,\"#ed7953\"],[0.7777777777777778,\"#fb9f3a\"],[0.8888888888888888,\"#fdca26\"],[1.0,\"#f0f921\"]]}],\"surface\":[{\"type\":\"surface\",\"colorbar\":{\"outlinewidth\":0,\"ticks\":\"\"},\"colorscale\":[[0.0,\"#0d0887\"],[0.1111111111111111,\"#46039f\"],[0.2222222222222222,\"#7201a8\"],[0.3333333333333333,\"#9c179e\"],[0.4444444444444444,\"#bd3786\"],[0.5555555555555556,\"#d8576b\"],[0.6666666666666666,\"#ed7953\"],[0.7777777777777778,\"#fb9f3a\"],[0.8888888888888888,\"#fdca26\"],[1.0,\"#f0f921\"]]}],\"mesh3d\":[{\"type\":\"mesh3d\",\"colorbar\":{\"outlinewidth\":0,\"ticks\":\"\"}}],\"scatter\":[{\"fillpattern\":{\"fillmode\":\"overlay\",\"size\":10,\"solidity\":0.2},\"type\":\"scatter\"}],\"parcoords\":[{\"type\":\"parcoords\",\"line\":{\"colorbar\":{\"outlinewidth\":0,\"ticks\":\"\"}}}],\"scatterpolargl\":[{\"type\":\"scatterpolargl\",\"marker\":{\"colorbar\":{\"outlinewidth\":0,\"ticks\":\"\"}}}],\"bar\":[{\"error_x\":{\"color\":\"#2a3f5f\"},\"error_y\":{\"color\":\"#2a3f5f\"},\"marker\":{\"line\":{\"color\":\"#E5ECF6\",\"width\":0.5},\"pattern\":{\"fillmode\":\"overlay\",\"size\":10,\"solidity\":0.2}},\"type\":\"bar\"}],\"scattergeo\":[{\"type\":\"scattergeo\",\"marker\":{\"colorbar\":{\"outlinewidth\":0,\"ticks\":\"\"}}}],\"scatterpolar\":[{\"type\":\"scatterpolar\",\"marker\":{\"colorbar\":{\"outlinewidth\":0,\"ticks\":\"\"}}}],\"histogram\":[{\"marker\":{\"pattern\":{\"fillmode\":\"overlay\",\"size\":10,\"solidity\":0.2}},\"type\":\"histogram\"}],\"scattergl\":[{\"type\":\"scattergl\",\"marker\":{\"colorbar\":{\"outlinewidth\":0,\"ticks\":\"\"}}}],\"scatter3d\":[{\"type\":\"scatter3d\",\"line\":{\"colorbar\":{\"outlinewidth\":0,\"ticks\":\"\"}},\"marker\":{\"colorbar\":{\"outlinewidth\":0,\"ticks\":\"\"}}}],\"scattermapbox\":[{\"type\":\"scattermapbox\",\"marker\":{\"colorbar\":{\"outlinewidth\":0,\"ticks\":\"\"}}}],\"scatterternary\":[{\"type\":\"scatterternary\",\"marker\":{\"colorbar\":{\"outlinewidth\":0,\"ticks\":\"\"}}}],\"scattercarpet\":[{\"type\":\"scattercarpet\",\"marker\":{\"colorbar\":{\"outlinewidth\":0,\"ticks\":\"\"}}}],\"carpet\":[{\"aaxis\":{\"endlinecolor\":\"#2a3f5f\",\"gridcolor\":\"white\",\"linecolor\":\"white\",\"minorgridcolor\":\"white\",\"startlinecolor\":\"#2a3f5f\"},\"baxis\":{\"endlinecolor\":\"#2a3f5f\",\"gridcolor\":\"white\",\"linecolor\":\"white\",\"minorgridcolor\":\"white\",\"startlinecolor\":\"#2a3f5f\"},\"type\":\"carpet\"}],\"table\":[{\"cells\":{\"fill\":{\"color\":\"#EBF0F8\"},\"line\":{\"color\":\"white\"}},\"header\":{\"fill\":{\"color\":\"#C8D4E3\"},\"line\":{\"color\":\"white\"}},\"type\":\"table\"}],\"barpolar\":[{\"marker\":{\"line\":{\"color\":\"#E5ECF6\",\"width\":0.5},\"pattern\":{\"fillmode\":\"overlay\",\"size\":10,\"solidity\":0.2}},\"type\":\"barpolar\"}],\"pie\":[{\"automargin\":true,\"type\":\"pie\"}]},\"layout\":{\"autotypenumbers\":\"strict\",\"colorway\":[\"#636efa\",\"#EF553B\",\"#00cc96\",\"#ab63fa\",\"#FFA15A\",\"#19d3f3\",\"#FF6692\",\"#B6E880\",\"#FF97FF\",\"#FECB52\"],\"font\":{\"color\":\"#2a3f5f\"},\"hovermode\":\"closest\",\"hoverlabel\":{\"align\":\"left\"},\"paper_bgcolor\":\"white\",\"plot_bgcolor\":\"#E5ECF6\",\"polar\":{\"bgcolor\":\"#E5ECF6\",\"angularaxis\":{\"gridcolor\":\"white\",\"linecolor\":\"white\",\"ticks\":\"\"},\"radialaxis\":{\"gridcolor\":\"white\",\"linecolor\":\"white\",\"ticks\":\"\"}},\"ternary\":{\"bgcolor\":\"#E5ECF6\",\"aaxis\":{\"gridcolor\":\"white\",\"linecolor\":\"white\",\"ticks\":\"\"},\"baxis\":{\"gridcolor\":\"white\",\"linecolor\":\"white\",\"ticks\":\"\"},\"caxis\":{\"gridcolor\":\"white\",\"linecolor\":\"white\",\"ticks\":\"\"}},\"coloraxis\":{\"colorbar\":{\"outlinewidth\":0,\"ticks\":\"\"}},\"colorscale\":{\"sequential\":[[0.0,\"#0d0887\"],[0.1111111111111111,\"#46039f\"],[0.2222222222222222,\"#7201a8\"],[0.3333333333333333,\"#9c179e\"],[0.4444444444444444,\"#bd3786\"],[0.5555555555555556,\"#d8576b\"],[0.6666666666666666,\"#ed7953\"],[0.7777777777777778,\"#fb9f3a\"],[0.8888888888888888,\"#fdca26\"],[1.0,\"#f0f921\"]],\"sequentialminus\":[[0.0,\"#0d0887\"],[0.1111111111111111,\"#46039f\"],[0.2222222222222222,\"#7201a8\"],[0.3333333333333333,\"#9c179e\"],[0.4444444444444444,\"#bd3786\"],[0.5555555555555556,\"#d8576b\"],[0.6666666666666666,\"#ed7953\"],[0.7777777777777778,\"#fb9f3a\"],[0.8888888888888888,\"#fdca26\"],[1.0,\"#f0f921\"]],\"diverging\":[[0,\"#8e0152\"],[0.1,\"#c51b7d\"],[0.2,\"#de77ae\"],[0.3,\"#f1b6da\"],[0.4,\"#fde0ef\"],[0.5,\"#f7f7f7\"],[0.6,\"#e6f5d0\"],[0.7,\"#b8e186\"],[0.8,\"#7fbc41\"],[0.9,\"#4d9221\"],[1,\"#276419\"]]},\"xaxis\":{\"gridcolor\":\"white\",\"linecolor\":\"white\",\"ticks\":\"\",\"title\":{\"standoff\":15},\"zerolinecolor\":\"white\",\"automargin\":true,\"zerolinewidth\":2},\"yaxis\":{\"gridcolor\":\"white\",\"linecolor\":\"white\",\"ticks\":\"\",\"title\":{\"standoff\":15},\"zerolinecolor\":\"white\",\"automargin\":true,\"zerolinewidth\":2},\"scene\":{\"xaxis\":{\"backgroundcolor\":\"#E5ECF6\",\"gridcolor\":\"white\",\"linecolor\":\"white\",\"showbackground\":true,\"ticks\":\"\",\"zerolinecolor\":\"white\",\"gridwidth\":2},\"yaxis\":{\"backgroundcolor\":\"#E5ECF6\",\"gridcolor\":\"white\",\"linecolor\":\"white\",\"showbackground\":true,\"ticks\":\"\",\"zerolinecolor\":\"white\",\"gridwidth\":2},\"zaxis\":{\"backgroundcolor\":\"#E5ECF6\",\"gridcolor\":\"white\",\"linecolor\":\"white\",\"showbackground\":true,\"ticks\":\"\",\"zerolinecolor\":\"white\",\"gridwidth\":2}},\"shapedefaults\":{\"line\":{\"color\":\"#2a3f5f\"}},\"annotationdefaults\":{\"arrowcolor\":\"#2a3f5f\",\"arrowhead\":0,\"arrowwidth\":1},\"geo\":{\"bgcolor\":\"white\",\"landcolor\":\"#E5ECF6\",\"subunitcolor\":\"white\",\"showland\":true,\"showlakes\":true,\"lakecolor\":\"white\"},\"title\":{\"x\":0.05},\"mapbox\":{\"style\":\"light\"}}},\"xaxis\":{\"anchor\":\"y\",\"domain\":[0.0,1.0],\"title\":{\"text\":\"PREFERRED_CATEGORY\"},\"categoryorder\":\"array\",\"categoryarray\":[\"Electronics\",\"Appliances\",\"Beauty\",\"Fashion\"]},\"yaxis\":{\"anchor\":\"x\",\"domain\":[0.0,1.0],\"title\":{\"text\":\"Category_Code\"}},\"legend\":{\"title\":{\"text\":\"PREFERRED_CATEGORY\"},\"tracegroupgap\":0,\"itemsizing\":\"constant\"},\"title\":{\"text\":\"Scatter Plot: Preferred Category\"}},                        {\"responsive\": true}                    ).then(function(){\n",
              "                            \n",
              "var gd = document.getElementById('52e3a0fa-4715-427b-9ed6-4d94049a8815');\n",
              "var x = new MutationObserver(function (mutations, observer) {{\n",
              "        var display = window.getComputedStyle(gd).display;\n",
              "        if (!display || display === 'none') {{\n",
              "            console.log([gd, 'removed!']);\n",
              "            Plotly.purge(gd);\n",
              "            observer.disconnect();\n",
              "        }}\n",
              "}});\n",
              "\n",
              "// Listen for the removal of the full notebook cells\n",
              "var notebookContainer = gd.closest('#notebook-container');\n",
              "if (notebookContainer) {{\n",
              "    x.observe(notebookContainer, {childList: true});\n",
              "}}\n",
              "\n",
              "// Listen for the clearing of the current output cell\n",
              "var outputEl = gd.closest('.output');\n",
              "if (outputEl) {{\n",
              "    x.observe(outputEl, {childList: true});\n",
              "}}\n",
              "\n",
              "                        })                };                            </script>        </div>\n",
              "</body>\n",
              "</html>"
            ]
          },
          "metadata": {}
        }
      ]
    },
    {
      "cell_type": "markdown",
      "source": [
        "#Percentages of Ages:"
      ],
      "metadata": {
        "id": "Y1085RQA43wd"
      }
    },
    {
      "cell_type": "markdown",
      "source": [
        "#Pie Chart OF Age:"
      ],
      "metadata": {
        "id": "y2L1G_ZrOM0i"
      }
    },
    {
      "cell_type": "code",
      "source": [
        "age_counts =file.AGE.value_counts().nlargest(10)\n",
        "age_percentage = (age_counts/ len(file)) * 100\n",
        "top_ten_age_percentage=age_percentage\n",
        "data_frame_for_top_ten_ages=pd.DataFrame({'AGES':top_ten_age_percentage.index,\"PERCENTAGES\":top_ten_age_percentage.values})\n",
        "fig_pie_for_percentage_of_age = px.pie(data_frame=data_frame_for_top_ten_ages, names='AGES',values='PERCENTAGES', title='Percentages of Age:<br>The People of Age 50 visits the most.',hole=0.10,template='plotly_dark')\n",
        "fig_pie_for_percentage_of_age.update_layout(title_font=dict(size=15,family=\"Arial\",color='Cyan'))\n",
        "fig_pie_for_percentage_of_age.show()\n"
      ],
      "metadata": {
        "colab": {
          "base_uri": "https://localhost:8080/",
          "height": 542
        },
        "id": "OAjVT4m75jdz",
        "outputId": "2ae55b90-e241-46b3-e6b6-557e4ae96042"
      },
      "execution_count": 14,
      "outputs": [
        {
          "output_type": "display_data",
          "data": {
            "text/html": [
              "<html>\n",
              "<head><meta charset=\"utf-8\" /></head>\n",
              "<body>\n",
              "    <div>            <script src=\"https://cdnjs.cloudflare.com/ajax/libs/mathjax/2.7.5/MathJax.js?config=TeX-AMS-MML_SVG\"></script><script type=\"text/javascript\">if (window.MathJax && window.MathJax.Hub && window.MathJax.Hub.Config) {window.MathJax.Hub.Config({SVG: {font: \"STIX-Web\"}});}</script>                <script type=\"text/javascript\">window.PlotlyConfig = {MathJaxConfig: 'local'};</script>\n",
              "        <script src=\"https://cdn.plot.ly/plotly-2.18.2.min.js\"></script>                <div id=\"4003549b-27bb-46cf-b188-10b5e635806d\" class=\"plotly-graph-div\" style=\"height:525px; width:100%;\"></div>            <script type=\"text/javascript\">                                    window.PLOTLYENV=window.PLOTLYENV || {};                                    if (document.getElementById(\"4003549b-27bb-46cf-b188-10b5e635806d\")) {                    Plotly.newPlot(                        \"4003549b-27bb-46cf-b188-10b5e635806d\",                        [{\"domain\":{\"x\":[0.0,1.0],\"y\":[0.0,1.0]},\"hole\":0.1,\"hovertemplate\":\"AGES=%{label}<br>PERCENTAGES=%{value}<extra></extra>\",\"labels\":[50,41,49,52,56,43,19,45,33,61],\"legendgroup\":\"\",\"name\":\"\",\"showlegend\":true,\"values\":[4.0,3.4000000000000004,3.4000000000000004,3.4000000000000004,3.0,3.0,3.0,3.0,2.8000000000000003,2.8000000000000003],\"type\":\"pie\"}],                        {\"template\":{\"data\":{\"barpolar\":[{\"marker\":{\"line\":{\"color\":\"rgb(17,17,17)\",\"width\":0.5},\"pattern\":{\"fillmode\":\"overlay\",\"size\":10,\"solidity\":0.2}},\"type\":\"barpolar\"}],\"bar\":[{\"error_x\":{\"color\":\"#f2f5fa\"},\"error_y\":{\"color\":\"#f2f5fa\"},\"marker\":{\"line\":{\"color\":\"rgb(17,17,17)\",\"width\":0.5},\"pattern\":{\"fillmode\":\"overlay\",\"size\":10,\"solidity\":0.2}},\"type\":\"bar\"}],\"carpet\":[{\"aaxis\":{\"endlinecolor\":\"#A2B1C6\",\"gridcolor\":\"#506784\",\"linecolor\":\"#506784\",\"minorgridcolor\":\"#506784\",\"startlinecolor\":\"#A2B1C6\"},\"baxis\":{\"endlinecolor\":\"#A2B1C6\",\"gridcolor\":\"#506784\",\"linecolor\":\"#506784\",\"minorgridcolor\":\"#506784\",\"startlinecolor\":\"#A2B1C6\"},\"type\":\"carpet\"}],\"choropleth\":[{\"colorbar\":{\"outlinewidth\":0,\"ticks\":\"\"},\"type\":\"choropleth\"}],\"contourcarpet\":[{\"colorbar\":{\"outlinewidth\":0,\"ticks\":\"\"},\"type\":\"contourcarpet\"}],\"contour\":[{\"colorbar\":{\"outlinewidth\":0,\"ticks\":\"\"},\"colorscale\":[[0.0,\"#0d0887\"],[0.1111111111111111,\"#46039f\"],[0.2222222222222222,\"#7201a8\"],[0.3333333333333333,\"#9c179e\"],[0.4444444444444444,\"#bd3786\"],[0.5555555555555556,\"#d8576b\"],[0.6666666666666666,\"#ed7953\"],[0.7777777777777778,\"#fb9f3a\"],[0.8888888888888888,\"#fdca26\"],[1.0,\"#f0f921\"]],\"type\":\"contour\"}],\"heatmapgl\":[{\"colorbar\":{\"outlinewidth\":0,\"ticks\":\"\"},\"colorscale\":[[0.0,\"#0d0887\"],[0.1111111111111111,\"#46039f\"],[0.2222222222222222,\"#7201a8\"],[0.3333333333333333,\"#9c179e\"],[0.4444444444444444,\"#bd3786\"],[0.5555555555555556,\"#d8576b\"],[0.6666666666666666,\"#ed7953\"],[0.7777777777777778,\"#fb9f3a\"],[0.8888888888888888,\"#fdca26\"],[1.0,\"#f0f921\"]],\"type\":\"heatmapgl\"}],\"heatmap\":[{\"colorbar\":{\"outlinewidth\":0,\"ticks\":\"\"},\"colorscale\":[[0.0,\"#0d0887\"],[0.1111111111111111,\"#46039f\"],[0.2222222222222222,\"#7201a8\"],[0.3333333333333333,\"#9c179e\"],[0.4444444444444444,\"#bd3786\"],[0.5555555555555556,\"#d8576b\"],[0.6666666666666666,\"#ed7953\"],[0.7777777777777778,\"#fb9f3a\"],[0.8888888888888888,\"#fdca26\"],[1.0,\"#f0f921\"]],\"type\":\"heatmap\"}],\"histogram2dcontour\":[{\"colorbar\":{\"outlinewidth\":0,\"ticks\":\"\"},\"colorscale\":[[0.0,\"#0d0887\"],[0.1111111111111111,\"#46039f\"],[0.2222222222222222,\"#7201a8\"],[0.3333333333333333,\"#9c179e\"],[0.4444444444444444,\"#bd3786\"],[0.5555555555555556,\"#d8576b\"],[0.6666666666666666,\"#ed7953\"],[0.7777777777777778,\"#fb9f3a\"],[0.8888888888888888,\"#fdca26\"],[1.0,\"#f0f921\"]],\"type\":\"histogram2dcontour\"}],\"histogram2d\":[{\"colorbar\":{\"outlinewidth\":0,\"ticks\":\"\"},\"colorscale\":[[0.0,\"#0d0887\"],[0.1111111111111111,\"#46039f\"],[0.2222222222222222,\"#7201a8\"],[0.3333333333333333,\"#9c179e\"],[0.4444444444444444,\"#bd3786\"],[0.5555555555555556,\"#d8576b\"],[0.6666666666666666,\"#ed7953\"],[0.7777777777777778,\"#fb9f3a\"],[0.8888888888888888,\"#fdca26\"],[1.0,\"#f0f921\"]],\"type\":\"histogram2d\"}],\"histogram\":[{\"marker\":{\"pattern\":{\"fillmode\":\"overlay\",\"size\":10,\"solidity\":0.2}},\"type\":\"histogram\"}],\"mesh3d\":[{\"colorbar\":{\"outlinewidth\":0,\"ticks\":\"\"},\"type\":\"mesh3d\"}],\"parcoords\":[{\"line\":{\"colorbar\":{\"outlinewidth\":0,\"ticks\":\"\"}},\"type\":\"parcoords\"}],\"pie\":[{\"automargin\":true,\"type\":\"pie\"}],\"scatter3d\":[{\"line\":{\"colorbar\":{\"outlinewidth\":0,\"ticks\":\"\"}},\"marker\":{\"colorbar\":{\"outlinewidth\":0,\"ticks\":\"\"}},\"type\":\"scatter3d\"}],\"scattercarpet\":[{\"marker\":{\"colorbar\":{\"outlinewidth\":0,\"ticks\":\"\"}},\"type\":\"scattercarpet\"}],\"scattergeo\":[{\"marker\":{\"colorbar\":{\"outlinewidth\":0,\"ticks\":\"\"}},\"type\":\"scattergeo\"}],\"scattergl\":[{\"marker\":{\"line\":{\"color\":\"#283442\"}},\"type\":\"scattergl\"}],\"scattermapbox\":[{\"marker\":{\"colorbar\":{\"outlinewidth\":0,\"ticks\":\"\"}},\"type\":\"scattermapbox\"}],\"scatterpolargl\":[{\"marker\":{\"colorbar\":{\"outlinewidth\":0,\"ticks\":\"\"}},\"type\":\"scatterpolargl\"}],\"scatterpolar\":[{\"marker\":{\"colorbar\":{\"outlinewidth\":0,\"ticks\":\"\"}},\"type\":\"scatterpolar\"}],\"scatter\":[{\"marker\":{\"line\":{\"color\":\"#283442\"}},\"type\":\"scatter\"}],\"scatterternary\":[{\"marker\":{\"colorbar\":{\"outlinewidth\":0,\"ticks\":\"\"}},\"type\":\"scatterternary\"}],\"surface\":[{\"colorbar\":{\"outlinewidth\":0,\"ticks\":\"\"},\"colorscale\":[[0.0,\"#0d0887\"],[0.1111111111111111,\"#46039f\"],[0.2222222222222222,\"#7201a8\"],[0.3333333333333333,\"#9c179e\"],[0.4444444444444444,\"#bd3786\"],[0.5555555555555556,\"#d8576b\"],[0.6666666666666666,\"#ed7953\"],[0.7777777777777778,\"#fb9f3a\"],[0.8888888888888888,\"#fdca26\"],[1.0,\"#f0f921\"]],\"type\":\"surface\"}],\"table\":[{\"cells\":{\"fill\":{\"color\":\"#506784\"},\"line\":{\"color\":\"rgb(17,17,17)\"}},\"header\":{\"fill\":{\"color\":\"#2a3f5f\"},\"line\":{\"color\":\"rgb(17,17,17)\"}},\"type\":\"table\"}]},\"layout\":{\"annotationdefaults\":{\"arrowcolor\":\"#f2f5fa\",\"arrowhead\":0,\"arrowwidth\":1},\"autotypenumbers\":\"strict\",\"coloraxis\":{\"colorbar\":{\"outlinewidth\":0,\"ticks\":\"\"}},\"colorscale\":{\"diverging\":[[0,\"#8e0152\"],[0.1,\"#c51b7d\"],[0.2,\"#de77ae\"],[0.3,\"#f1b6da\"],[0.4,\"#fde0ef\"],[0.5,\"#f7f7f7\"],[0.6,\"#e6f5d0\"],[0.7,\"#b8e186\"],[0.8,\"#7fbc41\"],[0.9,\"#4d9221\"],[1,\"#276419\"]],\"sequential\":[[0.0,\"#0d0887\"],[0.1111111111111111,\"#46039f\"],[0.2222222222222222,\"#7201a8\"],[0.3333333333333333,\"#9c179e\"],[0.4444444444444444,\"#bd3786\"],[0.5555555555555556,\"#d8576b\"],[0.6666666666666666,\"#ed7953\"],[0.7777777777777778,\"#fb9f3a\"],[0.8888888888888888,\"#fdca26\"],[1.0,\"#f0f921\"]],\"sequentialminus\":[[0.0,\"#0d0887\"],[0.1111111111111111,\"#46039f\"],[0.2222222222222222,\"#7201a8\"],[0.3333333333333333,\"#9c179e\"],[0.4444444444444444,\"#bd3786\"],[0.5555555555555556,\"#d8576b\"],[0.6666666666666666,\"#ed7953\"],[0.7777777777777778,\"#fb9f3a\"],[0.8888888888888888,\"#fdca26\"],[1.0,\"#f0f921\"]]},\"colorway\":[\"#636efa\",\"#EF553B\",\"#00cc96\",\"#ab63fa\",\"#FFA15A\",\"#19d3f3\",\"#FF6692\",\"#B6E880\",\"#FF97FF\",\"#FECB52\"],\"font\":{\"color\":\"#f2f5fa\"},\"geo\":{\"bgcolor\":\"rgb(17,17,17)\",\"lakecolor\":\"rgb(17,17,17)\",\"landcolor\":\"rgb(17,17,17)\",\"showlakes\":true,\"showland\":true,\"subunitcolor\":\"#506784\"},\"hoverlabel\":{\"align\":\"left\"},\"hovermode\":\"closest\",\"mapbox\":{\"style\":\"dark\"},\"paper_bgcolor\":\"rgb(17,17,17)\",\"plot_bgcolor\":\"rgb(17,17,17)\",\"polar\":{\"angularaxis\":{\"gridcolor\":\"#506784\",\"linecolor\":\"#506784\",\"ticks\":\"\"},\"bgcolor\":\"rgb(17,17,17)\",\"radialaxis\":{\"gridcolor\":\"#506784\",\"linecolor\":\"#506784\",\"ticks\":\"\"}},\"scene\":{\"xaxis\":{\"backgroundcolor\":\"rgb(17,17,17)\",\"gridcolor\":\"#506784\",\"gridwidth\":2,\"linecolor\":\"#506784\",\"showbackground\":true,\"ticks\":\"\",\"zerolinecolor\":\"#C8D4E3\"},\"yaxis\":{\"backgroundcolor\":\"rgb(17,17,17)\",\"gridcolor\":\"#506784\",\"gridwidth\":2,\"linecolor\":\"#506784\",\"showbackground\":true,\"ticks\":\"\",\"zerolinecolor\":\"#C8D4E3\"},\"zaxis\":{\"backgroundcolor\":\"rgb(17,17,17)\",\"gridcolor\":\"#506784\",\"gridwidth\":2,\"linecolor\":\"#506784\",\"showbackground\":true,\"ticks\":\"\",\"zerolinecolor\":\"#C8D4E3\"}},\"shapedefaults\":{\"line\":{\"color\":\"#f2f5fa\"}},\"sliderdefaults\":{\"bgcolor\":\"#C8D4E3\",\"bordercolor\":\"rgb(17,17,17)\",\"borderwidth\":1,\"tickwidth\":0},\"ternary\":{\"aaxis\":{\"gridcolor\":\"#506784\",\"linecolor\":\"#506784\",\"ticks\":\"\"},\"baxis\":{\"gridcolor\":\"#506784\",\"linecolor\":\"#506784\",\"ticks\":\"\"},\"bgcolor\":\"rgb(17,17,17)\",\"caxis\":{\"gridcolor\":\"#506784\",\"linecolor\":\"#506784\",\"ticks\":\"\"}},\"title\":{\"x\":0.05},\"updatemenudefaults\":{\"bgcolor\":\"#506784\",\"borderwidth\":0},\"xaxis\":{\"automargin\":true,\"gridcolor\":\"#283442\",\"linecolor\":\"#506784\",\"ticks\":\"\",\"title\":{\"standoff\":15},\"zerolinecolor\":\"#283442\",\"zerolinewidth\":2},\"yaxis\":{\"automargin\":true,\"gridcolor\":\"#283442\",\"linecolor\":\"#506784\",\"ticks\":\"\",\"title\":{\"standoff\":15},\"zerolinecolor\":\"#283442\",\"zerolinewidth\":2}}},\"legend\":{\"tracegroupgap\":0},\"title\":{\"text\":\"Percentages of Age:<br>The People of Age 50 visits the most.\",\"font\":{\"size\":15,\"family\":\"Arial\",\"color\":\"Cyan\"}}},                        {\"responsive\": true}                    ).then(function(){\n",
              "                            \n",
              "var gd = document.getElementById('4003549b-27bb-46cf-b188-10b5e635806d');\n",
              "var x = new MutationObserver(function (mutations, observer) {{\n",
              "        var display = window.getComputedStyle(gd).display;\n",
              "        if (!display || display === 'none') {{\n",
              "            console.log([gd, 'removed!']);\n",
              "            Plotly.purge(gd);\n",
              "            observer.disconnect();\n",
              "        }}\n",
              "}});\n",
              "\n",
              "// Listen for the removal of the full notebook cells\n",
              "var notebookContainer = gd.closest('#notebook-container');\n",
              "if (notebookContainer) {{\n",
              "    x.observe(notebookContainer, {childList: true});\n",
              "}}\n",
              "\n",
              "// Listen for the clearing of the current output cell\n",
              "var outputEl = gd.closest('.output');\n",
              "if (outputEl) {{\n",
              "    x.observe(outputEl, {childList: true});\n",
              "}}\n",
              "\n",
              "                        })                };                            </script>        </div>\n",
              "</body>\n",
              "</html>"
            ]
          },
          "metadata": {}
        }
      ]
    },
    {
      "cell_type": "markdown",
      "source": [
        "#Histogram Of Age :"
      ],
      "metadata": {
        "id": "WjXki3b1RFrZ"
      }
    },
    {
      "cell_type": "code",
      "source": [
        "hist_of_age= px.bar(data_frame=data_frame_for_top_ten_ages, x='PERCENTAGES', color='AGES',\n",
        "             template='plotly_dark',title='Histogram OF Age Percentages',\n",
        "             labels={'GENDER': 'GENDER--->', 'PREFERRED_CATEGORY': 'PREFERRED_CATEGORY', 'count': 'COUNT--->'})\n",
        "hist_of_age.update_layout(title_font=dict(size=15,color=\"Cyan\"))\n",
        "hist_of_age.show()"
      ],
      "metadata": {
        "colab": {
          "base_uri": "https://localhost:8080/",
          "height": 542
        },
        "id": "JZYuzXNZRIqc",
        "outputId": "b120d474-51f3-4fb3-82e0-eac7b722ce5a"
      },
      "execution_count": 15,
      "outputs": [
        {
          "output_type": "display_data",
          "data": {
            "text/html": [
              "<html>\n",
              "<head><meta charset=\"utf-8\" /></head>\n",
              "<body>\n",
              "    <div>            <script src=\"https://cdnjs.cloudflare.com/ajax/libs/mathjax/2.7.5/MathJax.js?config=TeX-AMS-MML_SVG\"></script><script type=\"text/javascript\">if (window.MathJax && window.MathJax.Hub && window.MathJax.Hub.Config) {window.MathJax.Hub.Config({SVG: {font: \"STIX-Web\"}});}</script>                <script type=\"text/javascript\">window.PlotlyConfig = {MathJaxConfig: 'local'};</script>\n",
              "        <script src=\"https://cdn.plot.ly/plotly-2.18.2.min.js\"></script>                <div id=\"e5071724-fbf9-4747-b2a3-84f7273c013b\" class=\"plotly-graph-div\" style=\"height:525px; width:100%;\"></div>            <script type=\"text/javascript\">                                    window.PLOTLYENV=window.PLOTLYENV || {};                                    if (document.getElementById(\"e5071724-fbf9-4747-b2a3-84f7273c013b\")) {                    Plotly.newPlot(                        \"e5071724-fbf9-4747-b2a3-84f7273c013b\",                        [{\"alignmentgroup\":\"True\",\"hovertemplate\":\"PERCENTAGES=%{x}<br>index=%{y}<br>AGES=%{marker.color}<extra></extra>\",\"legendgroup\":\"\",\"marker\":{\"color\":[50,41,49,52,56,43,19,45,33,61],\"coloraxis\":\"coloraxis\",\"pattern\":{\"shape\":\"\"}},\"name\":\"\",\"offsetgroup\":\"\",\"orientation\":\"h\",\"showlegend\":false,\"textposition\":\"auto\",\"x\":[4.0,3.4000000000000004,3.4000000000000004,3.4000000000000004,3.0,3.0,3.0,3.0,2.8000000000000003,2.8000000000000003],\"xaxis\":\"x\",\"y\":[0,1,2,3,4,5,6,7,8,9],\"yaxis\":\"y\",\"type\":\"bar\"}],                        {\"template\":{\"data\":{\"barpolar\":[{\"marker\":{\"line\":{\"color\":\"rgb(17,17,17)\",\"width\":0.5},\"pattern\":{\"fillmode\":\"overlay\",\"size\":10,\"solidity\":0.2}},\"type\":\"barpolar\"}],\"bar\":[{\"error_x\":{\"color\":\"#f2f5fa\"},\"error_y\":{\"color\":\"#f2f5fa\"},\"marker\":{\"line\":{\"color\":\"rgb(17,17,17)\",\"width\":0.5},\"pattern\":{\"fillmode\":\"overlay\",\"size\":10,\"solidity\":0.2}},\"type\":\"bar\"}],\"carpet\":[{\"aaxis\":{\"endlinecolor\":\"#A2B1C6\",\"gridcolor\":\"#506784\",\"linecolor\":\"#506784\",\"minorgridcolor\":\"#506784\",\"startlinecolor\":\"#A2B1C6\"},\"baxis\":{\"endlinecolor\":\"#A2B1C6\",\"gridcolor\":\"#506784\",\"linecolor\":\"#506784\",\"minorgridcolor\":\"#506784\",\"startlinecolor\":\"#A2B1C6\"},\"type\":\"carpet\"}],\"choropleth\":[{\"colorbar\":{\"outlinewidth\":0,\"ticks\":\"\"},\"type\":\"choropleth\"}],\"contourcarpet\":[{\"colorbar\":{\"outlinewidth\":0,\"ticks\":\"\"},\"type\":\"contourcarpet\"}],\"contour\":[{\"colorbar\":{\"outlinewidth\":0,\"ticks\":\"\"},\"colorscale\":[[0.0,\"#0d0887\"],[0.1111111111111111,\"#46039f\"],[0.2222222222222222,\"#7201a8\"],[0.3333333333333333,\"#9c179e\"],[0.4444444444444444,\"#bd3786\"],[0.5555555555555556,\"#d8576b\"],[0.6666666666666666,\"#ed7953\"],[0.7777777777777778,\"#fb9f3a\"],[0.8888888888888888,\"#fdca26\"],[1.0,\"#f0f921\"]],\"type\":\"contour\"}],\"heatmapgl\":[{\"colorbar\":{\"outlinewidth\":0,\"ticks\":\"\"},\"colorscale\":[[0.0,\"#0d0887\"],[0.1111111111111111,\"#46039f\"],[0.2222222222222222,\"#7201a8\"],[0.3333333333333333,\"#9c179e\"],[0.4444444444444444,\"#bd3786\"],[0.5555555555555556,\"#d8576b\"],[0.6666666666666666,\"#ed7953\"],[0.7777777777777778,\"#fb9f3a\"],[0.8888888888888888,\"#fdca26\"],[1.0,\"#f0f921\"]],\"type\":\"heatmapgl\"}],\"heatmap\":[{\"colorbar\":{\"outlinewidth\":0,\"ticks\":\"\"},\"colorscale\":[[0.0,\"#0d0887\"],[0.1111111111111111,\"#46039f\"],[0.2222222222222222,\"#7201a8\"],[0.3333333333333333,\"#9c179e\"],[0.4444444444444444,\"#bd3786\"],[0.5555555555555556,\"#d8576b\"],[0.6666666666666666,\"#ed7953\"],[0.7777777777777778,\"#fb9f3a\"],[0.8888888888888888,\"#fdca26\"],[1.0,\"#f0f921\"]],\"type\":\"heatmap\"}],\"histogram2dcontour\":[{\"colorbar\":{\"outlinewidth\":0,\"ticks\":\"\"},\"colorscale\":[[0.0,\"#0d0887\"],[0.1111111111111111,\"#46039f\"],[0.2222222222222222,\"#7201a8\"],[0.3333333333333333,\"#9c179e\"],[0.4444444444444444,\"#bd3786\"],[0.5555555555555556,\"#d8576b\"],[0.6666666666666666,\"#ed7953\"],[0.7777777777777778,\"#fb9f3a\"],[0.8888888888888888,\"#fdca26\"],[1.0,\"#f0f921\"]],\"type\":\"histogram2dcontour\"}],\"histogram2d\":[{\"colorbar\":{\"outlinewidth\":0,\"ticks\":\"\"},\"colorscale\":[[0.0,\"#0d0887\"],[0.1111111111111111,\"#46039f\"],[0.2222222222222222,\"#7201a8\"],[0.3333333333333333,\"#9c179e\"],[0.4444444444444444,\"#bd3786\"],[0.5555555555555556,\"#d8576b\"],[0.6666666666666666,\"#ed7953\"],[0.7777777777777778,\"#fb9f3a\"],[0.8888888888888888,\"#fdca26\"],[1.0,\"#f0f921\"]],\"type\":\"histogram2d\"}],\"histogram\":[{\"marker\":{\"pattern\":{\"fillmode\":\"overlay\",\"size\":10,\"solidity\":0.2}},\"type\":\"histogram\"}],\"mesh3d\":[{\"colorbar\":{\"outlinewidth\":0,\"ticks\":\"\"},\"type\":\"mesh3d\"}],\"parcoords\":[{\"line\":{\"colorbar\":{\"outlinewidth\":0,\"ticks\":\"\"}},\"type\":\"parcoords\"}],\"pie\":[{\"automargin\":true,\"type\":\"pie\"}],\"scatter3d\":[{\"line\":{\"colorbar\":{\"outlinewidth\":0,\"ticks\":\"\"}},\"marker\":{\"colorbar\":{\"outlinewidth\":0,\"ticks\":\"\"}},\"type\":\"scatter3d\"}],\"scattercarpet\":[{\"marker\":{\"colorbar\":{\"outlinewidth\":0,\"ticks\":\"\"}},\"type\":\"scattercarpet\"}],\"scattergeo\":[{\"marker\":{\"colorbar\":{\"outlinewidth\":0,\"ticks\":\"\"}},\"type\":\"scattergeo\"}],\"scattergl\":[{\"marker\":{\"line\":{\"color\":\"#283442\"}},\"type\":\"scattergl\"}],\"scattermapbox\":[{\"marker\":{\"colorbar\":{\"outlinewidth\":0,\"ticks\":\"\"}},\"type\":\"scattermapbox\"}],\"scatterpolargl\":[{\"marker\":{\"colorbar\":{\"outlinewidth\":0,\"ticks\":\"\"}},\"type\":\"scatterpolargl\"}],\"scatterpolar\":[{\"marker\":{\"colorbar\":{\"outlinewidth\":0,\"ticks\":\"\"}},\"type\":\"scatterpolar\"}],\"scatter\":[{\"marker\":{\"line\":{\"color\":\"#283442\"}},\"type\":\"scatter\"}],\"scatterternary\":[{\"marker\":{\"colorbar\":{\"outlinewidth\":0,\"ticks\":\"\"}},\"type\":\"scatterternary\"}],\"surface\":[{\"colorbar\":{\"outlinewidth\":0,\"ticks\":\"\"},\"colorscale\":[[0.0,\"#0d0887\"],[0.1111111111111111,\"#46039f\"],[0.2222222222222222,\"#7201a8\"],[0.3333333333333333,\"#9c179e\"],[0.4444444444444444,\"#bd3786\"],[0.5555555555555556,\"#d8576b\"],[0.6666666666666666,\"#ed7953\"],[0.7777777777777778,\"#fb9f3a\"],[0.8888888888888888,\"#fdca26\"],[1.0,\"#f0f921\"]],\"type\":\"surface\"}],\"table\":[{\"cells\":{\"fill\":{\"color\":\"#506784\"},\"line\":{\"color\":\"rgb(17,17,17)\"}},\"header\":{\"fill\":{\"color\":\"#2a3f5f\"},\"line\":{\"color\":\"rgb(17,17,17)\"}},\"type\":\"table\"}]},\"layout\":{\"annotationdefaults\":{\"arrowcolor\":\"#f2f5fa\",\"arrowhead\":0,\"arrowwidth\":1},\"autotypenumbers\":\"strict\",\"coloraxis\":{\"colorbar\":{\"outlinewidth\":0,\"ticks\":\"\"}},\"colorscale\":{\"diverging\":[[0,\"#8e0152\"],[0.1,\"#c51b7d\"],[0.2,\"#de77ae\"],[0.3,\"#f1b6da\"],[0.4,\"#fde0ef\"],[0.5,\"#f7f7f7\"],[0.6,\"#e6f5d0\"],[0.7,\"#b8e186\"],[0.8,\"#7fbc41\"],[0.9,\"#4d9221\"],[1,\"#276419\"]],\"sequential\":[[0.0,\"#0d0887\"],[0.1111111111111111,\"#46039f\"],[0.2222222222222222,\"#7201a8\"],[0.3333333333333333,\"#9c179e\"],[0.4444444444444444,\"#bd3786\"],[0.5555555555555556,\"#d8576b\"],[0.6666666666666666,\"#ed7953\"],[0.7777777777777778,\"#fb9f3a\"],[0.8888888888888888,\"#fdca26\"],[1.0,\"#f0f921\"]],\"sequentialminus\":[[0.0,\"#0d0887\"],[0.1111111111111111,\"#46039f\"],[0.2222222222222222,\"#7201a8\"],[0.3333333333333333,\"#9c179e\"],[0.4444444444444444,\"#bd3786\"],[0.5555555555555556,\"#d8576b\"],[0.6666666666666666,\"#ed7953\"],[0.7777777777777778,\"#fb9f3a\"],[0.8888888888888888,\"#fdca26\"],[1.0,\"#f0f921\"]]},\"colorway\":[\"#636efa\",\"#EF553B\",\"#00cc96\",\"#ab63fa\",\"#FFA15A\",\"#19d3f3\",\"#FF6692\",\"#B6E880\",\"#FF97FF\",\"#FECB52\"],\"font\":{\"color\":\"#f2f5fa\"},\"geo\":{\"bgcolor\":\"rgb(17,17,17)\",\"lakecolor\":\"rgb(17,17,17)\",\"landcolor\":\"rgb(17,17,17)\",\"showlakes\":true,\"showland\":true,\"subunitcolor\":\"#506784\"},\"hoverlabel\":{\"align\":\"left\"},\"hovermode\":\"closest\",\"mapbox\":{\"style\":\"dark\"},\"paper_bgcolor\":\"rgb(17,17,17)\",\"plot_bgcolor\":\"rgb(17,17,17)\",\"polar\":{\"angularaxis\":{\"gridcolor\":\"#506784\",\"linecolor\":\"#506784\",\"ticks\":\"\"},\"bgcolor\":\"rgb(17,17,17)\",\"radialaxis\":{\"gridcolor\":\"#506784\",\"linecolor\":\"#506784\",\"ticks\":\"\"}},\"scene\":{\"xaxis\":{\"backgroundcolor\":\"rgb(17,17,17)\",\"gridcolor\":\"#506784\",\"gridwidth\":2,\"linecolor\":\"#506784\",\"showbackground\":true,\"ticks\":\"\",\"zerolinecolor\":\"#C8D4E3\"},\"yaxis\":{\"backgroundcolor\":\"rgb(17,17,17)\",\"gridcolor\":\"#506784\",\"gridwidth\":2,\"linecolor\":\"#506784\",\"showbackground\":true,\"ticks\":\"\",\"zerolinecolor\":\"#C8D4E3\"},\"zaxis\":{\"backgroundcolor\":\"rgb(17,17,17)\",\"gridcolor\":\"#506784\",\"gridwidth\":2,\"linecolor\":\"#506784\",\"showbackground\":true,\"ticks\":\"\",\"zerolinecolor\":\"#C8D4E3\"}},\"shapedefaults\":{\"line\":{\"color\":\"#f2f5fa\"}},\"sliderdefaults\":{\"bgcolor\":\"#C8D4E3\",\"bordercolor\":\"rgb(17,17,17)\",\"borderwidth\":1,\"tickwidth\":0},\"ternary\":{\"aaxis\":{\"gridcolor\":\"#506784\",\"linecolor\":\"#506784\",\"ticks\":\"\"},\"baxis\":{\"gridcolor\":\"#506784\",\"linecolor\":\"#506784\",\"ticks\":\"\"},\"bgcolor\":\"rgb(17,17,17)\",\"caxis\":{\"gridcolor\":\"#506784\",\"linecolor\":\"#506784\",\"ticks\":\"\"}},\"title\":{\"x\":0.05},\"updatemenudefaults\":{\"bgcolor\":\"#506784\",\"borderwidth\":0},\"xaxis\":{\"automargin\":true,\"gridcolor\":\"#283442\",\"linecolor\":\"#506784\",\"ticks\":\"\",\"title\":{\"standoff\":15},\"zerolinecolor\":\"#283442\",\"zerolinewidth\":2},\"yaxis\":{\"automargin\":true,\"gridcolor\":\"#283442\",\"linecolor\":\"#506784\",\"ticks\":\"\",\"title\":{\"standoff\":15},\"zerolinecolor\":\"#283442\",\"zerolinewidth\":2}}},\"xaxis\":{\"anchor\":\"y\",\"domain\":[0.0,1.0],\"title\":{\"text\":\"PERCENTAGES\"}},\"yaxis\":{\"anchor\":\"x\",\"domain\":[0.0,1.0],\"title\":{\"text\":\"index\"}},\"coloraxis\":{\"colorbar\":{\"title\":{\"text\":\"AGES\"}},\"colorscale\":[[0.0,\"#0d0887\"],[0.1111111111111111,\"#46039f\"],[0.2222222222222222,\"#7201a8\"],[0.3333333333333333,\"#9c179e\"],[0.4444444444444444,\"#bd3786\"],[0.5555555555555556,\"#d8576b\"],[0.6666666666666666,\"#ed7953\"],[0.7777777777777778,\"#fb9f3a\"],[0.8888888888888888,\"#fdca26\"],[1.0,\"#f0f921\"]]},\"legend\":{\"tracegroupgap\":0},\"title\":{\"text\":\"Histogram OF Age Percentages\",\"font\":{\"size\":15,\"color\":\"Cyan\"}},\"barmode\":\"relative\"},                        {\"responsive\": true}                    ).then(function(){\n",
              "                            \n",
              "var gd = document.getElementById('e5071724-fbf9-4747-b2a3-84f7273c013b');\n",
              "var x = new MutationObserver(function (mutations, observer) {{\n",
              "        var display = window.getComputedStyle(gd).display;\n",
              "        if (!display || display === 'none') {{\n",
              "            console.log([gd, 'removed!']);\n",
              "            Plotly.purge(gd);\n",
              "            observer.disconnect();\n",
              "        }}\n",
              "}});\n",
              "\n",
              "// Listen for the removal of the full notebook cells\n",
              "var notebookContainer = gd.closest('#notebook-container');\n",
              "if (notebookContainer) {{\n",
              "    x.observe(notebookContainer, {childList: true});\n",
              "}}\n",
              "\n",
              "// Listen for the clearing of the current output cell\n",
              "var outputEl = gd.closest('.output');\n",
              "if (outputEl) {{\n",
              "    x.observe(outputEl, {childList: true});\n",
              "}}\n",
              "\n",
              "                        })                };                            </script>        </div>\n",
              "</body>\n",
              "</html>"
            ]
          },
          "metadata": {}
        }
      ]
    },
    {
      "cell_type": "markdown",
      "source": [
        "#Scatter plot of Age Perentage:"
      ],
      "metadata": {
        "id": "K53phYhjSZLq"
      }
    },
    {
      "cell_type": "code",
      "source": [
        "scatter_plot_age=px.scatter(data_frame=data_frame_for_top_ten_ages,x='PERCENTAGES',y='AGES',size='AGES',color='AGES',template='plotly_dark',title='Scatter Plot of Age Percentages')\n",
        "scatter_plot_age.update_layout(title_font=dict(size=15,color=\"Cyan\"))\n",
        "scatter_plot_age.show()"
      ],
      "metadata": {
        "colab": {
          "base_uri": "https://localhost:8080/",
          "height": 542
        },
        "id": "b3hAd2a5ScOk",
        "outputId": "247f5aa6-b45c-4fa4-cd53-425aed787e2a"
      },
      "execution_count": 16,
      "outputs": [
        {
          "output_type": "display_data",
          "data": {
            "text/html": [
              "<html>\n",
              "<head><meta charset=\"utf-8\" /></head>\n",
              "<body>\n",
              "    <div>            <script src=\"https://cdnjs.cloudflare.com/ajax/libs/mathjax/2.7.5/MathJax.js?config=TeX-AMS-MML_SVG\"></script><script type=\"text/javascript\">if (window.MathJax && window.MathJax.Hub && window.MathJax.Hub.Config) {window.MathJax.Hub.Config({SVG: {font: \"STIX-Web\"}});}</script>                <script type=\"text/javascript\">window.PlotlyConfig = {MathJaxConfig: 'local'};</script>\n",
              "        <script src=\"https://cdn.plot.ly/plotly-2.18.2.min.js\"></script>                <div id=\"fddda49b-9f2e-471d-9359-552f06d80d74\" class=\"plotly-graph-div\" style=\"height:525px; width:100%;\"></div>            <script type=\"text/javascript\">                                    window.PLOTLYENV=window.PLOTLYENV || {};                                    if (document.getElementById(\"fddda49b-9f2e-471d-9359-552f06d80d74\")) {                    Plotly.newPlot(                        \"fddda49b-9f2e-471d-9359-552f06d80d74\",                        [{\"hovertemplate\":\"PERCENTAGES=%{x}<br>AGES=%{marker.color}<extra></extra>\",\"legendgroup\":\"\",\"marker\":{\"color\":[50,41,49,52,56,43,19,45,33,61],\"coloraxis\":\"coloraxis\",\"size\":[50,41,49,52,56,43,19,45,33,61],\"sizemode\":\"area\",\"sizeref\":0.1525,\"symbol\":\"circle\"},\"mode\":\"markers\",\"name\":\"\",\"orientation\":\"v\",\"showlegend\":false,\"x\":[4.0,3.4000000000000004,3.4000000000000004,3.4000000000000004,3.0,3.0,3.0,3.0,2.8000000000000003,2.8000000000000003],\"xaxis\":\"x\",\"y\":[50,41,49,52,56,43,19,45,33,61],\"yaxis\":\"y\",\"type\":\"scatter\"}],                        {\"template\":{\"data\":{\"barpolar\":[{\"marker\":{\"line\":{\"color\":\"rgb(17,17,17)\",\"width\":0.5},\"pattern\":{\"fillmode\":\"overlay\",\"size\":10,\"solidity\":0.2}},\"type\":\"barpolar\"}],\"bar\":[{\"error_x\":{\"color\":\"#f2f5fa\"},\"error_y\":{\"color\":\"#f2f5fa\"},\"marker\":{\"line\":{\"color\":\"rgb(17,17,17)\",\"width\":0.5},\"pattern\":{\"fillmode\":\"overlay\",\"size\":10,\"solidity\":0.2}},\"type\":\"bar\"}],\"carpet\":[{\"aaxis\":{\"endlinecolor\":\"#A2B1C6\",\"gridcolor\":\"#506784\",\"linecolor\":\"#506784\",\"minorgridcolor\":\"#506784\",\"startlinecolor\":\"#A2B1C6\"},\"baxis\":{\"endlinecolor\":\"#A2B1C6\",\"gridcolor\":\"#506784\",\"linecolor\":\"#506784\",\"minorgridcolor\":\"#506784\",\"startlinecolor\":\"#A2B1C6\"},\"type\":\"carpet\"}],\"choropleth\":[{\"colorbar\":{\"outlinewidth\":0,\"ticks\":\"\"},\"type\":\"choropleth\"}],\"contourcarpet\":[{\"colorbar\":{\"outlinewidth\":0,\"ticks\":\"\"},\"type\":\"contourcarpet\"}],\"contour\":[{\"colorbar\":{\"outlinewidth\":0,\"ticks\":\"\"},\"colorscale\":[[0.0,\"#0d0887\"],[0.1111111111111111,\"#46039f\"],[0.2222222222222222,\"#7201a8\"],[0.3333333333333333,\"#9c179e\"],[0.4444444444444444,\"#bd3786\"],[0.5555555555555556,\"#d8576b\"],[0.6666666666666666,\"#ed7953\"],[0.7777777777777778,\"#fb9f3a\"],[0.8888888888888888,\"#fdca26\"],[1.0,\"#f0f921\"]],\"type\":\"contour\"}],\"heatmapgl\":[{\"colorbar\":{\"outlinewidth\":0,\"ticks\":\"\"},\"colorscale\":[[0.0,\"#0d0887\"],[0.1111111111111111,\"#46039f\"],[0.2222222222222222,\"#7201a8\"],[0.3333333333333333,\"#9c179e\"],[0.4444444444444444,\"#bd3786\"],[0.5555555555555556,\"#d8576b\"],[0.6666666666666666,\"#ed7953\"],[0.7777777777777778,\"#fb9f3a\"],[0.8888888888888888,\"#fdca26\"],[1.0,\"#f0f921\"]],\"type\":\"heatmapgl\"}],\"heatmap\":[{\"colorbar\":{\"outlinewidth\":0,\"ticks\":\"\"},\"colorscale\":[[0.0,\"#0d0887\"],[0.1111111111111111,\"#46039f\"],[0.2222222222222222,\"#7201a8\"],[0.3333333333333333,\"#9c179e\"],[0.4444444444444444,\"#bd3786\"],[0.5555555555555556,\"#d8576b\"],[0.6666666666666666,\"#ed7953\"],[0.7777777777777778,\"#fb9f3a\"],[0.8888888888888888,\"#fdca26\"],[1.0,\"#f0f921\"]],\"type\":\"heatmap\"}],\"histogram2dcontour\":[{\"colorbar\":{\"outlinewidth\":0,\"ticks\":\"\"},\"colorscale\":[[0.0,\"#0d0887\"],[0.1111111111111111,\"#46039f\"],[0.2222222222222222,\"#7201a8\"],[0.3333333333333333,\"#9c179e\"],[0.4444444444444444,\"#bd3786\"],[0.5555555555555556,\"#d8576b\"],[0.6666666666666666,\"#ed7953\"],[0.7777777777777778,\"#fb9f3a\"],[0.8888888888888888,\"#fdca26\"],[1.0,\"#f0f921\"]],\"type\":\"histogram2dcontour\"}],\"histogram2d\":[{\"colorbar\":{\"outlinewidth\":0,\"ticks\":\"\"},\"colorscale\":[[0.0,\"#0d0887\"],[0.1111111111111111,\"#46039f\"],[0.2222222222222222,\"#7201a8\"],[0.3333333333333333,\"#9c179e\"],[0.4444444444444444,\"#bd3786\"],[0.5555555555555556,\"#d8576b\"],[0.6666666666666666,\"#ed7953\"],[0.7777777777777778,\"#fb9f3a\"],[0.8888888888888888,\"#fdca26\"],[1.0,\"#f0f921\"]],\"type\":\"histogram2d\"}],\"histogram\":[{\"marker\":{\"pattern\":{\"fillmode\":\"overlay\",\"size\":10,\"solidity\":0.2}},\"type\":\"histogram\"}],\"mesh3d\":[{\"colorbar\":{\"outlinewidth\":0,\"ticks\":\"\"},\"type\":\"mesh3d\"}],\"parcoords\":[{\"line\":{\"colorbar\":{\"outlinewidth\":0,\"ticks\":\"\"}},\"type\":\"parcoords\"}],\"pie\":[{\"automargin\":true,\"type\":\"pie\"}],\"scatter3d\":[{\"line\":{\"colorbar\":{\"outlinewidth\":0,\"ticks\":\"\"}},\"marker\":{\"colorbar\":{\"outlinewidth\":0,\"ticks\":\"\"}},\"type\":\"scatter3d\"}],\"scattercarpet\":[{\"marker\":{\"colorbar\":{\"outlinewidth\":0,\"ticks\":\"\"}},\"type\":\"scattercarpet\"}],\"scattergeo\":[{\"marker\":{\"colorbar\":{\"outlinewidth\":0,\"ticks\":\"\"}},\"type\":\"scattergeo\"}],\"scattergl\":[{\"marker\":{\"line\":{\"color\":\"#283442\"}},\"type\":\"scattergl\"}],\"scattermapbox\":[{\"marker\":{\"colorbar\":{\"outlinewidth\":0,\"ticks\":\"\"}},\"type\":\"scattermapbox\"}],\"scatterpolargl\":[{\"marker\":{\"colorbar\":{\"outlinewidth\":0,\"ticks\":\"\"}},\"type\":\"scatterpolargl\"}],\"scatterpolar\":[{\"marker\":{\"colorbar\":{\"outlinewidth\":0,\"ticks\":\"\"}},\"type\":\"scatterpolar\"}],\"scatter\":[{\"marker\":{\"line\":{\"color\":\"#283442\"}},\"type\":\"scatter\"}],\"scatterternary\":[{\"marker\":{\"colorbar\":{\"outlinewidth\":0,\"ticks\":\"\"}},\"type\":\"scatterternary\"}],\"surface\":[{\"colorbar\":{\"outlinewidth\":0,\"ticks\":\"\"},\"colorscale\":[[0.0,\"#0d0887\"],[0.1111111111111111,\"#46039f\"],[0.2222222222222222,\"#7201a8\"],[0.3333333333333333,\"#9c179e\"],[0.4444444444444444,\"#bd3786\"],[0.5555555555555556,\"#d8576b\"],[0.6666666666666666,\"#ed7953\"],[0.7777777777777778,\"#fb9f3a\"],[0.8888888888888888,\"#fdca26\"],[1.0,\"#f0f921\"]],\"type\":\"surface\"}],\"table\":[{\"cells\":{\"fill\":{\"color\":\"#506784\"},\"line\":{\"color\":\"rgb(17,17,17)\"}},\"header\":{\"fill\":{\"color\":\"#2a3f5f\"},\"line\":{\"color\":\"rgb(17,17,17)\"}},\"type\":\"table\"}]},\"layout\":{\"annotationdefaults\":{\"arrowcolor\":\"#f2f5fa\",\"arrowhead\":0,\"arrowwidth\":1},\"autotypenumbers\":\"strict\",\"coloraxis\":{\"colorbar\":{\"outlinewidth\":0,\"ticks\":\"\"}},\"colorscale\":{\"diverging\":[[0,\"#8e0152\"],[0.1,\"#c51b7d\"],[0.2,\"#de77ae\"],[0.3,\"#f1b6da\"],[0.4,\"#fde0ef\"],[0.5,\"#f7f7f7\"],[0.6,\"#e6f5d0\"],[0.7,\"#b8e186\"],[0.8,\"#7fbc41\"],[0.9,\"#4d9221\"],[1,\"#276419\"]],\"sequential\":[[0.0,\"#0d0887\"],[0.1111111111111111,\"#46039f\"],[0.2222222222222222,\"#7201a8\"],[0.3333333333333333,\"#9c179e\"],[0.4444444444444444,\"#bd3786\"],[0.5555555555555556,\"#d8576b\"],[0.6666666666666666,\"#ed7953\"],[0.7777777777777778,\"#fb9f3a\"],[0.8888888888888888,\"#fdca26\"],[1.0,\"#f0f921\"]],\"sequentialminus\":[[0.0,\"#0d0887\"],[0.1111111111111111,\"#46039f\"],[0.2222222222222222,\"#7201a8\"],[0.3333333333333333,\"#9c179e\"],[0.4444444444444444,\"#bd3786\"],[0.5555555555555556,\"#d8576b\"],[0.6666666666666666,\"#ed7953\"],[0.7777777777777778,\"#fb9f3a\"],[0.8888888888888888,\"#fdca26\"],[1.0,\"#f0f921\"]]},\"colorway\":[\"#636efa\",\"#EF553B\",\"#00cc96\",\"#ab63fa\",\"#FFA15A\",\"#19d3f3\",\"#FF6692\",\"#B6E880\",\"#FF97FF\",\"#FECB52\"],\"font\":{\"color\":\"#f2f5fa\"},\"geo\":{\"bgcolor\":\"rgb(17,17,17)\",\"lakecolor\":\"rgb(17,17,17)\",\"landcolor\":\"rgb(17,17,17)\",\"showlakes\":true,\"showland\":true,\"subunitcolor\":\"#506784\"},\"hoverlabel\":{\"align\":\"left\"},\"hovermode\":\"closest\",\"mapbox\":{\"style\":\"dark\"},\"paper_bgcolor\":\"rgb(17,17,17)\",\"plot_bgcolor\":\"rgb(17,17,17)\",\"polar\":{\"angularaxis\":{\"gridcolor\":\"#506784\",\"linecolor\":\"#506784\",\"ticks\":\"\"},\"bgcolor\":\"rgb(17,17,17)\",\"radialaxis\":{\"gridcolor\":\"#506784\",\"linecolor\":\"#506784\",\"ticks\":\"\"}},\"scene\":{\"xaxis\":{\"backgroundcolor\":\"rgb(17,17,17)\",\"gridcolor\":\"#506784\",\"gridwidth\":2,\"linecolor\":\"#506784\",\"showbackground\":true,\"ticks\":\"\",\"zerolinecolor\":\"#C8D4E3\"},\"yaxis\":{\"backgroundcolor\":\"rgb(17,17,17)\",\"gridcolor\":\"#506784\",\"gridwidth\":2,\"linecolor\":\"#506784\",\"showbackground\":true,\"ticks\":\"\",\"zerolinecolor\":\"#C8D4E3\"},\"zaxis\":{\"backgroundcolor\":\"rgb(17,17,17)\",\"gridcolor\":\"#506784\",\"gridwidth\":2,\"linecolor\":\"#506784\",\"showbackground\":true,\"ticks\":\"\",\"zerolinecolor\":\"#C8D4E3\"}},\"shapedefaults\":{\"line\":{\"color\":\"#f2f5fa\"}},\"sliderdefaults\":{\"bgcolor\":\"#C8D4E3\",\"bordercolor\":\"rgb(17,17,17)\",\"borderwidth\":1,\"tickwidth\":0},\"ternary\":{\"aaxis\":{\"gridcolor\":\"#506784\",\"linecolor\":\"#506784\",\"ticks\":\"\"},\"baxis\":{\"gridcolor\":\"#506784\",\"linecolor\":\"#506784\",\"ticks\":\"\"},\"bgcolor\":\"rgb(17,17,17)\",\"caxis\":{\"gridcolor\":\"#506784\",\"linecolor\":\"#506784\",\"ticks\":\"\"}},\"title\":{\"x\":0.05},\"updatemenudefaults\":{\"bgcolor\":\"#506784\",\"borderwidth\":0},\"xaxis\":{\"automargin\":true,\"gridcolor\":\"#283442\",\"linecolor\":\"#506784\",\"ticks\":\"\",\"title\":{\"standoff\":15},\"zerolinecolor\":\"#283442\",\"zerolinewidth\":2},\"yaxis\":{\"automargin\":true,\"gridcolor\":\"#283442\",\"linecolor\":\"#506784\",\"ticks\":\"\",\"title\":{\"standoff\":15},\"zerolinecolor\":\"#283442\",\"zerolinewidth\":2}}},\"xaxis\":{\"anchor\":\"y\",\"domain\":[0.0,1.0],\"title\":{\"text\":\"PERCENTAGES\"}},\"yaxis\":{\"anchor\":\"x\",\"domain\":[0.0,1.0],\"title\":{\"text\":\"AGES\"}},\"coloraxis\":{\"colorbar\":{\"title\":{\"text\":\"AGES\"}},\"colorscale\":[[0.0,\"#0d0887\"],[0.1111111111111111,\"#46039f\"],[0.2222222222222222,\"#7201a8\"],[0.3333333333333333,\"#9c179e\"],[0.4444444444444444,\"#bd3786\"],[0.5555555555555556,\"#d8576b\"],[0.6666666666666666,\"#ed7953\"],[0.7777777777777778,\"#fb9f3a\"],[0.8888888888888888,\"#fdca26\"],[1.0,\"#f0f921\"]]},\"legend\":{\"tracegroupgap\":0,\"itemsizing\":\"constant\"},\"title\":{\"text\":\"Scatter Plot of Age Percentages\",\"font\":{\"size\":15,\"color\":\"Cyan\"}}},                        {\"responsive\": true}                    ).then(function(){\n",
              "                            \n",
              "var gd = document.getElementById('fddda49b-9f2e-471d-9359-552f06d80d74');\n",
              "var x = new MutationObserver(function (mutations, observer) {{\n",
              "        var display = window.getComputedStyle(gd).display;\n",
              "        if (!display || display === 'none') {{\n",
              "            console.log([gd, 'removed!']);\n",
              "            Plotly.purge(gd);\n",
              "            observer.disconnect();\n",
              "        }}\n",
              "}});\n",
              "\n",
              "// Listen for the removal of the full notebook cells\n",
              "var notebookContainer = gd.closest('#notebook-container');\n",
              "if (notebookContainer) {{\n",
              "    x.observe(notebookContainer, {childList: true});\n",
              "}}\n",
              "\n",
              "// Listen for the clearing of the current output cell\n",
              "var outputEl = gd.closest('.output');\n",
              "if (outputEl) {{\n",
              "    x.observe(outputEl, {childList: true});\n",
              "}}\n",
              "\n",
              "                        })                };                            </script>        </div>\n",
              "</body>\n",
              "</html>"
            ]
          },
          "metadata": {}
        }
      ]
    },
    {
      "cell_type": "markdown",
      "source": [
        "#Distribution by Gender on the basis of Category:"
      ],
      "metadata": {
        "id": "eV0nVymj0NjZ"
      }
    },
    {
      "cell_type": "code",
      "source": [
        "sb.countplot(data=file, x='GENDER', hue='PREFERRED_CATEGORY')\n",
        "plt.title('Distribution by Gender on the basis of Category')\n",
        "plt.xlabel('Gender')\n",
        "plt.ylabel('Count')\n",
        "plt.legend(title='Preferred Category', loc='upper right', labels=['Electronics', 'Appliances','Beauty','Fashion'])\n",
        "plt.show()\n"
      ],
      "metadata": {
        "colab": {
          "base_uri": "https://localhost:8080/",
          "height": 472
        },
        "id": "kez-DbFHv-Bx",
        "outputId": "7d23f590-25f2-42d7-d857-f6bea0d66cbd"
      },
      "execution_count": 17,
      "outputs": [
        {
          "output_type": "display_data",
          "data": {
            "text/plain": [
              "<Figure size 640x480 with 1 Axes>"
            ],
            "image/png": "[encoded data removed]"
          },
          "metadata": {}
        }
      ]
    },
    {
      "cell_type": "code",
      "source": [
        "gender_dist_basis_of_category = px.bar(data_frame=file, x='GENDER', color='PREFERRED_CATEGORY',\n",
        "             template='plotly_dark',title='Distribution of Gender on the basis of Category',\n",
        "             labels={'GENDER': 'GENDER--->', 'PREFERRED_CATEGORY': 'PREFERRED_CATEGORY', 'count': 'COUNT--->'})\n",
        "gender_dist_basis_of_category.update_layout(title_font=dict(size=15,color=\"Cyan\"))\n",
        "gender_dist_basis_of_category.show()\n"
      ],
      "metadata": {
        "colab": {
          "base_uri": "https://localhost:8080/",
          "height": 542
        },
        "id": "Fbrghz7TwTLu",
        "outputId": "6d8f2f61-aa76-4ea8-860d-bef758aa8f9f"
      },
      "execution_count": 18,
      "outputs": [
        {
          "output_type": "display_data",
          "data": {
            "text/html": [
              "<html>\n",
              "<head><meta charset=\"utf-8\" /></head>\n",
              "<body>\n",
              "    <div>            <script src=\"https://cdnjs.cloudflare.com/ajax/libs/mathjax/2.7.5/MathJax.js?config=TeX-AMS-MML_SVG\"></script><script type=\"text/javascript\">if (window.MathJax && window.MathJax.Hub && window.MathJax.Hub.Config) {window.MathJax.Hub.Config({SVG: {font: \"STIX-Web\"}});}</script>                <script type=\"text/javascript\">window.PlotlyConfig = {MathJaxConfig: 'local'};</script>\n",
              "        <script src=\"https://cdn.plot.ly/plotly-2.18.2.min.js\"></script>                <div id=\"91a98759-3c10-4604-9662-9e0273387f70\" class=\"plotly-graph-div\" style=\"height:525px; width:100%;\"></div>            <script type=\"text/javascript\">                                    window.PLOTLYENV=window.PLOTLYENV || {};                                    if (document.getElementById(\"91a98759-3c10-4604-9662-9e0273387f70\")) {                    Plotly.newPlot(                        \"91a98759-3c10-4604-9662-9e0273387f70\",                        [{\"alignmentgroup\":\"True\",\"hovertemplate\":\"PREFERRED_CATEGORY=Electronics<br>GENDER--->=%{x}<br>COUNT--->=%{y}<extra></extra>\",\"legendgroup\":\"Electronics\",\"marker\":{\"color\":\"#636efa\",\"pattern\":{\"shape\":\"\"}},\"name\":\"Electronics\",\"offsetgroup\":\"Electronics\",\"orientation\":\"v\",\"showlegend\":true,\"textposition\":\"auto\",\"x\":[\"Male\",\"Male\",\"Male\",\"Male\",\"Female\",\"Female\",\"Male\",\"Male\",\"Male\",\"Female\",\"Male\",\"Male\",\"Female\",\"Female\",\"Male\",\"Male\",\"Female\",\"Male\",\"Female\",\"Female\",\"Male\",\"Female\",\"Male\",\"Male\",\"Male\",\"Male\",\"Male\",\"Female\",\"Male\",\"Female\",\"Female\",\"Male\",\"Female\",\"Male\",\"Male\",\"Male\",\"Female\",\"Male\",\"Male\",\"Female\",\"Male\",\"Female\",\"Male\",\"Female\",\"Male\",\"Male\",\"Female\",\"Female\",\"Female\",\"Male\",\"Male\",\"Male\",\"Male\",\"Male\",\"Male\",\"Female\",\"Female\",\"Male\",\"Male\",\"Female\",\"Male\",\"Male\",\"Female\",\"Male\",\"Male\",\"Female\",\"Male\",\"Female\",\"Male\",\"Male\",\"Female\",\"Female\",\"Female\",\"Female\",\"Female\",\"Female\",\"Male\",\"Male\",\"Male\",\"Male\",\"Female\",\"Female\",\"Female\",\"Male\",\"Male\",\"Male\",\"Male\",\"Male\",\"Male\",\"Male\",\"Male\",\"Male\",\"Male\",\"Female\",\"Male\",\"Female\",\"Male\",\"Female\",\"Female\",\"Female\",\"Male\",\"Male\",\"Male\",\"Female\",\"Female\",\"Female\",\"Female\",\"Male\",\"Female\",\"Male\",\"Male\",\"Female\",\"Male\",\"Female\",\"Female\",\"Male\",\"Male\",\"Male\",\"Female\",\"Male\",\"Female\",\"Male\",\"Female\",\"Male\",\"Male\",\"Male\",\"Female\",\"Female\",\"Male\",\"Female\",\"Male\",\"Male\"],\"xaxis\":\"x\",\"y\":[1,1,1,1,1,1,1,1,1,1,1,1,1,1,1,1,1,1,1,1,1,1,1,1,1,1,1,1,1,1,1,1,1,1,1,1,1,1,1,1,1,1,1,1,1,1,1,1,1,1,1,1,1,1,1,1,1,1,1,1,1,1,1,1,1,1,1,1,1,1,1,1,1,1,1,1,1,1,1,1,1,1,1,1,1,1,1,1,1,1,1,1,1,1,1,1,1,1,1,1,1,1,1,1,1,1,1,1,1,1,1,1,1,1,1,1,1,1,1,1,1,1,1,1,1,1,1,1,1,1,1,1],\"yaxis\":\"y\",\"type\":\"bar\"},{\"alignmentgroup\":\"True\",\"hovertemplate\":\"PREFERRED_CATEGORY=Appliances<br>GENDER--->=%{x}<br>COUNT--->=%{y}<extra></extra>\",\"legendgroup\":\"Appliances\",\"marker\":{\"color\":\"#EF553B\",\"pattern\":{\"shape\":\"\"}},\"name\":\"Appliances\",\"offsetgroup\":\"Appliances\",\"orientation\":\"v\",\"showlegend\":true,\"textposition\":\"auto\",\"x\":[\"Male\",\"Male\",\"Female\",\"Male\",\"Female\",\"Female\",\"Female\",\"Male\",\"Male\",\"Male\",\"Male\",\"Male\",\"Female\",\"Female\",\"Female\",\"Male\",\"Male\",\"Male\",\"Female\",\"Female\",\"Female\",\"Female\",\"Male\",\"Male\",\"Male\",\"Female\",\"Female\",\"Male\",\"Male\",\"Male\",\"Female\",\"Female\",\"Female\",\"Male\",\"Male\",\"Male\",\"Female\",\"Female\",\"Male\",\"Female\",\"Female\",\"Female\",\"Female\",\"Male\",\"Male\",\"Male\",\"Female\",\"Female\",\"Male\",\"Male\",\"Female\",\"Male\",\"Female\",\"Male\",\"Male\",\"Male\",\"Female\",\"Female\",\"Female\",\"Female\",\"Male\",\"Female\",\"Male\",\"Male\",\"Male\",\"Male\",\"Female\",\"Female\",\"Male\",\"Female\",\"Male\",\"Female\",\"Male\",\"Male\",\"Female\",\"Female\",\"Male\",\"Male\",\"Male\",\"Female\",\"Male\",\"Male\",\"Female\",\"Male\",\"Male\",\"Male\",\"Female\",\"Female\",\"Female\",\"Female\",\"Male\",\"Female\",\"Male\",\"Male\",\"Male\",\"Male\",\"Female\",\"Female\",\"Female\",\"Female\",\"Male\",\"Female\",\"Female\",\"Male\",\"Female\",\"Female\",\"Male\",\"Male\",\"Male\",\"Female\",\"Female\",\"Female\",\"Female\",\"Male\",\"Male\",\"Male\",\"Female\",\"Male\",\"Female\",\"Female\",\"Male\"],\"xaxis\":\"x\",\"y\":[1,1,1,1,1,1,1,1,1,1,1,1,1,1,1,1,1,1,1,1,1,1,1,1,1,1,1,1,1,1,1,1,1,1,1,1,1,1,1,1,1,1,1,1,1,1,1,1,1,1,1,1,1,1,1,1,1,1,1,1,1,1,1,1,1,1,1,1,1,1,1,1,1,1,1,1,1,1,1,1,1,1,1,1,1,1,1,1,1,1,1,1,1,1,1,1,1,1,1,1,1,1,1,1,1,1,1,1,1,1,1,1,1,1,1,1,1,1,1,1,1],\"yaxis\":\"y\",\"type\":\"bar\"},{\"alignmentgroup\":\"True\",\"hovertemplate\":\"PREFERRED_CATEGORY=Beauty<br>GENDER--->=%{x}<br>COUNT--->=%{y}<extra></extra>\",\"legendgroup\":\"Beauty\",\"marker\":{\"color\":\"#00cc96\",\"pattern\":{\"shape\":\"\"}},\"name\":\"Beauty\",\"offsetgroup\":\"Beauty\",\"orientation\":\"v\",\"showlegend\":true,\"textposition\":\"auto\",\"x\":[\"Male\",\"Female\",\"Female\",\"Male\",\"Female\",\"Female\",\"Male\",\"Male\",\"Male\",\"Male\",\"Male\",\"Female\",\"Male\",\"Female\",\"Male\",\"Female\",\"Female\",\"Male\",\"Male\",\"Male\",\"Male\",\"Male\",\"Female\",\"Male\",\"Male\",\"Male\",\"Male\",\"Male\",\"Male\",\"Male\",\"Male\",\"Male\",\"Female\",\"Female\",\"Female\",\"Male\",\"Male\",\"Male\",\"Male\",\"Male\",\"Male\",\"Female\",\"Female\",\"Male\",\"Male\",\"Female\",\"Male\",\"Female\",\"Male\",\"Male\",\"Male\",\"Male\",\"Female\",\"Female\",\"Female\",\"Female\",\"Female\",\"Female\",\"Female\",\"Female\",\"Female\",\"Female\",\"Male\",\"Female\",\"Male\",\"Female\",\"Female\",\"Male\",\"Male\",\"Male\",\"Male\",\"Male\",\"Female\",\"Male\",\"Male\",\"Male\",\"Male\",\"Male\",\"Male\",\"Male\",\"Female\",\"Female\",\"Male\",\"Female\",\"Male\",\"Female\",\"Female\",\"Female\",\"Female\",\"Male\",\"Male\",\"Male\",\"Female\",\"Male\",\"Male\",\"Male\",\"Female\",\"Male\",\"Female\",\"Male\",\"Male\",\"Male\",\"Male\",\"Female\",\"Female\",\"Female\",\"Female\",\"Female\",\"Male\",\"Female\"],\"xaxis\":\"x\",\"y\":[1,1,1,1,1,1,1,1,1,1,1,1,1,1,1,1,1,1,1,1,1,1,1,1,1,1,1,1,1,1,1,1,1,1,1,1,1,1,1,1,1,1,1,1,1,1,1,1,1,1,1,1,1,1,1,1,1,1,1,1,1,1,1,1,1,1,1,1,1,1,1,1,1,1,1,1,1,1,1,1,1,1,1,1,1,1,1,1,1,1,1,1,1,1,1,1,1,1,1,1,1,1,1,1,1,1,1,1,1,1],\"yaxis\":\"y\",\"type\":\"bar\"},{\"alignmentgroup\":\"True\",\"hovertemplate\":\"PREFERRED_CATEGORY=Fashion<br>GENDER--->=%{x}<br>COUNT--->=%{y}<extra></extra>\",\"legendgroup\":\"Fashion\",\"marker\":{\"color\":\"#ab63fa\",\"pattern\":{\"shape\":\"\"}},\"name\":\"Fashion\",\"offsetgroup\":\"Fashion\",\"orientation\":\"v\",\"showlegend\":true,\"textposition\":\"auto\",\"x\":[\"Male\",\"Female\",\"Male\",\"Male\",\"Male\",\"Female\",\"Male\",\"Male\",\"Female\",\"Female\",\"Female\",\"Female\",\"Male\",\"Female\",\"Female\",\"Female\",\"Female\",\"Female\",\"Male\",\"Male\",\"Male\",\"Female\",\"Female\",\"Male\",\"Male\",\"Male\",\"Male\",\"Female\",\"Female\",\"Female\",\"Male\",\"Male\",\"Male\",\"Female\",\"Male\",\"Female\",\"Male\",\"Male\",\"Male\",\"Female\",\"Male\",\"Female\",\"Female\",\"Female\",\"Female\",\"Female\",\"Male\",\"Female\",\"Male\",\"Female\",\"Female\",\"Female\",\"Male\",\"Male\",\"Female\",\"Male\",\"Female\",\"Female\",\"Male\",\"Male\",\"Male\",\"Female\",\"Female\",\"Female\",\"Male\",\"Female\",\"Female\",\"Male\",\"Male\",\"Male\",\"Female\",\"Female\",\"Female\",\"Male\",\"Female\",\"Male\",\"Female\",\"Male\",\"Male\",\"Male\",\"Female\",\"Female\",\"Male\",\"Female\",\"Male\",\"Female\",\"Male\",\"Male\",\"Female\",\"Female\",\"Male\",\"Male\",\"Male\",\"Female\",\"Female\",\"Male\",\"Male\",\"Male\",\"Female\",\"Male\",\"Female\",\"Female\",\"Female\",\"Female\",\"Male\",\"Female\",\"Female\",\"Female\",\"Male\",\"Male\",\"Female\",\"Male\",\"Female\",\"Male\",\"Male\",\"Female\",\"Male\",\"Male\",\"Female\",\"Male\",\"Female\",\"Female\",\"Female\",\"Female\",\"Male\",\"Male\",\"Female\",\"Female\",\"Male\",\"Male\",\"Male\",\"Female\",\"Female\",\"Male\",\"Male\",\"Male\",\"Female\"],\"xaxis\":\"x\",\"y\":[1,1,1,1,1,1,1,1,1,1,1,1,1,1,1,1,1,1,1,1,1,1,1,1,1,1,1,1,1,1,1,1,1,1,1,1,1,1,1,1,1,1,1,1,1,1,1,1,1,1,1,1,1,1,1,1,1,1,1,1,1,1,1,1,1,1,1,1,1,1,1,1,1,1,1,1,1,1,1,1,1,1,1,1,1,1,1,1,1,1,1,1,1,1,1,1,1,1,1,1,1,1,1,1,1,1,1,1,1,1,1,1,1,1,1,1,1,1,1,1,1,1,1,1,1,1,1,1,1,1,1,1,1,1,1,1,1],\"yaxis\":\"y\",\"type\":\"bar\"}],                        {\"template\":{\"data\":{\"barpolar\":[{\"marker\":{\"line\":{\"color\":\"rgb(17,17,17)\",\"width\":0.5},\"pattern\":{\"fillmode\":\"overlay\",\"size\":10,\"solidity\":0.2}},\"type\":\"barpolar\"}],\"bar\":[{\"error_x\":{\"color\":\"#f2f5fa\"},\"error_y\":{\"color\":\"#f2f5fa\"},\"marker\":{\"line\":{\"color\":\"rgb(17,17,17)\",\"width\":0.5},\"pattern\":{\"fillmode\":\"overlay\",\"size\":10,\"solidity\":0.2}},\"type\":\"bar\"}],\"carpet\":[{\"aaxis\":{\"endlinecolor\":\"#A2B1C6\",\"gridcolor\":\"#506784\",\"linecolor\":\"#506784\",\"minorgridcolor\":\"#506784\",\"startlinecolor\":\"#A2B1C6\"},\"baxis\":{\"endlinecolor\":\"#A2B1C6\",\"gridcolor\":\"#506784\",\"linecolor\":\"#506784\",\"minorgridcolor\":\"#506784\",\"startlinecolor\":\"#A2B1C6\"},\"type\":\"carpet\"}],\"choropleth\":[{\"colorbar\":{\"outlinewidth\":0,\"ticks\":\"\"},\"type\":\"choropleth\"}],\"contourcarpet\":[{\"colorbar\":{\"outlinewidth\":0,\"ticks\":\"\"},\"type\":\"contourcarpet\"}],\"contour\":[{\"colorbar\":{\"outlinewidth\":0,\"ticks\":\"\"},\"colorscale\":[[0.0,\"#0d0887\"],[0.1111111111111111,\"#46039f\"],[0.2222222222222222,\"#7201a8\"],[0.3333333333333333,\"#9c179e\"],[0.4444444444444444,\"#bd3786\"],[0.5555555555555556,\"#d8576b\"],[0.6666666666666666,\"#ed7953\"],[0.7777777777777778,\"#fb9f3a\"],[0.8888888888888888,\"#fdca26\"],[1.0,\"#f0f921\"]],\"type\":\"contour\"}],\"heatmapgl\":[{\"colorbar\":{\"outlinewidth\":0,\"ticks\":\"\"},\"colorscale\":[[0.0,\"#0d0887\"],[0.1111111111111111,\"#46039f\"],[0.2222222222222222,\"#7201a8\"],[0.3333333333333333,\"#9c179e\"],[0.4444444444444444,\"#bd3786\"],[0.5555555555555556,\"#d8576b\"],[0.6666666666666666,\"#ed7953\"],[0.7777777777777778,\"#fb9f3a\"],[0.8888888888888888,\"#fdca26\"],[1.0,\"#f0f921\"]],\"type\":\"heatmapgl\"}],\"heatmap\":[{\"colorbar\":{\"outlinewidth\":0,\"ticks\":\"\"},\"colorscale\":[[0.0,\"#0d0887\"],[0.1111111111111111,\"#46039f\"],[0.2222222222222222,\"#7201a8\"],[0.3333333333333333,\"#9c179e\"],[0.4444444444444444,\"#bd3786\"],[0.5555555555555556,\"#d8576b\"],[0.6666666666666666,\"#ed7953\"],[0.7777777777777778,\"#fb9f3a\"],[0.8888888888888888,\"#fdca26\"],[1.0,\"#f0f921\"]],\"type\":\"heatmap\"}],\"histogram2dcontour\":[{\"colorbar\":{\"outlinewidth\":0,\"ticks\":\"\"},\"colorscale\":[[0.0,\"#0d0887\"],[0.1111111111111111,\"#46039f\"],[0.2222222222222222,\"#7201a8\"],[0.3333333333333333,\"#9c179e\"],[0.4444444444444444,\"#bd3786\"],[0.5555555555555556,\"#d8576b\"],[0.6666666666666666,\"#ed7953\"],[0.7777777777777778,\"#fb9f3a\"],[0.8888888888888888,\"#fdca26\"],[1.0,\"#f0f921\"]],\"type\":\"histogram2dcontour\"}],\"histogram2d\":[{\"colorbar\":{\"outlinewidth\":0,\"ticks\":\"\"},\"colorscale\":[[0.0,\"#0d0887\"],[0.1111111111111111,\"#46039f\"],[0.2222222222222222,\"#7201a8\"],[0.3333333333333333,\"#9c179e\"],[0.4444444444444444,\"#bd3786\"],[0.5555555555555556,\"#d8576b\"],[0.6666666666666666,\"#ed7953\"],[0.7777777777777778,\"#fb9f3a\"],[0.8888888888888888,\"#fdca26\"],[1.0,\"#f0f921\"]],\"type\":\"histogram2d\"}],\"histogram\":[{\"marker\":{\"pattern\":{\"fillmode\":\"overlay\",\"size\":10,\"solidity\":0.2}},\"type\":\"histogram\"}],\"mesh3d\":[{\"colorbar\":{\"outlinewidth\":0,\"ticks\":\"\"},\"type\":\"mesh3d\"}],\"parcoords\":[{\"line\":{\"colorbar\":{\"outlinewidth\":0,\"ticks\":\"\"}},\"type\":\"parcoords\"}],\"pie\":[{\"automargin\":true,\"type\":\"pie\"}],\"scatter3d\":[{\"line\":{\"colorbar\":{\"outlinewidth\":0,\"ticks\":\"\"}},\"marker\":{\"colorbar\":{\"outlinewidth\":0,\"ticks\":\"\"}},\"type\":\"scatter3d\"}],\"scattercarpet\":[{\"marker\":{\"colorbar\":{\"outlinewidth\":0,\"ticks\":\"\"}},\"type\":\"scattercarpet\"}],\"scattergeo\":[{\"marker\":{\"colorbar\":{\"outlinewidth\":0,\"ticks\":\"\"}},\"type\":\"scattergeo\"}],\"scattergl\":[{\"marker\":{\"line\":{\"color\":\"#283442\"}},\"type\":\"scattergl\"}],\"scattermapbox\":[{\"marker\":{\"colorbar\":{\"outlinewidth\":0,\"ticks\":\"\"}},\"type\":\"scattermapbox\"}],\"scatterpolargl\":[{\"marker\":{\"colorbar\":{\"outlinewidth\":0,\"ticks\":\"\"}},\"type\":\"scatterpolargl\"}],\"scatterpolar\":[{\"marker\":{\"colorbar\":{\"outlinewidth\":0,\"ticks\":\"\"}},\"type\":\"scatterpolar\"}],\"scatter\":[{\"marker\":{\"line\":{\"color\":\"#283442\"}},\"type\":\"scatter\"}],\"scatterternary\":[{\"marker\":{\"colorbar\":{\"outlinewidth\":0,\"ticks\":\"\"}},\"type\":\"scatterternary\"}],\"surface\":[{\"colorbar\":{\"outlinewidth\":0,\"ticks\":\"\"},\"colorscale\":[[0.0,\"#0d0887\"],[0.1111111111111111,\"#46039f\"],[0.2222222222222222,\"#7201a8\"],[0.3333333333333333,\"#9c179e\"],[0.4444444444444444,\"#bd3786\"],[0.5555555555555556,\"#d8576b\"],[0.6666666666666666,\"#ed7953\"],[0.7777777777777778,\"#fb9f3a\"],[0.8888888888888888,\"#fdca26\"],[1.0,\"#f0f921\"]],\"type\":\"surface\"}],\"table\":[{\"cells\":{\"fill\":{\"color\":\"#506784\"},\"line\":{\"color\":\"rgb(17,17,17)\"}},\"header\":{\"fill\":{\"color\":\"#2a3f5f\"},\"line\":{\"color\":\"rgb(17,17,17)\"}},\"type\":\"table\"}]},\"layout\":{\"annotationdefaults\":{\"arrowcolor\":\"#f2f5fa\",\"arrowhead\":0,\"arrowwidth\":1},\"autotypenumbers\":\"strict\",\"coloraxis\":{\"colorbar\":{\"outlinewidth\":0,\"ticks\":\"\"}},\"colorscale\":{\"diverging\":[[0,\"#8e0152\"],[0.1,\"#c51b7d\"],[0.2,\"#de77ae\"],[0.3,\"#f1b6da\"],[0.4,\"#fde0ef\"],[0.5,\"#f7f7f7\"],[0.6,\"#e6f5d0\"],[0.7,\"#b8e186\"],[0.8,\"#7fbc41\"],[0.9,\"#4d9221\"],[1,\"#276419\"]],\"sequential\":[[0.0,\"#0d0887\"],[0.1111111111111111,\"#46039f\"],[0.2222222222222222,\"#7201a8\"],[0.3333333333333333,\"#9c179e\"],[0.4444444444444444,\"#bd3786\"],[0.5555555555555556,\"#d8576b\"],[0.6666666666666666,\"#ed7953\"],[0.7777777777777778,\"#fb9f3a\"],[0.8888888888888888,\"#fdca26\"],[1.0,\"#f0f921\"]],\"sequentialminus\":[[0.0,\"#0d0887\"],[0.1111111111111111,\"#46039f\"],[0.2222222222222222,\"#7201a8\"],[0.3333333333333333,\"#9c179e\"],[0.4444444444444444,\"#bd3786\"],[0.5555555555555556,\"#d8576b\"],[0.6666666666666666,\"#ed7953\"],[0.7777777777777778,\"#fb9f3a\"],[0.8888888888888888,\"#fdca26\"],[1.0,\"#f0f921\"]]},\"colorway\":[\"#636efa\",\"#EF553B\",\"#00cc96\",\"#ab63fa\",\"#FFA15A\",\"#19d3f3\",\"#FF6692\",\"#B6E880\",\"#FF97FF\",\"#FECB52\"],\"font\":{\"color\":\"#f2f5fa\"},\"geo\":{\"bgcolor\":\"rgb(17,17,17)\",\"lakecolor\":\"rgb(17,17,17)\",\"landcolor\":\"rgb(17,17,17)\",\"showlakes\":true,\"showland\":true,\"subunitcolor\":\"#506784\"},\"hoverlabel\":{\"align\":\"left\"},\"hovermode\":\"closest\",\"mapbox\":{\"style\":\"dark\"},\"paper_bgcolor\":\"rgb(17,17,17)\",\"plot_bgcolor\":\"rgb(17,17,17)\",\"polar\":{\"angularaxis\":{\"gridcolor\":\"#506784\",\"linecolor\":\"#506784\",\"ticks\":\"\"},\"bgcolor\":\"rgb(17,17,17)\",\"radialaxis\":{\"gridcolor\":\"#506784\",\"linecolor\":\"#506784\",\"ticks\":\"\"}},\"scene\":{\"xaxis\":{\"backgroundcolor\":\"rgb(17,17,17)\",\"gridcolor\":\"#506784\",\"gridwidth\":2,\"linecolor\":\"#506784\",\"showbackground\":true,\"ticks\":\"\",\"zerolinecolor\":\"#C8D4E3\"},\"yaxis\":{\"backgroundcolor\":\"rgb(17,17,17)\",\"gridcolor\":\"#506784\",\"gridwidth\":2,\"linecolor\":\"#506784\",\"showbackground\":true,\"ticks\":\"\",\"zerolinecolor\":\"#C8D4E3\"},\"zaxis\":{\"backgroundcolor\":\"rgb(17,17,17)\",\"gridcolor\":\"#506784\",\"gridwidth\":2,\"linecolor\":\"#506784\",\"showbackground\":true,\"ticks\":\"\",\"zerolinecolor\":\"#C8D4E3\"}},\"shapedefaults\":{\"line\":{\"color\":\"#f2f5fa\"}},\"sliderdefaults\":{\"bgcolor\":\"#C8D4E3\",\"bordercolor\":\"rgb(17,17,17)\",\"borderwidth\":1,\"tickwidth\":0},\"ternary\":{\"aaxis\":{\"gridcolor\":\"#506784\",\"linecolor\":\"#506784\",\"ticks\":\"\"},\"baxis\":{\"gridcolor\":\"#506784\",\"linecolor\":\"#506784\",\"ticks\":\"\"},\"bgcolor\":\"rgb(17,17,17)\",\"caxis\":{\"gridcolor\":\"#506784\",\"linecolor\":\"#506784\",\"ticks\":\"\"}},\"title\":{\"x\":0.05},\"updatemenudefaults\":{\"bgcolor\":\"#506784\",\"borderwidth\":0},\"xaxis\":{\"automargin\":true,\"gridcolor\":\"#283442\",\"linecolor\":\"#506784\",\"ticks\":\"\",\"title\":{\"standoff\":15},\"zerolinecolor\":\"#283442\",\"zerolinewidth\":2},\"yaxis\":{\"automargin\":true,\"gridcolor\":\"#283442\",\"linecolor\":\"#506784\",\"ticks\":\"\",\"title\":{\"standoff\":15},\"zerolinecolor\":\"#283442\",\"zerolinewidth\":2}}},\"xaxis\":{\"anchor\":\"y\",\"domain\":[0.0,1.0],\"title\":{\"text\":\"GENDER--->\"}},\"yaxis\":{\"anchor\":\"x\",\"domain\":[0.0,1.0],\"title\":{\"text\":\"COUNT--->\"}},\"legend\":{\"title\":{\"text\":\"PREFERRED_CATEGORY\"},\"tracegroupgap\":0},\"title\":{\"text\":\"Distribution of Gender on the basis of Category\",\"font\":{\"size\":15,\"color\":\"Cyan\"}},\"barmode\":\"relative\"},                        {\"responsive\": true}                    ).then(function(){\n",
              "                            \n",
              "var gd = document.getElementById('91a98759-3c10-4604-9662-9e0273387f70');\n",
              "var x = new MutationObserver(function (mutations, observer) {{\n",
              "        var display = window.getComputedStyle(gd).display;\n",
              "        if (!display || display === 'none') {{\n",
              "            console.log([gd, 'removed!']);\n",
              "            Plotly.purge(gd);\n",
              "            observer.disconnect();\n",
              "        }}\n",
              "}});\n",
              "\n",
              "// Listen for the removal of the full notebook cells\n",
              "var notebookContainer = gd.closest('#notebook-container');\n",
              "if (notebookContainer) {{\n",
              "    x.observe(notebookContainer, {childList: true});\n",
              "}}\n",
              "\n",
              "// Listen for the clearing of the current output cell\n",
              "var outputEl = gd.closest('.output');\n",
              "if (outputEl) {{\n",
              "    x.observe(outputEl, {childList: true});\n",
              "}}\n",
              "\n",
              "                        })                };                            </script>        </div>\n",
              "</body>\n",
              "</html>"
            ]
          },
          "metadata": {}
        }
      ]
    },
    {
      "cell_type": "markdown",
      "source": [
        "#Scatter Plot of Gender With Category:"
      ],
      "metadata": {
        "id": "z9QoykwROWFM"
      }
    },
    {
      "cell_type": "code",
      "source": [
        "data=file.groupby(\"GENDER\")['PREFERRED_CATEGORY'].size()\n",
        "\n",
        "fig_scatter_category = px.scatter(data_frame=file, x='PREFERRED_CATEGORY', y='Category_Code',color='PREFERRED_CATEGORY',size='AGE',title='Scatter Plot: Preferred Category',labels={'ANNUAL_INCOME (USD)': 'Annual Income (USD)',\n",
        "                                          'TOTAL_PURCHASE': 'Total Purchase'})\n",
        "fig_scatter_category.show()"
      ],
      "metadata": {
        "colab": {
          "base_uri": "https://localhost:8080/",
          "height": 542
        },
        "id": "2pKv3icSOZV5",
        "outputId": "59506538-89a8-4cde-c322-2b38dbeed9ec"
      },
      "execution_count": 19,
      "outputs": [
        {
          "output_type": "display_data",
          "data": {
            "text/html": [
              "<html>\n",
              "<head><meta charset=\"utf-8\" /></head>\n",
              "<body>\n",
              "    <div>            <script src=\"https://cdnjs.cloudflare.com/ajax/libs/mathjax/2.7.5/MathJax.js?config=TeX-AMS-MML_SVG\"></script><script type=\"text/javascript\">if (window.MathJax && window.MathJax.Hub && window.MathJax.Hub.Config) {window.MathJax.Hub.Config({SVG: {font: \"STIX-Web\"}});}</script>                <script type=\"text/javascript\">window.PlotlyConfig = {MathJaxConfig: 'local'};</script>\n",
              "        <script src=\"https://cdn.plot.ly/plotly-2.18.2.min.js\"></script>                <div id=\"7e829b1e-d1f7-4426-996c-2d9f449b8eca\" class=\"plotly-graph-div\" style=\"height:525px; width:100%;\"></div>            <script type=\"text/javascript\">                                    window.PLOTLYENV=window.PLOTLYENV || {};                                    if (document.getElementById(\"7e829b1e-d1f7-4426-996c-2d9f449b8eca\")) {                    Plotly.newPlot(                        \"7e829b1e-d1f7-4426-996c-2d9f449b8eca\",                        [{\"hovertemplate\":\"PREFERRED_CATEGORY=%{x}<br>Category_Code=%{y}<br>AGE=%{marker.size}<extra></extra>\",\"legendgroup\":\"Electronics\",\"marker\":{\"color\":\"#636efa\",\"size\":[56,56,36,40,28,53,57,41,39,19,47,19,39,59,56,35,42,43,37,45,64,61,64,52,31,21,19,61,40,38,64,43,58,32,18,24,18,61,25,52,50,61,57,43,32,32,56,40,56,62,24,45,45,44,56,23,59,41,20,34,50,36,43,49,49,33,37,53,20,36,28,40,48,47,18,26,52,41,25,55,63,19,50,38,37,63,55,25,44,36,61,54,46,50,35,42,48,41,40,41,18,29,49,39,59,54,56,62,49,47,43,29,18,64,57,18,39,20,43,54,47,63,29,43,43,53,27,49,62,45,41,52],\"sizemode\":\"area\",\"sizeref\":0.16,\"symbol\":\"circle\"},\"mode\":\"markers\",\"name\":\"Electronics\",\"orientation\":\"v\",\"showlegend\":true,\"x\":[\"Electronics\",\"Electronics\",\"Electronics\",\"Electronics\",\"Electronics\",\"Electronics\",\"Electronics\",\"Electronics\",\"Electronics\",\"Electronics\",\"Electronics\",\"Electronics\",\"Electronics\",\"Electronics\",\"Electronics\",\"Electronics\",\"Electronics\",\"Electronics\",\"Electronics\",\"Electronics\",\"Electronics\",\"Electronics\",\"Electronics\",\"Electronics\",\"Electronics\",\"Electronics\",\"Electronics\",\"Electronics\",\"Electronics\",\"Electronics\",\"Electronics\",\"Electronics\",\"Electronics\",\"Electronics\",\"Electronics\",\"Electronics\",\"Electronics\",\"Electronics\",\"Electronics\",\"Electronics\",\"Electronics\",\"Electronics\",\"Electronics\",\"Electronics\",\"Electronics\",\"Electronics\",\"Electronics\",\"Electronics\",\"Electronics\",\"Electronics\",\"Electronics\",\"Electronics\",\"Electronics\",\"Electronics\",\"Electronics\",\"Electronics\",\"Electronics\",\"Electronics\",\"Electronics\",\"Electronics\",\"Electronics\",\"Electronics\",\"Electronics\",\"Electronics\",\"Electronics\",\"Electronics\",\"Electronics\",\"Electronics\",\"Electronics\",\"Electronics\",\"Electronics\",\"Electronics\",\"Electronics\",\"Electronics\",\"Electronics\",\"Electronics\",\"Electronics\",\"Electronics\",\"Electronics\",\"Electronics\",\"Electronics\",\"Electronics\",\"Electronics\",\"Electronics\",\"Electronics\",\"Electronics\",\"Electronics\",\"Electronics\",\"Electronics\",\"Electronics\",\"Electronics\",\"Electronics\",\"Electronics\",\"Electronics\",\"Electronics\",\"Electronics\",\"Electronics\",\"Electronics\",\"Electronics\",\"Electronics\",\"Electronics\",\"Electronics\",\"Electronics\",\"Electronics\",\"Electronics\",\"Electronics\",\"Electronics\",\"Electronics\",\"Electronics\",\"Electronics\",\"Electronics\",\"Electronics\",\"Electronics\",\"Electronics\",\"Electronics\",\"Electronics\",\"Electronics\",\"Electronics\",\"Electronics\",\"Electronics\",\"Electronics\",\"Electronics\",\"Electronics\",\"Electronics\",\"Electronics\",\"Electronics\",\"Electronics\",\"Electronics\",\"Electronics\",\"Electronics\",\"Electronics\",\"Electronics\"],\"xaxis\":\"x\",\"y\":[1,1,1,1,1,1,1,1,1,1,1,1,1,1,1,1,1,1,1,1,1,1,1,1,1,1,1,1,1,1,1,1,1,1,1,1,1,1,1,1,1,1,1,1,1,1,1,1,1,1,1,1,1,1,1,1,1,1,1,1,1,1,1,1,1,1,1,1,1,1,1,1,1,1,1,1,1,1,1,1,1,1,1,1,1,1,1,1,1,1,1,1,1,1,1,1,1,1,1,1,1,1,1,1,1,1,1,1,1,1,1,1,1,1,1,1,1,1,1,1,1,1,1,1,1,1,1,1,1,1,1,1],\"yaxis\":\"y\",\"type\":\"scatter\"},{\"hovertemplate\":\"PREFERRED_CATEGORY=%{x}<br>Category_Code=%{y}<br>AGE=%{marker.size}<extra></extra>\",\"legendgroup\":\"Appliances\",\"marker\":{\"color\":\"#EF553B\",\"size\":[46,60,28,41,20,45,33,64,24,31,26,19,34,23,59,21,31,25,59,58,52,39,44,54,64,43,30,21,54,32,46,30,49,62,23,42,50,58,26,50,61,41,49,19,19,40,61,23,21,34,41,50,26,46,36,43,58,45,33,29,20,37,42,46,35,33,21,20,34,50,29,39,47,55,62,64,21,46,23,58,41,63,38,49,40,49,44,57,26,60,56,24,62,63,33,31,39,23,23,64,36,36,40,51,49,33,56,22,46,46,45,22,38,47,54,27,51,22,21,33,50],\"sizemode\":\"area\",\"sizeref\":0.16,\"symbol\":\"circle\"},\"mode\":\"markers\",\"name\":\"Appliances\",\"orientation\":\"v\",\"showlegend\":true,\"x\":[\"Appliances\",\"Appliances\",\"Appliances\",\"Appliances\",\"Appliances\",\"Appliances\",\"Appliances\",\"Appliances\",\"Appliances\",\"Appliances\",\"Appliances\",\"Appliances\",\"Appliances\",\"Appliances\",\"Appliances\",\"Appliances\",\"Appliances\",\"Appliances\",\"Appliances\",\"Appliances\",\"Appliances\",\"Appliances\",\"Appliances\",\"Appliances\",\"Appliances\",\"Appliances\",\"Appliances\",\"Appliances\",\"Appliances\",\"Appliances\",\"Appliances\",\"Appliances\",\"Appliances\",\"Appliances\",\"Appliances\",\"Appliances\",\"Appliances\",\"Appliances\",\"Appliances\",\"Appliances\",\"Appliances\",\"Appliances\",\"Appliances\",\"Appliances\",\"Appliances\",\"Appliances\",\"Appliances\",\"Appliances\",\"Appliances\",\"Appliances\",\"Appliances\",\"Appliances\",\"Appliances\",\"Appliances\",\"Appliances\",\"Appliances\",\"Appliances\",\"Appliances\",\"Appliances\",\"Appliances\",\"Appliances\",\"Appliances\",\"Appliances\",\"Appliances\",\"Appliances\",\"Appliances\",\"Appliances\",\"Appliances\",\"Appliances\",\"Appliances\",\"Appliances\",\"Appliances\",\"Appliances\",\"Appliances\",\"Appliances\",\"Appliances\",\"Appliances\",\"Appliances\",\"Appliances\",\"Appliances\",\"Appliances\",\"Appliances\",\"Appliances\",\"Appliances\",\"Appliances\",\"Appliances\",\"Appliances\",\"Appliances\",\"Appliances\",\"Appliances\",\"Appliances\",\"Appliances\",\"Appliances\",\"Appliances\",\"Appliances\",\"Appliances\",\"Appliances\",\"Appliances\",\"Appliances\",\"Appliances\",\"Appliances\",\"Appliances\",\"Appliances\",\"Appliances\",\"Appliances\",\"Appliances\",\"Appliances\",\"Appliances\",\"Appliances\",\"Appliances\",\"Appliances\",\"Appliances\",\"Appliances\",\"Appliances\",\"Appliances\",\"Appliances\",\"Appliances\",\"Appliances\",\"Appliances\",\"Appliances\",\"Appliances\"],\"xaxis\":\"x\",\"y\":[2,2,2,2,2,2,2,2,2,2,2,2,2,2,2,2,2,2,2,2,2,2,2,2,2,2,2,2,2,2,2,2,2,2,2,2,2,2,2,2,2,2,2,2,2,2,2,2,2,2,2,2,2,2,2,2,2,2,2,2,2,2,2,2,2,2,2,2,2,2,2,2,2,2,2,2,2,2,2,2,2,2,2,2,2,2,2,2,2,2,2,2,2,2,2,2,2,2,2,2,2,2,2,2,2,2,2,2,2,2,2,2,2,2,2,2,2,2,2,2,2],\"yaxis\":\"y\",\"type\":\"scatter\"},{\"hovertemplate\":\"PREFERRED_CATEGORY=%{x}<br>Category_Code=%{y}<br>AGE=%{marker.size}<extra></extra>\",\"legendgroup\":\"Beauty\",\"marker\":{\"color\":\"#00cc96\",\"size\":[32,38,55,50,29,44,26,27,53,32,57,62,41,46,26,41,25,28,56,24,25,29,51,50,41,54,31,31,59,49,60,53,19,61,56,18,20,44,56,19,54,49,19,22,51,28,23,37,24,50,57,56,35,42,52,24,43,19,22,49,36,53,52,35,58,53,50,51,47,50,45,22,34,52,52,20,57,64,59,46,59,42,30,53,40,51,42,39,32,50,61,61,22,30,59,47,34,43,54,42,62,29,33,39,31,64,22,53,48,49],\"sizemode\":\"area\",\"sizeref\":0.16,\"symbol\":\"circle\"},\"mode\":\"markers\",\"name\":\"Beauty\",\"orientation\":\"v\",\"showlegend\":true,\"x\":[\"Beauty\",\"Beauty\",\"Beauty\",\"Beauty\",\"Beauty\",\"Beauty\",\"Beauty\",\"Beauty\",\"Beauty\",\"Beauty\",\"Beauty\",\"Beauty\",\"Beauty\",\"Beauty\",\"Beauty\",\"Beauty\",\"Beauty\",\"Beauty\",\"Beauty\",\"Beauty\",\"Beauty\",\"Beauty\",\"Beauty\",\"Beauty\",\"Beauty\",\"Beauty\",\"Beauty\",\"Beauty\",\"Beauty\",\"Beauty\",\"Beauty\",\"Beauty\",\"Beauty\",\"Beauty\",\"Beauty\",\"Beauty\",\"Beauty\",\"Beauty\",\"Beauty\",\"Beauty\",\"Beauty\",\"Beauty\",\"Beauty\",\"Beauty\",\"Beauty\",\"Beauty\",\"Beauty\",\"Beauty\",\"Beauty\",\"Beauty\",\"Beauty\",\"Beauty\",\"Beauty\",\"Beauty\",\"Beauty\",\"Beauty\",\"Beauty\",\"Beauty\",\"Beauty\",\"Beauty\",\"Beauty\",\"Beauty\",\"Beauty\",\"Beauty\",\"Beauty\",\"Beauty\",\"Beauty\",\"Beauty\",\"Beauty\",\"Beauty\",\"Beauty\",\"Beauty\",\"Beauty\",\"Beauty\",\"Beauty\",\"Beauty\",\"Beauty\",\"Beauty\",\"Beauty\",\"Beauty\",\"Beauty\",\"Beauty\",\"Beauty\",\"Beauty\",\"Beauty\",\"Beauty\",\"Beauty\",\"Beauty\",\"Beauty\",\"Beauty\",\"Beauty\",\"Beauty\",\"Beauty\",\"Beauty\",\"Beauty\",\"Beauty\",\"Beauty\",\"Beauty\",\"Beauty\",\"Beauty\",\"Beauty\",\"Beauty\",\"Beauty\",\"Beauty\",\"Beauty\",\"Beauty\",\"Beauty\",\"Beauty\",\"Beauty\",\"Beauty\"],\"xaxis\":\"x\",\"y\":[3,3,3,3,3,3,3,3,3,3,3,3,3,3,3,3,3,3,3,3,3,3,3,3,3,3,3,3,3,3,3,3,3,3,3,3,3,3,3,3,3,3,3,3,3,3,3,3,3,3,3,3,3,3,3,3,3,3,3,3,3,3,3,3,3,3,3,3,3,3,3,3,3,3,3,3,3,3,3,3,3,3,3,3,3,3,3,3,3,3,3,3,3,3,3,3,3,3,3,3,3,3,3,3,3,3,3,3,3,3],\"yaxis\":\"y\",\"type\":\"scatter\"},{\"hovertemplate\":\"PREFERRED_CATEGORY=%{x}<br>Category_Code=%{y}<br>AGE=%{marker.size}<extra></extra>\",\"legendgroup\":\"Fashion\",\"marker\":{\"color\":\"#ab63fa\",\"size\":[25,41,61,38,61,42,32,61,20,54,38,21,24,25,53,57,46,35,43,51,48,31,33,35,42,62,62,42,41,34,52,22,45,26,40,52,18,52,20,18,22,56,44,26,49,47,39,45,59,61,37,47,28,45,30,25,54,32,49,58,29,54,45,18,28,55,23,39,33,20,49,57,18,59,54,58,33,41,50,28,57,37,42,52,52,31,25,24,39,44,38,50,52,45,47,63,48,50,20,59,63,39,19,19,43,34,50,43,52,37,25,32,45,19,40,60,25,21,52,57,33,45,26,18,22,33,56,50,40,36,18,41,33,19,44,37,29],\"sizemode\":\"area\",\"sizeref\":0.16,\"symbol\":\"circle\"},\"mode\":\"markers\",\"name\":\"Fashion\",\"orientation\":\"v\",\"showlegend\":true,\"x\":[\"Fashion\",\"Fashion\",\"Fashion\",\"Fashion\",\"Fashion\",\"Fashion\",\"Fashion\",\"Fashion\",\"Fashion\",\"Fashion\",\"Fashion\",\"Fashion\",\"Fashion\",\"Fashion\",\"Fashion\",\"Fashion\",\"Fashion\",\"Fashion\",\"Fashion\",\"Fashion\",\"Fashion\",\"Fashion\",\"Fashion\",\"Fashion\",\"Fashion\",\"Fashion\",\"Fashion\",\"Fashion\",\"Fashion\",\"Fashion\",\"Fashion\",\"Fashion\",\"Fashion\",\"Fashion\",\"Fashion\",\"Fashion\",\"Fashion\",\"Fashion\",\"Fashion\",\"Fashion\",\"Fashion\",\"Fashion\",\"Fashion\",\"Fashion\",\"Fashion\",\"Fashion\",\"Fashion\",\"Fashion\",\"Fashion\",\"Fashion\",\"Fashion\",\"Fashion\",\"Fashion\",\"Fashion\",\"Fashion\",\"Fashion\",\"Fashion\",\"Fashion\",\"Fashion\",\"Fashion\",\"Fashion\",\"Fashion\",\"Fashion\",\"Fashion\",\"Fashion\",\"Fashion\",\"Fashion\",\"Fashion\",\"Fashion\",\"Fashion\",\"Fashion\",\"Fashion\",\"Fashion\",\"Fashion\",\"Fashion\",\"Fashion\",\"Fashion\",\"Fashion\",\"Fashion\",\"Fashion\",\"Fashion\",\"Fashion\",\"Fashion\",\"Fashion\",\"Fashion\",\"Fashion\",\"Fashion\",\"Fashion\",\"Fashion\",\"Fashion\",\"Fashion\",\"Fashion\",\"Fashion\",\"Fashion\",\"Fashion\",\"Fashion\",\"Fashion\",\"Fashion\",\"Fashion\",\"Fashion\",\"Fashion\",\"Fashion\",\"Fashion\",\"Fashion\",\"Fashion\",\"Fashion\",\"Fashion\",\"Fashion\",\"Fashion\",\"Fashion\",\"Fashion\",\"Fashion\",\"Fashion\",\"Fashion\",\"Fashion\",\"Fashion\",\"Fashion\",\"Fashion\",\"Fashion\",\"Fashion\",\"Fashion\",\"Fashion\",\"Fashion\",\"Fashion\",\"Fashion\",\"Fashion\",\"Fashion\",\"Fashion\",\"Fashion\",\"Fashion\",\"Fashion\",\"Fashion\",\"Fashion\",\"Fashion\",\"Fashion\",\"Fashion\",\"Fashion\"],\"xaxis\":\"x\",\"y\":[4,4,4,4,4,4,4,4,4,4,4,4,4,4,4,4,4,4,4,4,4,4,4,4,4,4,4,4,4,4,4,4,4,4,4,4,4,4,4,4,4,4,4,4,4,4,4,4,4,4,4,4,4,4,4,4,4,4,4,4,4,4,4,4,4,4,4,4,4,4,4,4,4,4,4,4,4,4,4,4,4,4,4,4,4,4,4,4,4,4,4,4,4,4,4,4,4,4,4,4,4,4,4,4,4,4,4,4,4,4,4,4,4,4,4,4,4,4,4,4,4,4,4,4,4,4,4,4,4,4,4,4,4,4,4,4,4],\"yaxis\":\"y\",\"type\":\"scatter\"}],                        {\"template\":{\"data\":{\"histogram2dcontour\":[{\"type\":\"histogram2dcontour\",\"colorbar\":{\"outlinewidth\":0,\"ticks\":\"\"},\"colorscale\":[[0.0,\"#0d0887\"],[0.1111111111111111,\"#46039f\"],[0.2222222222222222,\"#7201a8\"],[0.3333333333333333,\"#9c179e\"],[0.4444444444444444,\"#bd3786\"],[0.5555555555555556,\"#d8576b\"],[0.6666666666666666,\"#ed7953\"],[0.7777777777777778,\"#fb9f3a\"],[0.8888888888888888,\"#fdca26\"],[1.0,\"#f0f921\"]]}],\"choropleth\":[{\"type\":\"choropleth\",\"colorbar\":{\"outlinewidth\":0,\"ticks\":\"\"}}],\"histogram2d\":[{\"type\":\"histogram2d\",\"colorbar\":{\"outlinewidth\":0,\"ticks\":\"\"},\"colorscale\":[[0.0,\"#0d0887\"],[0.1111111111111111,\"#46039f\"],[0.2222222222222222,\"#7201a8\"],[0.3333333333333333,\"#9c179e\"],[0.4444444444444444,\"#bd3786\"],[0.5555555555555556,\"#d8576b\"],[0.6666666666666666,\"#ed7953\"],[0.7777777777777778,\"#fb9f3a\"],[0.8888888888888888,\"#fdca26\"],[1.0,\"#f0f921\"]]}],\"heatmap\":[{\"type\":\"heatmap\",\"colorbar\":{\"outlinewidth\":0,\"ticks\":\"\"},\"colorscale\":[[0.0,\"#0d0887\"],[0.1111111111111111,\"#46039f\"],[0.2222222222222222,\"#7201a8\"],[0.3333333333333333,\"#9c179e\"],[0.4444444444444444,\"#bd3786\"],[0.5555555555555556,\"#d8576b\"],[0.6666666666666666,\"#ed7953\"],[0.7777777777777778,\"#fb9f3a\"],[0.8888888888888888,\"#fdca26\"],[1.0,\"#f0f921\"]]}],\"heatmapgl\":[{\"type\":\"heatmapgl\",\"colorbar\":{\"outlinewidth\":0,\"ticks\":\"\"},\"colorscale\":[[0.0,\"#0d0887\"],[0.1111111111111111,\"#46039f\"],[0.2222222222222222,\"#7201a8\"],[0.3333333333333333,\"#9c179e\"],[0.4444444444444444,\"#bd3786\"],[0.5555555555555556,\"#d8576b\"],[0.6666666666666666,\"#ed7953\"],[0.7777777777777778,\"#fb9f3a\"],[0.8888888888888888,\"#fdca26\"],[1.0,\"#f0f921\"]]}],\"contourcarpet\":[{\"type\":\"contourcarpet\",\"colorbar\":{\"outlinewidth\":0,\"ticks\":\"\"}}],\"contour\":[{\"type\":\"contour\",\"colorbar\":{\"outlinewidth\":0,\"ticks\":\"\"},\"colorscale\":[[0.0,\"#0d0887\"],[0.1111111111111111,\"#46039f\"],[0.2222222222222222,\"#7201a8\"],[0.3333333333333333,\"#9c179e\"],[0.4444444444444444,\"#bd3786\"],[0.5555555555555556,\"#d8576b\"],[0.6666666666666666,\"#ed7953\"],[0.7777777777777778,\"#fb9f3a\"],[0.8888888888888888,\"#fdca26\"],[1.0,\"#f0f921\"]]}],\"surface\":[{\"type\":\"surface\",\"colorbar\":{\"outlinewidth\":0,\"ticks\":\"\"},\"colorscale\":[[0.0,\"#0d0887\"],[0.1111111111111111,\"#46039f\"],[0.2222222222222222,\"#7201a8\"],[0.3333333333333333,\"#9c179e\"],[0.4444444444444444,\"#bd3786\"],[0.5555555555555556,\"#d8576b\"],[0.6666666666666666,\"#ed7953\"],[0.7777777777777778,\"#fb9f3a\"],[0.8888888888888888,\"#fdca26\"],[1.0,\"#f0f921\"]]}],\"mesh3d\":[{\"type\":\"mesh3d\",\"colorbar\":{\"outlinewidth\":0,\"ticks\":\"\"}}],\"scatter\":[{\"fillpattern\":{\"fillmode\":\"overlay\",\"size\":10,\"solidity\":0.2},\"type\":\"scatter\"}],\"parcoords\":[{\"type\":\"parcoords\",\"line\":{\"colorbar\":{\"outlinewidth\":0,\"ticks\":\"\"}}}],\"scatterpolargl\":[{\"type\":\"scatterpolargl\",\"marker\":{\"colorbar\":{\"outlinewidth\":0,\"ticks\":\"\"}}}],\"bar\":[{\"error_x\":{\"color\":\"#2a3f5f\"},\"error_y\":{\"color\":\"#2a3f5f\"},\"marker\":{\"line\":{\"color\":\"#E5ECF6\",\"width\":0.5},\"pattern\":{\"fillmode\":\"overlay\",\"size\":10,\"solidity\":0.2}},\"type\":\"bar\"}],\"scattergeo\":[{\"type\":\"scattergeo\",\"marker\":{\"colorbar\":{\"outlinewidth\":0,\"ticks\":\"\"}}}],\"scatterpolar\":[{\"type\":\"scatterpolar\",\"marker\":{\"colorbar\":{\"outlinewidth\":0,\"ticks\":\"\"}}}],\"histogram\":[{\"marker\":{\"pattern\":{\"fillmode\":\"overlay\",\"size\":10,\"solidity\":0.2}},\"type\":\"histogram\"}],\"scattergl\":[{\"type\":\"scattergl\",\"marker\":{\"colorbar\":{\"outlinewidth\":0,\"ticks\":\"\"}}}],\"scatter3d\":[{\"type\":\"scatter3d\",\"line\":{\"colorbar\":{\"outlinewidth\":0,\"ticks\":\"\"}},\"marker\":{\"colorbar\":{\"outlinewidth\":0,\"ticks\":\"\"}}}],\"scattermapbox\":[{\"type\":\"scattermapbox\",\"marker\":{\"colorbar\":{\"outlinewidth\":0,\"ticks\":\"\"}}}],\"scatterternary\":[{\"type\":\"scatterternary\",\"marker\":{\"colorbar\":{\"outlinewidth\":0,\"ticks\":\"\"}}}],\"scattercarpet\":[{\"type\":\"scattercarpet\",\"marker\":{\"colorbar\":{\"outlinewidth\":0,\"ticks\":\"\"}}}],\"carpet\":[{\"aaxis\":{\"endlinecolor\":\"#2a3f5f\",\"gridcolor\":\"white\",\"linecolor\":\"white\",\"minorgridcolor\":\"white\",\"startlinecolor\":\"#2a3f5f\"},\"baxis\":{\"endlinecolor\":\"#2a3f5f\",\"gridcolor\":\"white\",\"linecolor\":\"white\",\"minorgridcolor\":\"white\",\"startlinecolor\":\"#2a3f5f\"},\"type\":\"carpet\"}],\"table\":[{\"cells\":{\"fill\":{\"color\":\"#EBF0F8\"},\"line\":{\"color\":\"white\"}},\"header\":{\"fill\":{\"color\":\"#C8D4E3\"},\"line\":{\"color\":\"white\"}},\"type\":\"table\"}],\"barpolar\":[{\"marker\":{\"line\":{\"color\":\"#E5ECF6\",\"width\":0.5},\"pattern\":{\"fillmode\":\"overlay\",\"size\":10,\"solidity\":0.2}},\"type\":\"barpolar\"}],\"pie\":[{\"automargin\":true,\"type\":\"pie\"}]},\"layout\":{\"autotypenumbers\":\"strict\",\"colorway\":[\"#636efa\",\"#EF553B\",\"#00cc96\",\"#ab63fa\",\"#FFA15A\",\"#19d3f3\",\"#FF6692\",\"#B6E880\",\"#FF97FF\",\"#FECB52\"],\"font\":{\"color\":\"#2a3f5f\"},\"hovermode\":\"closest\",\"hoverlabel\":{\"align\":\"left\"},\"paper_bgcolor\":\"white\",\"plot_bgcolor\":\"#E5ECF6\",\"polar\":{\"bgcolor\":\"#E5ECF6\",\"angularaxis\":{\"gridcolor\":\"white\",\"linecolor\":\"white\",\"ticks\":\"\"},\"radialaxis\":{\"gridcolor\":\"white\",\"linecolor\":\"white\",\"ticks\":\"\"}},\"ternary\":{\"bgcolor\":\"#E5ECF6\",\"aaxis\":{\"gridcolor\":\"white\",\"linecolor\":\"white\",\"ticks\":\"\"},\"baxis\":{\"gridcolor\":\"white\",\"linecolor\":\"white\",\"ticks\":\"\"},\"caxis\":{\"gridcolor\":\"white\",\"linecolor\":\"white\",\"ticks\":\"\"}},\"coloraxis\":{\"colorbar\":{\"outlinewidth\":0,\"ticks\":\"\"}},\"colorscale\":{\"sequential\":[[0.0,\"#0d0887\"],[0.1111111111111111,\"#46039f\"],[0.2222222222222222,\"#7201a8\"],[0.3333333333333333,\"#9c179e\"],[0.4444444444444444,\"#bd3786\"],[0.5555555555555556,\"#d8576b\"],[0.6666666666666666,\"#ed7953\"],[0.7777777777777778,\"#fb9f3a\"],[0.8888888888888888,\"#fdca26\"],[1.0,\"#f0f921\"]],\"sequentialminus\":[[0.0,\"#0d0887\"],[0.1111111111111111,\"#46039f\"],[0.2222222222222222,\"#7201a8\"],[0.3333333333333333,\"#9c179e\"],[0.4444444444444444,\"#bd3786\"],[0.5555555555555556,\"#d8576b\"],[0.6666666666666666,\"#ed7953\"],[0.7777777777777778,\"#fb9f3a\"],[0.8888888888888888,\"#fdca26\"],[1.0,\"#f0f921\"]],\"diverging\":[[0,\"#8e0152\"],[0.1,\"#c51b7d\"],[0.2,\"#de77ae\"],[0.3,\"#f1b6da\"],[0.4,\"#fde0ef\"],[0.5,\"#f7f7f7\"],[0.6,\"#e6f5d0\"],[0.7,\"#b8e186\"],[0.8,\"#7fbc41\"],[0.9,\"#4d9221\"],[1,\"#276419\"]]},\"xaxis\":{\"gridcolor\":\"white\",\"linecolor\":\"white\",\"ticks\":\"\",\"title\":{\"standoff\":15},\"zerolinecolor\":\"white\",\"automargin\":true,\"zerolinewidth\":2},\"yaxis\":{\"gridcolor\":\"white\",\"linecolor\":\"white\",\"ticks\":\"\",\"title\":{\"standoff\":15},\"zerolinecolor\":\"white\",\"automargin\":true,\"zerolinewidth\":2},\"scene\":{\"xaxis\":{\"backgroundcolor\":\"#E5ECF6\",\"gridcolor\":\"white\",\"linecolor\":\"white\",\"showbackground\":true,\"ticks\":\"\",\"zerolinecolor\":\"white\",\"gridwidth\":2},\"yaxis\":{\"backgroundcolor\":\"#E5ECF6\",\"gridcolor\":\"white\",\"linecolor\":\"white\",\"showbackground\":true,\"ticks\":\"\",\"zerolinecolor\":\"white\",\"gridwidth\":2},\"zaxis\":{\"backgroundcolor\":\"#E5ECF6\",\"gridcolor\":\"white\",\"linecolor\":\"white\",\"showbackground\":true,\"ticks\":\"\",\"zerolinecolor\":\"white\",\"gridwidth\":2}},\"shapedefaults\":{\"line\":{\"color\":\"#2a3f5f\"}},\"annotationdefaults\":{\"arrowcolor\":\"#2a3f5f\",\"arrowhead\":0,\"arrowwidth\":1},\"geo\":{\"bgcolor\":\"white\",\"landcolor\":\"#E5ECF6\",\"subunitcolor\":\"white\",\"showland\":true,\"showlakes\":true,\"lakecolor\":\"white\"},\"title\":{\"x\":0.05},\"mapbox\":{\"style\":\"light\"}}},\"xaxis\":{\"anchor\":\"y\",\"domain\":[0.0,1.0],\"title\":{\"text\":\"PREFERRED_CATEGORY\"},\"categoryorder\":\"array\",\"categoryarray\":[\"Electronics\",\"Appliances\",\"Beauty\",\"Fashion\"]},\"yaxis\":{\"anchor\":\"x\",\"domain\":[0.0,1.0],\"title\":{\"text\":\"Category_Code\"}},\"legend\":{\"title\":{\"text\":\"PREFERRED_CATEGORY\"},\"tracegroupgap\":0,\"itemsizing\":\"constant\"},\"title\":{\"text\":\"Scatter Plot: Preferred Category\"}},                        {\"responsive\": true}                    ).then(function(){\n",
              "                            \n",
              "var gd = document.getElementById('7e829b1e-d1f7-4426-996c-2d9f449b8eca');\n",
              "var x = new MutationObserver(function (mutations, observer) {{\n",
              "        var display = window.getComputedStyle(gd).display;\n",
              "        if (!display || display === 'none') {{\n",
              "            console.log([gd, 'removed!']);\n",
              "            Plotly.purge(gd);\n",
              "            observer.disconnect();\n",
              "        }}\n",
              "}});\n",
              "\n",
              "// Listen for the removal of the full notebook cells\n",
              "var notebookContainer = gd.closest('#notebook-container');\n",
              "if (notebookContainer) {{\n",
              "    x.observe(notebookContainer, {childList: true});\n",
              "}}\n",
              "\n",
              "// Listen for the clearing of the current output cell\n",
              "var outputEl = gd.closest('.output');\n",
              "if (outputEl) {{\n",
              "    x.observe(outputEl, {childList: true});\n",
              "}}\n",
              "\n",
              "                        })                };                            </script>        </div>\n",
              "</body>\n",
              "</html>"
            ]
          },
          "metadata": {}
        }
      ]
    },
    {
      "cell_type": "markdown",
      "source": [
        "#TOTAL_PURCHASE & ANNUAL_INCOME:"
      ],
      "metadata": {
        "id": "Dn59a7hZ0Qak"
      }
    },
    {
      "cell_type": "markdown",
      "source": [
        "Scatter Plot:"
      ],
      "metadata": {
        "id": "KdikaM6WG-_o"
      }
    },
    {
      "cell_type": "code",
      "source": [
        "scatter_plot_btw_TP_and_AI= px.scatter(data_frame=file, x='ANNUAL_INCOME (USD)', y='TOTAL_PURCAHSE', color='PREFERRED_CATEGORY',\n",
        "                         hover_name='CUSTOMER_ID',size='AGE', title='Total Purchase vs. Annual Income<br>49 items of 100k worth are purchased by the customers<br>The Beauty category of Tech Electro is the most purchased by customers.',\n",
        "                        template='plotly_dark')\n",
        "scatter_plot_btw_TP_and_AI.update_layout(title_font=dict(size=15,color=\"cyan\"))\n",
        "scatter_plot_btw_TP_and_AI.show()"
      ],
      "metadata": {
        "colab": {
          "base_uri": "https://localhost:8080/",
          "height": 542
        },
        "id": "iydpW4PEBexr",
        "outputId": "37daa86b-e449-4011-9ae4-16ce5b6f6337"
      },
      "execution_count": 20,
      "outputs": [
        {
          "output_type": "display_data",
          "data": {
            "text/html": [
              "<html>\n",
              "<head><meta charset=\"utf-8\" /></head>\n",
              "<body>\n",
              "    <div>            <script src=\"https://cdnjs.cloudflare.com/ajax/libs/mathjax/2.7.5/MathJax.js?config=TeX-AMS-MML_SVG\"></script><script type=\"text/javascript\">if (window.MathJax && window.MathJax.Hub && window.MathJax.Hub.Config) {window.MathJax.Hub.Config({SVG: {font: \"STIX-Web\"}});}</script>                <script type=\"text/javascript\">window.PlotlyConfig = {MathJaxConfig: 'local'};</script>\n",
              "        <script src=\"https://cdn.plot.ly/plotly-2.18.2.min.js\"></script>                <div id=\"7b4baed9-30ff-44c0-ac28-e181820677e0\" class=\"plotly-graph-div\" style=\"height:525px; width:100%;\"></div>            <script type=\"text/javascript\">                                    window.PLOTLYENV=window.PLOTLYENV || {};                                    if (document.getElementById(\"7b4baed9-30ff-44c0-ac28-e181820677e0\")) {                    Plotly.newPlot(                        \"7b4baed9-30ff-44c0-ac28-e181820677e0\",                        [{\"hovertemplate\":\"<b>%{hovertext}</b><br><br>PREFERRED_CATEGORY=Electronics<br>ANNUAL_INCOME (USD)=%{x}<br>TOTAL_PURCAHSE=%{y}<br>AGE=%{marker.size}<extra></extra>\",\"hovertext\":[1001.0,1007.0,1008.0,1009.0,1010.0,1013.0,1014.0,1015.0,1017.0,1018.0,1021.0,1023.0,1027.0,1031.0,1042.0,1043.0,1045.0,1048.0,1050.0,1051.0,1052.0,1054.0,1056.0,1057.0,1058.0,1062.0,1063.0,1070.0,1079.0,1081.0,1085.0,1087.0,1090.0,1092.0,1094.0,1096.0,1099.0,1100.0,1105.0,1106.0,1108.0,1124.0,1125.0,1137.0,1142.0,1143.0,1148.0,1153.0,1154.0,1155.0,1162.0,1169.0,1170.0,1181.0,1185.0,1186.0,1192.0,1198.0,1203.0,1205.0,1212.0,1214.0,1217.0,1218.0,1220.0,1235.0,1238.0,1239.0,1242.0,1243.0,1254.0,1257.0,1258.0,1259.0,1266.0,1271.0,1273.0,1280.0,1282.0,1284.0,1293.0,1295.0,1302.0,1304.0,1305.0,1314.0,1317.0,1319.0,1320.0,1330.0,1334.0,1342.0,1344.0,1348.0,1354.0,1355.0,1357.0,1361.0,1365.0,1382.0,1388.0,1393.0,1399.0,1403.0,1405.0,1409.0,1415.0,1418.0,1419.0,1420.0,1434.0,1437.0,1438.0,1440.0,1444.0,1446.0,1450.0,1452.0,1454.0,1456.0,1463.0,1464.0,1466.0,1468.0,1469.0,1472.0,1482.0,1484.0,1487.0,1493.0,1497.0,1499.0],\"legendgroup\":\"Electronics\",\"marker\":{\"color\":\"#636efa\",\"size\":[56,56,36,40,28,53,57,41,39,19,47,19,39,59,56,35,42,43,37,45,64,61,64,52,31,21,19,61,40,38,64,43,58,32,18,24,18,61,25,52,50,61,57,43,32,32,56,40,56,62,24,45,45,44,56,23,59,41,20,34,50,36,43,49,49,33,37,53,20,36,28,40,48,47,18,26,52,41,25,55,63,19,50,38,37,63,55,25,44,36,61,54,46,50,35,42,48,41,40,41,18,29,49,39,59,54,56,62,49,47,43,29,18,64,57,18,39,20,43,54,47,63,29,43,43,53,27,49,62,45,41,52],\"sizemode\":\"area\",\"sizeref\":0.16,\"symbol\":\"circle\"},\"mode\":\"markers\",\"name\":\"Electronics\",\"orientation\":\"v\",\"showlegend\":true,\"x\":[86133,69952,52180,31622,78756,91396,81226,59402,76828,77924,65737,66397,51172,83002,61987,45850,54058,96017,62921,31524,45048,67904,64008,30060,85337,58145,64020,51520,81860,31750,45896,92552,59711,86276,74813,38820,41122,71786,55510,49426,47850,82393,96081,92187,80072,54574,32050,85619,62913,70600,67573,92211,84842,80948,48297,60448,54578,63660,53874,95160,88762,55559,51754,33972,39903,81756,32469,83947,78874,79708,87932,96672,64832,61966,59257,56660,43507,97889,67567,51195,74569,56029,53411,90545,82307,83331,62196,37424,42857,69341,38711,82098,30526,58541,79268,84615,90112,92046,71688,91681,86985,98577,87660,63320,56289,91550,57961,51288,66877,45313,90315,46309,85230,89321,69443,34703,61585,73585,56017,42201,57490,49975,53279,96061,79153,94324,97649,43760,42588,36276,81886,39847],\"xaxis\":\"x\",\"y\":[32,6,13,41,24,5,39,10,9,37,46,28,33,27,12,33,42,38,30,47,14,22,30,12,44,29,8,9,29,13,15,38,42,10,22,45,49,15,25,19,16,18,14,29,19,48,10,27,47,20,25,31,33,8,15,11,35,8,46,26,19,28,28,20,31,39,37,25,41,19,6,25,22,7,23,36,49,13,37,45,25,42,6,48,6,48,17,35,20,7,27,34,24,12,42,38,40,6,31,16,34,10,19,31,39,22,40,5,20,7,49,36,32,35,33,36,27,35,23,14,27,23,39,13,32,20,40,43,11,41,31,42],\"yaxis\":\"y\",\"type\":\"scatter\"},{\"hovertemplate\":\"<b>%{hovertext}</b><br><br>PREFERRED_CATEGORY=Appliances<br>ANNUAL_INCOME (USD)=%{x}<br>TOTAL_PURCAHSE=%{y}<br>AGE=%{marker.size}<extra></extra>\",\"hovertext\":[1002.0,1004.0,1011.0,1012.0,1016.0,1032.0,1033.0,1035.0,1039.0,1046.0,1047.0,1049.0,1059.0,1064.0,1065.0,1066.0,1074.0,1077.0,1110.0,1112.0,1123.0,1126.0,1127.0,1131.0,1132.0,1144.0,1146.0,1150.0,1152.0,1156.0,1158.0,1160.0,1161.0,1167.0,1168.0,1177.0,1179.0,1183.0,1189.0,1191.0,1193.0,1194.0,1196.0,1202.0,1207.0,1209.0,1216.0,1219.0,1221.0,1223.0,1225.0,1232.0,1233.0,1236.0,1240.0,1241.0,1247.0,1255.0,1263.0,1267.0,1276.0,1277.0,1290.0,1291.0,1294.0,1297.0,1301.0,1308.0,1309.0,1310.0,1311.0,1312.0,1315.0,1316.0,1318.0,1327.0,1331.0,1337.0,1339.0,1341.0,1343.0,1345.0,1349.0,1350.0,1351.0,1362.0,1367.0,1372.0,1374.0,1375.0,1376.0,1384.0,1386.0,1390.0,1391.0,1392.0,1401.0,1406.0,1417.0,1421.0,1428.0,1430.0,1435.0,1441.0,1442.0,1447.0,1448.0,1449.0,1451.0,1458.0,1460.0,1461.0,1470.0,1474.0,1475.0,1477.0,1480.0,1486.0,1488.0,1489.0,1500.0],\"legendgroup\":\"Appliances\",\"marker\":{\"color\":\"#EF553B\",\"size\":[46,60,28,41,20,45,33,64,24,31,26,19,34,23,59,21,31,25,59,58,52,39,44,54,64,43,30,21,54,32,46,30,49,62,23,42,50,58,26,50,61,41,49,19,19,40,61,23,21,34,41,50,26,46,36,43,58,45,33,29,20,37,42,46,35,33,21,20,34,50,29,39,47,55,62,64,21,46,23,58,41,63,38,49,40,49,44,57,26,60,56,24,62,63,33,31,39,23,23,64,36,36,40,51,49,33,56,22,46,46,45,22,38,47,54,27,51,22,21,33,50],\"sizemode\":\"area\",\"sizeref\":0.16,\"symbol\":\"circle\"},\"mode\":\"markers\",\"name\":\"Appliances\",\"orientation\":\"v\",\"showlegend\":true,\"x\":[91268,87384,70809,46725,34263,54762,41046,83302,51792,75420,68890,77304,43350,50581,53051,81474,50491,30338,82375,87132,57345,59430,57788,69974,46371,33430,40816,54951,64801,87775,34494,97364,75028,78280,54262,91665,85554,76600,37657,56685,58831,37906,84028,47674,55931,76542,99669,71873,33020,75648,32396,97675,95082,56292,52534,93620,77638,63062,93852,72207,80192,93888,61598,57082,41745,44288,47482,82930,74413,63756,83268,69214,78901,93416,35626,53019,35776,91788,35655,83625,45251,98760,81027,64531,38712,56143,81195,62981,76167,73408,69499,79153,57424,82326,53398,80861,31925,33389,86446,40326,32356,46082,38946,30956,77908,95128,55849,61860,52015,47778,72229,78364,63142,34648,65133,65046,75893,91367,82233,74738,56155],\"xaxis\":\"x\",\"y\":[19,48,30,33,41,48,42,27,12,9,26,5,16,37,5,23,6,37,19,23,12,6,13,12,6,40,47,47,25,19,40,19,8,18,8,34,6,29,14,17,11,46,40,49,26,13,12,30,41,28,40,14,37,48,21,26,36,39,15,8,41,37,48,31,12,7,10,39,38,27,34,12,40,9,33,16,20,9,44,5,25,10,43,36,37,45,5,8,10,39,26,42,49,46,34,18,39,22,18,39,25,8,16,18,24,33,47,6,23,6,35,19,11,8,8,44,43,39,31,32,19],\"yaxis\":\"y\",\"type\":\"scatter\"},{\"hovertemplate\":\"<b>%{hovertext}</b><br><br>PREFERRED_CATEGORY=Beauty<br>ANNUAL_INCOME (USD)=%{x}<br>TOTAL_PURCAHSE=%{y}<br>AGE=%{marker.size}<extra></extra>\",\"hovertext\":[1003.0,1006.0,1022.0,1025.0,1026.0,1030.0,1041.0,1072.0,1073.0,1076.0,1080.0,1083.0,1086.0,1091.0,1097.0,1098.0,1101.0,1103.0,1111.0,1114.0,1116.0,1117.0,1118.0,1119.0,1121.0,1122.0,1133.0,1138.0,1145.0,1147.0,1157.0,1159.0,1165.0,1172.0,1178.0,1180.0,1184.0,1188.0,1201.0,1206.0,1210.0,1211.0,1215.0,1226.0,1227.0,1230.0,1234.0,1244.0,1246.0,1248.0,1249.0,1250.0,1251.0,1256.0,1261.0,1262.0,1264.0,1265.0,1268.0,1270.0,1274.0,1283.0,1287.0,1292.0,1298.0,1299.0,1300.0,1322.0,1324.0,1325.0,1326.0,1329.0,1333.0,1340.0,1347.0,1358.0,1359.0,1363.0,1368.0,1377.0,1378.0,1381.0,1383.0,1385.0,1394.0,1397.0,1402.0,1404.0,1407.0,1410.0,1412.0,1413.0,1414.0,1425.0,1426.0,1427.0,1429.0,1432.0,1433.0,1443.0,1445.0,1453.0,1455.0,1457.0,1459.0,1462.0,1478.0,1479.0,1481.0,1494.0],\"legendgroup\":\"Beauty\",\"marker\":{\"color\":\"#00cc96\",\"size\":[32,38,55,50,29,44,26,27,53,32,57,62,41,46,26,41,25,28,56,24,25,29,51,50,41,54,31,31,59,49,60,53,19,61,56,18,20,44,56,19,54,49,19,22,51,28,23,37,24,50,57,56,35,42,52,24,43,19,22,49,36,53,52,35,58,53,50,51,47,50,45,22,34,52,52,20,57,64,59,46,59,42,30,53,40,51,42,39,32,50,61,61,22,30,59,47,34,43,54,42,62,29,33,39,31,64,22,53,48,49],\"sizemode\":\"area\",\"sizeref\":0.16,\"symbol\":\"circle\"},\"mode\":\"markers\",\"name\":\"Beauty\",\"orientation\":\"v\",\"showlegend\":true,\"x\":[68243,56657,59373,91120,49250,87492,97298,66408,87134,74623,41344,97957,85761,42182,54070,99768,36737,84237,65435,50662,70998,86846,36640,74547,45317,37564,75084,42984,42676,62733,65400,73001,59757,68197,57376,44199,92483,72874,64701,47602,72520,94772,63742,49129,31591,37314,63130,98344,84302,32719,52890,66509,72534,90461,67311,61575,31007,77517,43281,31435,75539,54860,87372,59241,36540,98878,71846,31980,56431,56385,68158,51563,98916,74859,41536,56589,60015,36154,50581,82269,68559,52431,93483,36368,95641,92768,56015,94881,55683,54826,76163,96435,41653,50022,82579,58380,50049,67412,32920,55963,69063,56958,75350,59426,75241,87056,77064,99350,91272,53499],\"xaxis\":\"x\",\"y\":[10,18,24,38,29,47,5,30,32,13,17,35,8,23,27,23,5,11,25,29,36,39,48,42,15,39,10,16,19,27,29,15,23,39,22,17,34,48,48,25,30,13,46,43,14,23,9,39,11,15,14,13,18,11,43,45,43,28,30,46,40,10,17,36,48,7,26,34,16,21,20,24,49,48,22,37,27,25,15,47,19,46,46,22,7,18,6,6,18,14,6,29,37,17,38,12,38,19,8,22,10,9,38,29,15,13,21,41,33,26],\"yaxis\":\"y\",\"type\":\"scatter\"},{\"hovertemplate\":\"<b>%{hovertext}</b><br><br>PREFERRED_CATEGORY=Fashion<br>ANNUAL_INCOME (USD)=%{x}<br>TOTAL_PURCAHSE=%{y}<br>AGE=%{marker.size}<extra></extra>\",\"hovertext\":[1005.0,1019.0,1020.0,1024.0,1028.0,1029.0,1034.0,1036.0,1037.0,1038.0,1040.0,1044.0,1053.0,1055.0,1060.0,1061.0,1067.0,1068.0,1069.0,1071.0,1075.0,1078.0,1082.0,1084.0,1088.0,1089.0,1093.0,1095.0,1102.0,1104.0,1107.0,1109.0,1113.0,1115.0,1120.0,1128.0,1129.0,1130.0,1134.0,1135.0,1136.0,1139.0,1140.0,1141.0,1149.0,1151.0,1163.0,1164.0,1166.0,1171.0,1173.0,1174.0,1175.0,1176.0,1182.0,1187.0,1190.0,1195.0,1197.0,1199.0,1200.0,1204.0,1208.0,1213.0,1222.0,1224.0,1228.0,1229.0,1231.0,1237.0,1245.0,1252.0,1253.0,1260.0,1269.0,1272.0,1275.0,1278.0,1279.0,1281.0,1285.0,1286.0,1288.0,1289.0,1296.0,1303.0,1306.0,1307.0,1313.0,1321.0,1323.0,1328.0,1332.0,1335.0,1336.0,1338.0,1346.0,1352.0,1353.0,1356.0,1360.0,1364.0,1366.0,1369.0,1370.0,1371.0,1373.0,1379.0,1380.0,1387.0,1389.0,1395.0,1396.0,1398.0,1400.0,1408.0,1411.0,1416.0,1422.0,1423.0,1424.0,1431.0,1436.0,1439.0,1465.0,1467.0,1471.0,1473.0,1476.0,1483.0,1485.0,1490.0,1491.0,1492.0,1495.0,1496.0,1498.0],\"legendgroup\":\"Fashion\",\"marker\":{\"color\":\"#ab63fa\",\"size\":[25,41,61,38,61,42,32,61,20,54,38,21,24,25,53,57,46,35,43,51,48,31,33,35,42,62,62,42,41,34,52,22,45,26,40,52,18,52,20,18,22,56,44,26,49,47,39,45,59,61,37,47,28,45,30,25,54,32,49,58,29,54,45,18,28,55,23,39,33,20,49,57,18,59,54,58,33,41,50,28,57,37,42,52,52,31,25,24,39,44,38,50,52,45,47,63,48,50,20,59,63,39,19,19,43,34,50,43,52,37,25,32,45,19,40,60,25,21,52,57,33,45,26,18,22,33,56,50,40,36,18,41,33,19,44,37,29],\"sizemode\":\"area\",\"sizeref\":0.16,\"symbol\":\"circle\"},\"mode\":\"markers\",\"name\":\"Fashion\",\"orientation\":\"v\",\"showlegend\":true,\"x\":[61653,89052,41664,68709,41555,83276,58769,53150,98247,34853,89129,42112,65111,84912,54354,75186,99626,36960,65772,79481,31341,42254,84756,88053,57935,67641,49541,67198,66062,81571,67265,96150,32983,53510,84620,78543,43919,99346,59629,81184,91916,63039,88606,40616,63933,62413,30806,86638,64636,86979,71844,94754,64157,70042,96262,56172,55425,91413,37287,90504,89720,73642,59192,80106,71755,39516,41303,60561,49623,99274,79138,48787,78845,42987,91246,35084,37491,39077,50953,53821,51427,57083,74064,37813,43025,80975,33093,52042,58602,49982,78290,48639,66444,60707,69110,68827,77837,95455,35109,59759,59009,51804,94288,82648,60087,79930,99298,78787,65488,75004,80069,39078,55003,81047,79786,43629,56630,63662,31560,56745,61890,30661,75500,60027,56723,41561,56916,74965,80677,94674,51927,63397,49816,72240,65946,85204,45563],\"xaxis\":\"x\",\"y\":[24,18,16,47,43,35,24,49,20,46,25,36,34,21,31,12,35,20,18,45,10,45,17,45,42,8,38,17,28,29,5,11,33,37,30,7,25,30,32,33,30,9,38,41,48,49,17,26,38,32,12,20,46,40,30,35,43,46,24,11,5,17,32,14,8,23,29,22,40,38,32,17,29,46,42,43,44,40,7,12,43,8,6,9,12,27,42,21,26,46,20,12,34,32,44,24,26,20,16,18,49,6,13,7,27,30,22,26,41,39,28,20,11,13,25,24,29,35,45,10,29,29,36,17,13,25,20,37,43,42,41,26,18,11,9,6,25],\"yaxis\":\"y\",\"type\":\"scatter\"}],                        {\"template\":{\"data\":{\"barpolar\":[{\"marker\":{\"line\":{\"color\":\"rgb(17,17,17)\",\"width\":0.5},\"pattern\":{\"fillmode\":\"overlay\",\"size\":10,\"solidity\":0.2}},\"type\":\"barpolar\"}],\"bar\":[{\"error_x\":{\"color\":\"#f2f5fa\"},\"error_y\":{\"color\":\"#f2f5fa\"},\"marker\":{\"line\":{\"color\":\"rgb(17,17,17)\",\"width\":0.5},\"pattern\":{\"fillmode\":\"overlay\",\"size\":10,\"solidity\":0.2}},\"type\":\"bar\"}],\"carpet\":[{\"aaxis\":{\"endlinecolor\":\"#A2B1C6\",\"gridcolor\":\"#506784\",\"linecolor\":\"#506784\",\"minorgridcolor\":\"#506784\",\"startlinecolor\":\"#A2B1C6\"},\"baxis\":{\"endlinecolor\":\"#A2B1C6\",\"gridcolor\":\"#506784\",\"linecolor\":\"#506784\",\"minorgridcolor\":\"#506784\",\"startlinecolor\":\"#A2B1C6\"},\"type\":\"carpet\"}],\"choropleth\":[{\"colorbar\":{\"outlinewidth\":0,\"ticks\":\"\"},\"type\":\"choropleth\"}],\"contourcarpet\":[{\"colorbar\":{\"outlinewidth\":0,\"ticks\":\"\"},\"type\":\"contourcarpet\"}],\"contour\":[{\"colorbar\":{\"outlinewidth\":0,\"ticks\":\"\"},\"colorscale\":[[0.0,\"#0d0887\"],[0.1111111111111111,\"#46039f\"],[0.2222222222222222,\"#7201a8\"],[0.3333333333333333,\"#9c179e\"],[0.4444444444444444,\"#bd3786\"],[0.5555555555555556,\"#d8576b\"],[0.6666666666666666,\"#ed7953\"],[0.7777777777777778,\"#fb9f3a\"],[0.8888888888888888,\"#fdca26\"],[1.0,\"#f0f921\"]],\"type\":\"contour\"}],\"heatmapgl\":[{\"colorbar\":{\"outlinewidth\":0,\"ticks\":\"\"},\"colorscale\":[[0.0,\"#0d0887\"],[0.1111111111111111,\"#46039f\"],[0.2222222222222222,\"#7201a8\"],[0.3333333333333333,\"#9c179e\"],[0.4444444444444444,\"#bd3786\"],[0.5555555555555556,\"#d8576b\"],[0.6666666666666666,\"#ed7953\"],[0.7777777777777778,\"#fb9f3a\"],[0.8888888888888888,\"#fdca26\"],[1.0,\"#f0f921\"]],\"type\":\"heatmapgl\"}],\"heatmap\":[{\"colorbar\":{\"outlinewidth\":0,\"ticks\":\"\"},\"colorscale\":[[0.0,\"#0d0887\"],[0.1111111111111111,\"#46039f\"],[0.2222222222222222,\"#7201a8\"],[0.3333333333333333,\"#9c179e\"],[0.4444444444444444,\"#bd3786\"],[0.5555555555555556,\"#d8576b\"],[0.6666666666666666,\"#ed7953\"],[0.7777777777777778,\"#fb9f3a\"],[0.8888888888888888,\"#fdca26\"],[1.0,\"#f0f921\"]],\"type\":\"heatmap\"}],\"histogram2dcontour\":[{\"colorbar\":{\"outlinewidth\":0,\"ticks\":\"\"},\"colorscale\":[[0.0,\"#0d0887\"],[0.1111111111111111,\"#46039f\"],[0.2222222222222222,\"#7201a8\"],[0.3333333333333333,\"#9c179e\"],[0.4444444444444444,\"#bd3786\"],[0.5555555555555556,\"#d8576b\"],[0.6666666666666666,\"#ed7953\"],[0.7777777777777778,\"#fb9f3a\"],[0.8888888888888888,\"#fdca26\"],[1.0,\"#f0f921\"]],\"type\":\"histogram2dcontour\"}],\"histogram2d\":[{\"colorbar\":{\"outlinewidth\":0,\"ticks\":\"\"},\"colorscale\":[[0.0,\"#0d0887\"],[0.1111111111111111,\"#46039f\"],[0.2222222222222222,\"#7201a8\"],[0.3333333333333333,\"#9c179e\"],[0.4444444444444444,\"#bd3786\"],[0.5555555555555556,\"#d8576b\"],[0.6666666666666666,\"#ed7953\"],[0.7777777777777778,\"#fb9f3a\"],[0.8888888888888888,\"#fdca26\"],[1.0,\"#f0f921\"]],\"type\":\"histogram2d\"}],\"histogram\":[{\"marker\":{\"pattern\":{\"fillmode\":\"overlay\",\"size\":10,\"solidity\":0.2}},\"type\":\"histogram\"}],\"mesh3d\":[{\"colorbar\":{\"outlinewidth\":0,\"ticks\":\"\"},\"type\":\"mesh3d\"}],\"parcoords\":[{\"line\":{\"colorbar\":{\"outlinewidth\":0,\"ticks\":\"\"}},\"type\":\"parcoords\"}],\"pie\":[{\"automargin\":true,\"type\":\"pie\"}],\"scatter3d\":[{\"line\":{\"colorbar\":{\"outlinewidth\":0,\"ticks\":\"\"}},\"marker\":{\"colorbar\":{\"outlinewidth\":0,\"ticks\":\"\"}},\"type\":\"scatter3d\"}],\"scattercarpet\":[{\"marker\":{\"colorbar\":{\"outlinewidth\":0,\"ticks\":\"\"}},\"type\":\"scattercarpet\"}],\"scattergeo\":[{\"marker\":{\"colorbar\":{\"outlinewidth\":0,\"ticks\":\"\"}},\"type\":\"scattergeo\"}],\"scattergl\":[{\"marker\":{\"line\":{\"color\":\"#283442\"}},\"type\":\"scattergl\"}],\"scattermapbox\":[{\"marker\":{\"colorbar\":{\"outlinewidth\":0,\"ticks\":\"\"}},\"type\":\"scattermapbox\"}],\"scatterpolargl\":[{\"marker\":{\"colorbar\":{\"outlinewidth\":0,\"ticks\":\"\"}},\"type\":\"scatterpolargl\"}],\"scatterpolar\":[{\"marker\":{\"colorbar\":{\"outlinewidth\":0,\"ticks\":\"\"}},\"type\":\"scatterpolar\"}],\"scatter\":[{\"marker\":{\"line\":{\"color\":\"#283442\"}},\"type\":\"scatter\"}],\"scatterternary\":[{\"marker\":{\"colorbar\":{\"outlinewidth\":0,\"ticks\":\"\"}},\"type\":\"scatterternary\"}],\"surface\":[{\"colorbar\":{\"outlinewidth\":0,\"ticks\":\"\"},\"colorscale\":[[0.0,\"#0d0887\"],[0.1111111111111111,\"#46039f\"],[0.2222222222222222,\"#7201a8\"],[0.3333333333333333,\"#9c179e\"],[0.4444444444444444,\"#bd3786\"],[0.5555555555555556,\"#d8576b\"],[0.6666666666666666,\"#ed7953\"],[0.7777777777777778,\"#fb9f3a\"],[0.8888888888888888,\"#fdca26\"],[1.0,\"#f0f921\"]],\"type\":\"surface\"}],\"table\":[{\"cells\":{\"fill\":{\"color\":\"#506784\"},\"line\":{\"color\":\"rgb(17,17,17)\"}},\"header\":{\"fill\":{\"color\":\"#2a3f5f\"},\"line\":{\"color\":\"rgb(17,17,17)\"}},\"type\":\"table\"}]},\"layout\":{\"annotationdefaults\":{\"arrowcolor\":\"#f2f5fa\",\"arrowhead\":0,\"arrowwidth\":1},\"autotypenumbers\":\"strict\",\"coloraxis\":{\"colorbar\":{\"outlinewidth\":0,\"ticks\":\"\"}},\"colorscale\":{\"diverging\":[[0,\"#8e0152\"],[0.1,\"#c51b7d\"],[0.2,\"#de77ae\"],[0.3,\"#f1b6da\"],[0.4,\"#fde0ef\"],[0.5,\"#f7f7f7\"],[0.6,\"#e6f5d0\"],[0.7,\"#b8e186\"],[0.8,\"#7fbc41\"],[0.9,\"#4d9221\"],[1,\"#276419\"]],\"sequential\":[[0.0,\"#0d0887\"],[0.1111111111111111,\"#46039f\"],[0.2222222222222222,\"#7201a8\"],[0.3333333333333333,\"#9c179e\"],[0.4444444444444444,\"#bd3786\"],[0.5555555555555556,\"#d8576b\"],[0.6666666666666666,\"#ed7953\"],[0.7777777777777778,\"#fb9f3a\"],[0.8888888888888888,\"#fdca26\"],[1.0,\"#f0f921\"]],\"sequentialminus\":[[0.0,\"#0d0887\"],[0.1111111111111111,\"#46039f\"],[0.2222222222222222,\"#7201a8\"],[0.3333333333333333,\"#9c179e\"],[0.4444444444444444,\"#bd3786\"],[0.5555555555555556,\"#d8576b\"],[0.6666666666666666,\"#ed7953\"],[0.7777777777777778,\"#fb9f3a\"],[0.8888888888888888,\"#fdca26\"],[1.0,\"#f0f921\"]]},\"colorway\":[\"#636efa\",\"#EF553B\",\"#00cc96\",\"#ab63fa\",\"#FFA15A\",\"#19d3f3\",\"#FF6692\",\"#B6E880\",\"#FF97FF\",\"#FECB52\"],\"font\":{\"color\":\"#f2f5fa\"},\"geo\":{\"bgcolor\":\"rgb(17,17,17)\",\"lakecolor\":\"rgb(17,17,17)\",\"landcolor\":\"rgb(17,17,17)\",\"showlakes\":true,\"showland\":true,\"subunitcolor\":\"#506784\"},\"hoverlabel\":{\"align\":\"left\"},\"hovermode\":\"closest\",\"mapbox\":{\"style\":\"dark\"},\"paper_bgcolor\":\"rgb(17,17,17)\",\"plot_bgcolor\":\"rgb(17,17,17)\",\"polar\":{\"angularaxis\":{\"gridcolor\":\"#506784\",\"linecolor\":\"#506784\",\"ticks\":\"\"},\"bgcolor\":\"rgb(17,17,17)\",\"radialaxis\":{\"gridcolor\":\"#506784\",\"linecolor\":\"#506784\",\"ticks\":\"\"}},\"scene\":{\"xaxis\":{\"backgroundcolor\":\"rgb(17,17,17)\",\"gridcolor\":\"#506784\",\"gridwidth\":2,\"linecolor\":\"#506784\",\"showbackground\":true,\"ticks\":\"\",\"zerolinecolor\":\"#C8D4E3\"},\"yaxis\":{\"backgroundcolor\":\"rgb(17,17,17)\",\"gridcolor\":\"#506784\",\"gridwidth\":2,\"linecolor\":\"#506784\",\"showbackground\":true,\"ticks\":\"\",\"zerolinecolor\":\"#C8D4E3\"},\"zaxis\":{\"backgroundcolor\":\"rgb(17,17,17)\",\"gridcolor\":\"#506784\",\"gridwidth\":2,\"linecolor\":\"#506784\",\"showbackground\":true,\"ticks\":\"\",\"zerolinecolor\":\"#C8D4E3\"}},\"shapedefaults\":{\"line\":{\"color\":\"#f2f5fa\"}},\"sliderdefaults\":{\"bgcolor\":\"#C8D4E3\",\"bordercolor\":\"rgb(17,17,17)\",\"borderwidth\":1,\"tickwidth\":0},\"ternary\":{\"aaxis\":{\"gridcolor\":\"#506784\",\"linecolor\":\"#506784\",\"ticks\":\"\"},\"baxis\":{\"gridcolor\":\"#506784\",\"linecolor\":\"#506784\",\"ticks\":\"\"},\"bgcolor\":\"rgb(17,17,17)\",\"caxis\":{\"gridcolor\":\"#506784\",\"linecolor\":\"#506784\",\"ticks\":\"\"}},\"title\":{\"x\":0.05},\"updatemenudefaults\":{\"bgcolor\":\"#506784\",\"borderwidth\":0},\"xaxis\":{\"automargin\":true,\"gridcolor\":\"#283442\",\"linecolor\":\"#506784\",\"ticks\":\"\",\"title\":{\"standoff\":15},\"zerolinecolor\":\"#283442\",\"zerolinewidth\":2},\"yaxis\":{\"automargin\":true,\"gridcolor\":\"#283442\",\"linecolor\":\"#506784\",\"ticks\":\"\",\"title\":{\"standoff\":15},\"zerolinecolor\":\"#283442\",\"zerolinewidth\":2}}},\"xaxis\":{\"anchor\":\"y\",\"domain\":[0.0,1.0],\"title\":{\"text\":\"ANNUAL_INCOME (USD)\"}},\"yaxis\":{\"anchor\":\"x\",\"domain\":[0.0,1.0],\"title\":{\"text\":\"TOTAL_PURCAHSE\"}},\"legend\":{\"title\":{\"text\":\"PREFERRED_CATEGORY\"},\"tracegroupgap\":0,\"itemsizing\":\"constant\"},\"title\":{\"text\":\"Total Purchase vs. Annual Income<br>49 items of 100k worth are purchased by the customers<br>The Beauty category of Tech Electro is the most purchased by customers.\",\"font\":{\"size\":15,\"color\":\"cyan\"}}},                        {\"responsive\": true}                    ).then(function(){\n",
              "                            \n",
              "var gd = document.getElementById('7b4baed9-30ff-44c0-ac28-e181820677e0');\n",
              "var x = new MutationObserver(function (mutations, observer) {{\n",
              "        var display = window.getComputedStyle(gd).display;\n",
              "        if (!display || display === 'none') {{\n",
              "            console.log([gd, 'removed!']);\n",
              "            Plotly.purge(gd);\n",
              "            observer.disconnect();\n",
              "        }}\n",
              "}});\n",
              "\n",
              "// Listen for the removal of the full notebook cells\n",
              "var notebookContainer = gd.closest('#notebook-container');\n",
              "if (notebookContainer) {{\n",
              "    x.observe(notebookContainer, {childList: true});\n",
              "}}\n",
              "\n",
              "// Listen for the clearing of the current output cell\n",
              "var outputEl = gd.closest('.output');\n",
              "if (outputEl) {{\n",
              "    x.observe(outputEl, {childList: true});\n",
              "}}\n",
              "\n",
              "                        })                };                            </script>        </div>\n",
              "</body>\n",
              "</html>"
            ]
          },
          "metadata": {}
        }
      ]
    },
    {
      "cell_type": "markdown",
      "source": [
        "#Box Plot:"
      ],
      "metadata": {
        "id": "oapH_BCiIEB6"
      }
    },
    {
      "cell_type": "code",
      "source": [
        "box_plot_btw_TP_and_AI= px.box(data_frame=file, x='ANNUAL_INCOME (USD)', y='TOTAL_PURCAHSE', color='PREFERRED_CATEGORY',title='Total Purchase vs. Annual Income')\n",
        "box_plot_btw_TP_and_AI.update_layout(title_font=dict(size=15,color=\"cyan\"))\n",
        "box_plot_btw_TP_and_AI.show()"
      ],
      "metadata": {
        "colab": {
          "base_uri": "https://localhost:8080/",
          "height": 542
        },
        "id": "Zwx0XcaVIGRz",
        "outputId": "be80abc8-24fe-40a9-e66e-b9703ce5265e"
      },
      "execution_count": 21,
      "outputs": [
        {
          "output_type": "display_data",
          "data": {
            "text/html": [
              "<html>\n",
              "<head><meta charset=\"utf-8\" /></head>\n",
              "<body>\n",
              "    <div>            <script src=\"https://cdnjs.cloudflare.com/ajax/libs/mathjax/2.7.5/MathJax.js?config=TeX-AMS-MML_SVG\"></script><script type=\"text/javascript\">if (window.MathJax && window.MathJax.Hub && window.MathJax.Hub.Config) {window.MathJax.Hub.Config({SVG: {font: \"STIX-Web\"}});}</script>                <script type=\"text/javascript\">window.PlotlyConfig = {MathJaxConfig: 'local'};</script>\n",
              "        <script src=\"https://cdn.plot.ly/plotly-2.18.2.min.js\"></script>                <div id=\"e6168d4d-6cfb-4576-a3e3-dc7ba697db9f\" class=\"plotly-graph-div\" style=\"height:525px; width:100%;\"></div>            <script type=\"text/javascript\">                                    window.PLOTLYENV=window.PLOTLYENV || {};                                    if (document.getElementById(\"e6168d4d-6cfb-4576-a3e3-dc7ba697db9f\")) {                    Plotly.newPlot(                        \"e6168d4d-6cfb-4576-a3e3-dc7ba697db9f\",                        [{\"alignmentgroup\":\"True\",\"hovertemplate\":\"PREFERRED_CATEGORY=Electronics<br>ANNUAL_INCOME (USD)=%{x}<br>TOTAL_PURCAHSE=%{y}<extra></extra>\",\"legendgroup\":\"Electronics\",\"marker\":{\"color\":\"#636efa\"},\"name\":\"Electronics\",\"notched\":false,\"offsetgroup\":\"Electronics\",\"orientation\":\"v\",\"showlegend\":true,\"x\":[86133,69952,52180,31622,78756,91396,81226,59402,76828,77924,65737,66397,51172,83002,61987,45850,54058,96017,62921,31524,45048,67904,64008,30060,85337,58145,64020,51520,81860,31750,45896,92552,59711,86276,74813,38820,41122,71786,55510,49426,47850,82393,96081,92187,80072,54574,32050,85619,62913,70600,67573,92211,84842,80948,48297,60448,54578,63660,53874,95160,88762,55559,51754,33972,39903,81756,32469,83947,78874,79708,87932,96672,64832,61966,59257,56660,43507,97889,67567,51195,74569,56029,53411,90545,82307,83331,62196,37424,42857,69341,38711,82098,30526,58541,79268,84615,90112,92046,71688,91681,86985,98577,87660,63320,56289,91550,57961,51288,66877,45313,90315,46309,85230,89321,69443,34703,61585,73585,56017,42201,57490,49975,53279,96061,79153,94324,97649,43760,42588,36276,81886,39847],\"x0\":\" \",\"xaxis\":\"x\",\"y\":[32,6,13,41,24,5,39,10,9,37,46,28,33,27,12,33,42,38,30,47,14,22,30,12,44,29,8,9,29,13,15,38,42,10,22,45,49,15,25,19,16,18,14,29,19,48,10,27,47,20,25,31,33,8,15,11,35,8,46,26,19,28,28,20,31,39,37,25,41,19,6,25,22,7,23,36,49,13,37,45,25,42,6,48,6,48,17,35,20,7,27,34,24,12,42,38,40,6,31,16,34,10,19,31,39,22,40,5,20,7,49,36,32,35,33,36,27,35,23,14,27,23,39,13,32,20,40,43,11,41,31,42],\"y0\":\" \",\"yaxis\":\"y\",\"type\":\"box\"},{\"alignmentgroup\":\"True\",\"hovertemplate\":\"PREFERRED_CATEGORY=Appliances<br>ANNUAL_INCOME (USD)=%{x}<br>TOTAL_PURCAHSE=%{y}<extra></extra>\",\"legendgroup\":\"Appliances\",\"marker\":{\"color\":\"#EF553B\"},\"name\":\"Appliances\",\"notched\":false,\"offsetgroup\":\"Appliances\",\"orientation\":\"v\",\"showlegend\":true,\"x\":[91268,87384,70809,46725,34263,54762,41046,83302,51792,75420,68890,77304,43350,50581,53051,81474,50491,30338,82375,87132,57345,59430,57788,69974,46371,33430,40816,54951,64801,87775,34494,97364,75028,78280,54262,91665,85554,76600,37657,56685,58831,37906,84028,47674,55931,76542,99669,71873,33020,75648,32396,97675,95082,56292,52534,93620,77638,63062,93852,72207,80192,93888,61598,57082,41745,44288,47482,82930,74413,63756,83268,69214,78901,93416,35626,53019,35776,91788,35655,83625,45251,98760,81027,64531,38712,56143,81195,62981,76167,73408,69499,79153,57424,82326,53398,80861,31925,33389,86446,40326,32356,46082,38946,30956,77908,95128,55849,61860,52015,47778,72229,78364,63142,34648,65133,65046,75893,91367,82233,74738,56155],\"x0\":\" \",\"xaxis\":\"x\",\"y\":[19,48,30,33,41,48,42,27,12,9,26,5,16,37,5,23,6,37,19,23,12,6,13,12,6,40,47,47,25,19,40,19,8,18,8,34,6,29,14,17,11,46,40,49,26,13,12,30,41,28,40,14,37,48,21,26,36,39,15,8,41,37,48,31,12,7,10,39,38,27,34,12,40,9,33,16,20,9,44,5,25,10,43,36,37,45,5,8,10,39,26,42,49,46,34,18,39,22,18,39,25,8,16,18,24,33,47,6,23,6,35,19,11,8,8,44,43,39,31,32,19],\"y0\":\" \",\"yaxis\":\"y\",\"type\":\"box\"},{\"alignmentgroup\":\"True\",\"hovertemplate\":\"PREFERRED_CATEGORY=Beauty<br>ANNUAL_INCOME (USD)=%{x}<br>TOTAL_PURCAHSE=%{y}<extra></extra>\",\"legendgroup\":\"Beauty\",\"marker\":{\"color\":\"#00cc96\"},\"name\":\"Beauty\",\"notched\":false,\"offsetgroup\":\"Beauty\",\"orientation\":\"v\",\"showlegend\":true,\"x\":[68243,56657,59373,91120,49250,87492,97298,66408,87134,74623,41344,97957,85761,42182,54070,99768,36737,84237,65435,50662,70998,86846,36640,74547,45317,37564,75084,42984,42676,62733,65400,73001,59757,68197,57376,44199,92483,72874,64701,47602,72520,94772,63742,49129,31591,37314,63130,98344,84302,32719,52890,66509,72534,90461,67311,61575,31007,77517,43281,31435,75539,54860,87372,59241,36540,98878,71846,31980,56431,56385,68158,51563,98916,74859,41536,56589,60015,36154,50581,82269,68559,52431,93483,36368,95641,92768,56015,94881,55683,54826,76163,96435,41653,50022,82579,58380,50049,67412,32920,55963,69063,56958,75350,59426,75241,87056,77064,99350,91272,53499],\"x0\":\" \",\"xaxis\":\"x\",\"y\":[10,18,24,38,29,47,5,30,32,13,17,35,8,23,27,23,5,11,25,29,36,39,48,42,15,39,10,16,19,27,29,15,23,39,22,17,34,48,48,25,30,13,46,43,14,23,9,39,11,15,14,13,18,11,43,45,43,28,30,46,40,10,17,36,48,7,26,34,16,21,20,24,49,48,22,37,27,25,15,47,19,46,46,22,7,18,6,6,18,14,6,29,37,17,38,12,38,19,8,22,10,9,38,29,15,13,21,41,33,26],\"y0\":\" \",\"yaxis\":\"y\",\"type\":\"box\"},{\"alignmentgroup\":\"True\",\"hovertemplate\":\"PREFERRED_CATEGORY=Fashion<br>ANNUAL_INCOME (USD)=%{x}<br>TOTAL_PURCAHSE=%{y}<extra></extra>\",\"legendgroup\":\"Fashion\",\"marker\":{\"color\":\"#ab63fa\"},\"name\":\"Fashion\",\"notched\":false,\"offsetgroup\":\"Fashion\",\"orientation\":\"v\",\"showlegend\":true,\"x\":[61653,89052,41664,68709,41555,83276,58769,53150,98247,34853,89129,42112,65111,84912,54354,75186,99626,36960,65772,79481,31341,42254,84756,88053,57935,67641,49541,67198,66062,81571,67265,96150,32983,53510,84620,78543,43919,99346,59629,81184,91916,63039,88606,40616,63933,62413,30806,86638,64636,86979,71844,94754,64157,70042,96262,56172,55425,91413,37287,90504,89720,73642,59192,80106,71755,39516,41303,60561,49623,99274,79138,48787,78845,42987,91246,35084,37491,39077,50953,53821,51427,57083,74064,37813,43025,80975,33093,52042,58602,49982,78290,48639,66444,60707,69110,68827,77837,95455,35109,59759,59009,51804,94288,82648,60087,79930,99298,78787,65488,75004,80069,39078,55003,81047,79786,43629,56630,63662,31560,56745,61890,30661,75500,60027,56723,41561,56916,74965,80677,94674,51927,63397,49816,72240,65946,85204,45563],\"x0\":\" \",\"xaxis\":\"x\",\"y\":[24,18,16,47,43,35,24,49,20,46,25,36,34,21,31,12,35,20,18,45,10,45,17,45,42,8,38,17,28,29,5,11,33,37,30,7,25,30,32,33,30,9,38,41,48,49,17,26,38,32,12,20,46,40,30,35,43,46,24,11,5,17,32,14,8,23,29,22,40,38,32,17,29,46,42,43,44,40,7,12,43,8,6,9,12,27,42,21,26,46,20,12,34,32,44,24,26,20,16,18,49,6,13,7,27,30,22,26,41,39,28,20,11,13,25,24,29,35,45,10,29,29,36,17,13,25,20,37,43,42,41,26,18,11,9,6,25],\"y0\":\" \",\"yaxis\":\"y\",\"type\":\"box\"}],                        {\"template\":{\"data\":{\"histogram2dcontour\":[{\"type\":\"histogram2dcontour\",\"colorbar\":{\"outlinewidth\":0,\"ticks\":\"\"},\"colorscale\":[[0.0,\"#0d0887\"],[0.1111111111111111,\"#46039f\"],[0.2222222222222222,\"#7201a8\"],[0.3333333333333333,\"#9c179e\"],[0.4444444444444444,\"#bd3786\"],[0.5555555555555556,\"#d8576b\"],[0.6666666666666666,\"#ed7953\"],[0.7777777777777778,\"#fb9f3a\"],[0.8888888888888888,\"#fdca26\"],[1.0,\"#f0f921\"]]}],\"choropleth\":[{\"type\":\"choropleth\",\"colorbar\":{\"outlinewidth\":0,\"ticks\":\"\"}}],\"histogram2d\":[{\"type\":\"histogram2d\",\"colorbar\":{\"outlinewidth\":0,\"ticks\":\"\"},\"colorscale\":[[0.0,\"#0d0887\"],[0.1111111111111111,\"#46039f\"],[0.2222222222222222,\"#7201a8\"],[0.3333333333333333,\"#9c179e\"],[0.4444444444444444,\"#bd3786\"],[0.5555555555555556,\"#d8576b\"],[0.6666666666666666,\"#ed7953\"],[0.7777777777777778,\"#fb9f3a\"],[0.8888888888888888,\"#fdca26\"],[1.0,\"#f0f921\"]]}],\"heatmap\":[{\"type\":\"heatmap\",\"colorbar\":{\"outlinewidth\":0,\"ticks\":\"\"},\"colorscale\":[[0.0,\"#0d0887\"],[0.1111111111111111,\"#46039f\"],[0.2222222222222222,\"#7201a8\"],[0.3333333333333333,\"#9c179e\"],[0.4444444444444444,\"#bd3786\"],[0.5555555555555556,\"#d8576b\"],[0.6666666666666666,\"#ed7953\"],[0.7777777777777778,\"#fb9f3a\"],[0.8888888888888888,\"#fdca26\"],[1.0,\"#f0f921\"]]}],\"heatmapgl\":[{\"type\":\"heatmapgl\",\"colorbar\":{\"outlinewidth\":0,\"ticks\":\"\"},\"colorscale\":[[0.0,\"#0d0887\"],[0.1111111111111111,\"#46039f\"],[0.2222222222222222,\"#7201a8\"],[0.3333333333333333,\"#9c179e\"],[0.4444444444444444,\"#bd3786\"],[0.5555555555555556,\"#d8576b\"],[0.6666666666666666,\"#ed7953\"],[0.7777777777777778,\"#fb9f3a\"],[0.8888888888888888,\"#fdca26\"],[1.0,\"#f0f921\"]]}],\"contourcarpet\":[{\"type\":\"contourcarpet\",\"colorbar\":{\"outlinewidth\":0,\"ticks\":\"\"}}],\"contour\":[{\"type\":\"contour\",\"colorbar\":{\"outlinewidth\":0,\"ticks\":\"\"},\"colorscale\":[[0.0,\"#0d0887\"],[0.1111111111111111,\"#46039f\"],[0.2222222222222222,\"#7201a8\"],[0.3333333333333333,\"#9c179e\"],[0.4444444444444444,\"#bd3786\"],[0.5555555555555556,\"#d8576b\"],[0.6666666666666666,\"#ed7953\"],[0.7777777777777778,\"#fb9f3a\"],[0.8888888888888888,\"#fdca26\"],[1.0,\"#f0f921\"]]}],\"surface\":[{\"type\":\"surface\",\"colorbar\":{\"outlinewidth\":0,\"ticks\":\"\"},\"colorscale\":[[0.0,\"#0d0887\"],[0.1111111111111111,\"#46039f\"],[0.2222222222222222,\"#7201a8\"],[0.3333333333333333,\"#9c179e\"],[0.4444444444444444,\"#bd3786\"],[0.5555555555555556,\"#d8576b\"],[0.6666666666666666,\"#ed7953\"],[0.7777777777777778,\"#fb9f3a\"],[0.8888888888888888,\"#fdca26\"],[1.0,\"#f0f921\"]]}],\"mesh3d\":[{\"type\":\"mesh3d\",\"colorbar\":{\"outlinewidth\":0,\"ticks\":\"\"}}],\"scatter\":[{\"fillpattern\":{\"fillmode\":\"overlay\",\"size\":10,\"solidity\":0.2},\"type\":\"scatter\"}],\"parcoords\":[{\"type\":\"parcoords\",\"line\":{\"colorbar\":{\"outlinewidth\":0,\"ticks\":\"\"}}}],\"scatterpolargl\":[{\"type\":\"scatterpolargl\",\"marker\":{\"colorbar\":{\"outlinewidth\":0,\"ticks\":\"\"}}}],\"bar\":[{\"error_x\":{\"color\":\"#2a3f5f\"},\"error_y\":{\"color\":\"#2a3f5f\"},\"marker\":{\"line\":{\"color\":\"#E5ECF6\",\"width\":0.5},\"pattern\":{\"fillmode\":\"overlay\",\"size\":10,\"solidity\":0.2}},\"type\":\"bar\"}],\"scattergeo\":[{\"type\":\"scattergeo\",\"marker\":{\"colorbar\":{\"outlinewidth\":0,\"ticks\":\"\"}}}],\"scatterpolar\":[{\"type\":\"scatterpolar\",\"marker\":{\"colorbar\":{\"outlinewidth\":0,\"ticks\":\"\"}}}],\"histogram\":[{\"marker\":{\"pattern\":{\"fillmode\":\"overlay\",\"size\":10,\"solidity\":0.2}},\"type\":\"histogram\"}],\"scattergl\":[{\"type\":\"scattergl\",\"marker\":{\"colorbar\":{\"outlinewidth\":0,\"ticks\":\"\"}}}],\"scatter3d\":[{\"type\":\"scatter3d\",\"line\":{\"colorbar\":{\"outlinewidth\":0,\"ticks\":\"\"}},\"marker\":{\"colorbar\":{\"outlinewidth\":0,\"ticks\":\"\"}}}],\"scattermapbox\":[{\"type\":\"scattermapbox\",\"marker\":{\"colorbar\":{\"outlinewidth\":0,\"ticks\":\"\"}}}],\"scatterternary\":[{\"type\":\"scatterternary\",\"marker\":{\"colorbar\":{\"outlinewidth\":0,\"ticks\":\"\"}}}],\"scattercarpet\":[{\"type\":\"scattercarpet\",\"marker\":{\"colorbar\":{\"outlinewidth\":0,\"ticks\":\"\"}}}],\"carpet\":[{\"aaxis\":{\"endlinecolor\":\"#2a3f5f\",\"gridcolor\":\"white\",\"linecolor\":\"white\",\"minorgridcolor\":\"white\",\"startlinecolor\":\"#2a3f5f\"},\"baxis\":{\"endlinecolor\":\"#2a3f5f\",\"gridcolor\":\"white\",\"linecolor\":\"white\",\"minorgridcolor\":\"white\",\"startlinecolor\":\"#2a3f5f\"},\"type\":\"carpet\"}],\"table\":[{\"cells\":{\"fill\":{\"color\":\"#EBF0F8\"},\"line\":{\"color\":\"white\"}},\"header\":{\"fill\":{\"color\":\"#C8D4E3\"},\"line\":{\"color\":\"white\"}},\"type\":\"table\"}],\"barpolar\":[{\"marker\":{\"line\":{\"color\":\"#E5ECF6\",\"width\":0.5},\"pattern\":{\"fillmode\":\"overlay\",\"size\":10,\"solidity\":0.2}},\"type\":\"barpolar\"}],\"pie\":[{\"automargin\":true,\"type\":\"pie\"}]},\"layout\":{\"autotypenumbers\":\"strict\",\"colorway\":[\"#636efa\",\"#EF553B\",\"#00cc96\",\"#ab63fa\",\"#FFA15A\",\"#19d3f3\",\"#FF6692\",\"#B6E880\",\"#FF97FF\",\"#FECB52\"],\"font\":{\"color\":\"#2a3f5f\"},\"hovermode\":\"closest\",\"hoverlabel\":{\"align\":\"left\"},\"paper_bgcolor\":\"white\",\"plot_bgcolor\":\"#E5ECF6\",\"polar\":{\"bgcolor\":\"#E5ECF6\",\"angularaxis\":{\"gridcolor\":\"white\",\"linecolor\":\"white\",\"ticks\":\"\"},\"radialaxis\":{\"gridcolor\":\"white\",\"linecolor\":\"white\",\"ticks\":\"\"}},\"ternary\":{\"bgcolor\":\"#E5ECF6\",\"aaxis\":{\"gridcolor\":\"white\",\"linecolor\":\"white\",\"ticks\":\"\"},\"baxis\":{\"gridcolor\":\"white\",\"linecolor\":\"white\",\"ticks\":\"\"},\"caxis\":{\"gridcolor\":\"white\",\"linecolor\":\"white\",\"ticks\":\"\"}},\"coloraxis\":{\"colorbar\":{\"outlinewidth\":0,\"ticks\":\"\"}},\"colorscale\":{\"sequential\":[[0.0,\"#0d0887\"],[0.1111111111111111,\"#46039f\"],[0.2222222222222222,\"#7201a8\"],[0.3333333333333333,\"#9c179e\"],[0.4444444444444444,\"#bd3786\"],[0.5555555555555556,\"#d8576b\"],[0.6666666666666666,\"#ed7953\"],[0.7777777777777778,\"#fb9f3a\"],[0.8888888888888888,\"#fdca26\"],[1.0,\"#f0f921\"]],\"sequentialminus\":[[0.0,\"#0d0887\"],[0.1111111111111111,\"#46039f\"],[0.2222222222222222,\"#7201a8\"],[0.3333333333333333,\"#9c179e\"],[0.4444444444444444,\"#bd3786\"],[0.5555555555555556,\"#d8576b\"],[0.6666666666666666,\"#ed7953\"],[0.7777777777777778,\"#fb9f3a\"],[0.8888888888888888,\"#fdca26\"],[1.0,\"#f0f921\"]],\"diverging\":[[0,\"#8e0152\"],[0.1,\"#c51b7d\"],[0.2,\"#de77ae\"],[0.3,\"#f1b6da\"],[0.4,\"#fde0ef\"],[0.5,\"#f7f7f7\"],[0.6,\"#e6f5d0\"],[0.7,\"#b8e186\"],[0.8,\"#7fbc41\"],[0.9,\"#4d9221\"],[1,\"#276419\"]]},\"xaxis\":{\"gridcolor\":\"white\",\"linecolor\":\"white\",\"ticks\":\"\",\"title\":{\"standoff\":15},\"zerolinecolor\":\"white\",\"automargin\":true,\"zerolinewidth\":2},\"yaxis\":{\"gridcolor\":\"white\",\"linecolor\":\"white\",\"ticks\":\"\",\"title\":{\"standoff\":15},\"zerolinecolor\":\"white\",\"automargin\":true,\"zerolinewidth\":2},\"scene\":{\"xaxis\":{\"backgroundcolor\":\"#E5ECF6\",\"gridcolor\":\"white\",\"linecolor\":\"white\",\"showbackground\":true,\"ticks\":\"\",\"zerolinecolor\":\"white\",\"gridwidth\":2},\"yaxis\":{\"backgroundcolor\":\"#E5ECF6\",\"gridcolor\":\"white\",\"linecolor\":\"white\",\"showbackground\":true,\"ticks\":\"\",\"zerolinecolor\":\"white\",\"gridwidth\":2},\"zaxis\":{\"backgroundcolor\":\"#E5ECF6\",\"gridcolor\":\"white\",\"linecolor\":\"white\",\"showbackground\":true,\"ticks\":\"\",\"zerolinecolor\":\"white\",\"gridwidth\":2}},\"shapedefaults\":{\"line\":{\"color\":\"#2a3f5f\"}},\"annotationdefaults\":{\"arrowcolor\":\"#2a3f5f\",\"arrowhead\":0,\"arrowwidth\":1},\"geo\":{\"bgcolor\":\"white\",\"landcolor\":\"#E5ECF6\",\"subunitcolor\":\"white\",\"showland\":true,\"showlakes\":true,\"lakecolor\":\"white\"},\"title\":{\"x\":0.05},\"mapbox\":{\"style\":\"light\"}}},\"xaxis\":{\"anchor\":\"y\",\"domain\":[0.0,1.0],\"title\":{\"text\":\"ANNUAL_INCOME (USD)\"}},\"yaxis\":{\"anchor\":\"x\",\"domain\":[0.0,1.0],\"title\":{\"text\":\"TOTAL_PURCAHSE\"}},\"legend\":{\"title\":{\"text\":\"PREFERRED_CATEGORY\"},\"tracegroupgap\":0},\"title\":{\"text\":\"Total Purchase vs. Annual Income\",\"font\":{\"size\":15,\"color\":\"cyan\"}},\"boxmode\":\"group\"},                        {\"responsive\": true}                    ).then(function(){\n",
              "                            \n",
              "var gd = document.getElementById('e6168d4d-6cfb-4576-a3e3-dc7ba697db9f');\n",
              "var x = new MutationObserver(function (mutations, observer) {{\n",
              "        var display = window.getComputedStyle(gd).display;\n",
              "        if (!display || display === 'none') {{\n",
              "            console.log([gd, 'removed!']);\n",
              "            Plotly.purge(gd);\n",
              "            observer.disconnect();\n",
              "        }}\n",
              "}});\n",
              "\n",
              "// Listen for the removal of the full notebook cells\n",
              "var notebookContainer = gd.closest('#notebook-container');\n",
              "if (notebookContainer) {{\n",
              "    x.observe(notebookContainer, {childList: true});\n",
              "}}\n",
              "\n",
              "// Listen for the clearing of the current output cell\n",
              "var outputEl = gd.closest('.output');\n",
              "if (outputEl) {{\n",
              "    x.observe(outputEl, {childList: true});\n",
              "}}\n",
              "\n",
              "                        })                };                            </script>        </div>\n",
              "</body>\n",
              "</html>"
            ]
          },
          "metadata": {}
        }
      ]
    },
    {
      "cell_type": "markdown",
      "source": [
        "#TOTAL PURCHASE & PREFERRED CATEGORY:"
      ],
      "metadata": {
        "id": "Syx47JBvH4b5"
      }
    },
    {
      "cell_type": "markdown",
      "source": [
        "Box Plot:"
      ],
      "metadata": {
        "id": "e6UIslmtHAhE"
      }
    },
    {
      "cell_type": "code",
      "source": [
        "fig_box = px.box(data_frame=file, x='PREFERRED_CATEGORY', y='TOTAL_PURCAHSE', title='Total Purchase by Preferred Category',\n",
        "                 labels={'TOTAL_PURCHASE': 'Total Purchase', 'PREFERRED_CATEGORY': 'Preferred Category'})\n",
        "fig_box.show()"
      ],
      "metadata": {
        "colab": {
          "base_uri": "https://localhost:8080/",
          "height": 542
        },
        "id": "4BT5ZhRCF6yC",
        "outputId": "7636c5f7-e937-42c1-fb21-2adb44f249c3"
      },
      "execution_count": 22,
      "outputs": [
        {
          "output_type": "display_data",
          "data": {
            "text/html": [
              "<html>\n",
              "<head><meta charset=\"utf-8\" /></head>\n",
              "<body>\n",
              "    <div>            <script src=\"https://cdnjs.cloudflare.com/ajax/libs/mathjax/2.7.5/MathJax.js?config=TeX-AMS-MML_SVG\"></script><script type=\"text/javascript\">if (window.MathJax && window.MathJax.Hub && window.MathJax.Hub.Config) {window.MathJax.Hub.Config({SVG: {font: \"STIX-Web\"}});}</script>                <script type=\"text/javascript\">window.PlotlyConfig = {MathJaxConfig: 'local'};</script>\n",
              "        <script src=\"https://cdn.plot.ly/plotly-2.18.2.min.js\"></script>                <div id=\"8df3988c-6245-462a-915b-f937ba25237a\" class=\"plotly-graph-div\" style=\"height:525px; width:100%;\"></div>            <script type=\"text/javascript\">                                    window.PLOTLYENV=window.PLOTLYENV || {};                                    if (document.getElementById(\"8df3988c-6245-462a-915b-f937ba25237a\")) {                    Plotly.newPlot(                        \"8df3988c-6245-462a-915b-f937ba25237a\",                        [{\"alignmentgroup\":\"True\",\"hovertemplate\":\"Preferred Category=%{x}<br>TOTAL_PURCAHSE=%{y}<extra></extra>\",\"legendgroup\":\"\",\"marker\":{\"color\":\"#636efa\"},\"name\":\"\",\"notched\":false,\"offsetgroup\":\"\",\"orientation\":\"v\",\"showlegend\":false,\"x\":[\"Electronics\",\"Appliances\",\"Beauty\",\"Appliances\",\"Fashion\",\"Beauty\",\"Electronics\",\"Electronics\",\"Electronics\",\"Electronics\",\"Appliances\",\"Appliances\",\"Electronics\",\"Electronics\",\"Electronics\",\"Appliances\",\"Electronics\",\"Electronics\",\"Fashion\",\"Fashion\",\"Electronics\",\"Beauty\",\"Electronics\",\"Fashion\",\"Beauty\",\"Beauty\",\"Electronics\",\"Fashion\",\"Fashion\",\"Beauty\",\"Electronics\",\"Appliances\",\"Appliances\",\"Fashion\",\"Appliances\",\"Fashion\",\"Fashion\",\"Fashion\",\"Appliances\",\"Fashion\",\"Beauty\",\"Electronics\",\"Electronics\",\"Fashion\",\"Electronics\",\"Appliances\",\"Appliances\",\"Electronics\",\"Appliances\",\"Electronics\",\"Electronics\",\"Electronics\",\"Fashion\",\"Electronics\",\"Fashion\",\"Electronics\",\"Electronics\",\"Electronics\",\"Appliances\",\"Fashion\",\"Fashion\",\"Electronics\",\"Electronics\",\"Appliances\",\"Appliances\",\"Appliances\",\"Fashion\",\"Fashion\",\"Fashion\",\"Electronics\",\"Fashion\",\"Beauty\",\"Beauty\",\"Appliances\",\"Fashion\",\"Beauty\",\"Appliances\",\"Fashion\",\"Electronics\",\"Beauty\",\"Electronics\",\"Fashion\",\"Beauty\",\"Fashion\",\"Electronics\",\"Beauty\",\"Electronics\",\"Fashion\",\"Fashion\",\"Electronics\",\"Beauty\",\"Electronics\",\"Fashion\",\"Electronics\",\"Fashion\",\"Electronics\",\"Beauty\",\"Beauty\",\"Electronics\",\"Electronics\",\"Beauty\",\"Fashion\",\"Beauty\",\"Fashion\",\"Electronics\",\"Electronics\",\"Fashion\",\"Electronics\",\"Fashion\",\"Appliances\",\"Beauty\",\"Appliances\",\"Fashion\",\"Beauty\",\"Fashion\",\"Beauty\",\"Beauty\",\"Beauty\",\"Beauty\",\"Fashion\",\"Beauty\",\"Beauty\",\"Appliances\",\"Electronics\",\"Electronics\",\"Appliances\",\"Appliances\",\"Fashion\",\"Fashion\",\"Fashion\",\"Appliances\",\"Appliances\",\"Beauty\",\"Fashion\",\"Fashion\",\"Fashion\",\"Electronics\",\"Beauty\",\"Fashion\",\"Fashion\",\"Fashion\",\"Electronics\",\"Electronics\",\"Appliances\",\"Beauty\",\"Appliances\",\"Beauty\",\"Electronics\",\"Fashion\",\"Appliances\",\"Fashion\",\"Appliances\",\"Electronics\",\"Electronics\",\"Electronics\",\"Appliances\",\"Beauty\",\"Appliances\",\"Beauty\",\"Appliances\",\"Appliances\",\"Electronics\",\"Fashion\",\"Fashion\",\"Beauty\",\"Fashion\",\"Appliances\",\"Appliances\",\"Electronics\",\"Electronics\",\"Fashion\",\"Beauty\",\"Fashion\",\"Fashion\",\"Fashion\",\"Fashion\",\"Appliances\",\"Beauty\",\"Appliances\",\"Beauty\",\"Electronics\",\"Fashion\",\"Appliances\",\"Beauty\",\"Electronics\",\"Electronics\",\"Fashion\",\"Beauty\",\"Appliances\",\"Fashion\",\"Appliances\",\"Electronics\",\"Appliances\",\"Appliances\",\"Fashion\",\"Appliances\",\"Fashion\",\"Electronics\",\"Fashion\",\"Fashion\",\"Beauty\",\"Appliances\",\"Electronics\",\"Fashion\",\"Electronics\",\"Beauty\",\"Appliances\",\"Fashion\",\"Appliances\",\"Beauty\",\"Beauty\",\"Electronics\",\"Fashion\",\"Electronics\",\"Beauty\",\"Appliances\",\"Electronics\",\"Electronics\",\"Appliances\",\"Electronics\",\"Appliances\",\"Fashion\",\"Appliances\",\"Fashion\",\"Appliances\",\"Beauty\",\"Beauty\",\"Fashion\",\"Fashion\",\"Beauty\",\"Fashion\",\"Appliances\",\"Appliances\",\"Beauty\",\"Electronics\",\"Appliances\",\"Fashion\",\"Electronics\",\"Electronics\",\"Appliances\",\"Appliances\",\"Electronics\",\"Electronics\",\"Beauty\",\"Fashion\",\"Beauty\",\"Appliances\",\"Beauty\",\"Beauty\",\"Beauty\",\"Beauty\",\"Fashion\",\"Fashion\",\"Electronics\",\"Appliances\",\"Beauty\",\"Electronics\",\"Electronics\",\"Electronics\",\"Fashion\",\"Beauty\",\"Beauty\",\"Appliances\",\"Beauty\",\"Beauty\",\"Electronics\",\"Appliances\",\"Beauty\",\"Fashion\",\"Beauty\",\"Electronics\",\"Fashion\",\"Electronics\",\"Beauty\",\"Fashion\",\"Appliances\",\"Appliances\",\"Fashion\",\"Fashion\",\"Electronics\",\"Fashion\",\"Electronics\",\"Beauty\",\"Electronics\",\"Fashion\",\"Fashion\",\"Beauty\",\"Fashion\",\"Fashion\",\"Appliances\",\"Appliances\",\"Beauty\",\"Electronics\",\"Appliances\",\"Electronics\",\"Fashion\",\"Appliances\",\"Beauty\",\"Beauty\",\"Beauty\",\"Appliances\",\"Electronics\",\"Fashion\",\"Electronics\",\"Electronics\",\"Fashion\",\"Fashion\",\"Appliances\",\"Appliances\",\"Appliances\",\"Appliances\",\"Appliances\",\"Fashion\",\"Electronics\",\"Appliances\",\"Appliances\",\"Electronics\",\"Appliances\",\"Electronics\",\"Electronics\",\"Fashion\",\"Beauty\",\"Fashion\",\"Beauty\",\"Beauty\",\"Beauty\",\"Appliances\",\"Fashion\",\"Beauty\",\"Electronics\",\"Appliances\",\"Fashion\",\"Beauty\",\"Electronics\",\"Fashion\",\"Fashion\",\"Appliances\",\"Fashion\",\"Appliances\",\"Beauty\",\"Appliances\",\"Electronics\",\"Appliances\",\"Electronics\",\"Appliances\",\"Fashion\",\"Beauty\",\"Electronics\",\"Appliances\",\"Appliances\",\"Appliances\",\"Fashion\",\"Fashion\",\"Electronics\",\"Electronics\",\"Fashion\",\"Electronics\",\"Beauty\",\"Beauty\",\"Fashion\",\"Electronics\",\"Appliances\",\"Beauty\",\"Fashion\",\"Electronics\",\"Fashion\",\"Appliances\",\"Beauty\",\"Fashion\",\"Fashion\",\"Fashion\",\"Appliances\",\"Fashion\",\"Appliances\",\"Appliances\",\"Appliances\",\"Beauty\",\"Beauty\",\"Fashion\",\"Fashion\",\"Beauty\",\"Electronics\",\"Beauty\",\"Appliances\",\"Beauty\",\"Appliances\",\"Fashion\",\"Electronics\",\"Fashion\",\"Appliances\",\"Appliances\",\"Appliances\",\"Electronics\",\"Beauty\",\"Fashion\",\"Fashion\",\"Beauty\",\"Fashion\",\"Electronics\",\"Fashion\",\"Appliances\",\"Beauty\",\"Electronics\",\"Beauty\",\"Electronics\",\"Appliances\",\"Beauty\",\"Fashion\",\"Electronics\",\"Beauty\",\"Fashion\",\"Beauty\",\"Beauty\",\"Beauty\",\"Electronics\",\"Fashion\",\"Appliances\",\"Electronics\",\"Electronics\",\"Electronics\",\"Appliances\",\"Fashion\",\"Fashion\",\"Fashion\",\"Beauty\",\"Beauty\",\"Beauty\",\"Appliances\",\"Beauty\",\"Appliances\",\"Fashion\",\"Beauty\",\"Beauty\",\"Electronics\",\"Appliances\",\"Fashion\",\"Electronics\",\"Electronics\",\"Fashion\",\"Electronics\",\"Appliances\",\"Appliances\",\"Beauty\",\"Electronics\",\"Beauty\",\"Electronics\",\"Appliances\",\"Appliances\",\"Appliances\",\"Electronics\",\"Appliances\",\"Electronics\",\"Beauty\",\"Electronics\",\"Beauty\",\"Electronics\",\"Beauty\",\"Appliances\",\"Beauty\",\"Appliances\",\"Appliances\",\"Beauty\",\"Electronics\",\"Electronics\",\"Fashion\",\"Electronics\",\"Fashion\",\"Electronics\",\"Electronics\",\"Appliances\",\"Fashion\",\"Electronics\",\"Fashion\",\"Appliances\",\"Appliances\",\"Fashion\",\"Appliances\",\"Beauty\",\"Beauty\",\"Appliances\",\"Beauty\",\"Electronics\",\"Fashion\",\"Electronics\",\"Fashion\",\"Appliances\",\"Electronics\",\"Appliances\",\"Appliances\",\"Fashion\",\"Fashion\",\"Fashion\",\"Electronics\",\"Beauty\",\"Fashion\",\"Fashion\",\"Electronics\",\"Fashion\",\"Electronics\",\"Appliances\"],\"x0\":\" \",\"xaxis\":\"x\",\"y\":[32,19,10,48,24,18,6,13,41,24,30,33,5,39,10,41,9,37,18,16,46,24,28,47,38,29,33,43,35,47,27,48,42,24,27,49,20,46,12,25,5,12,33,36,42,9,26,38,5,30,47,14,34,22,21,30,12,44,16,31,12,29,8,37,5,23,35,20,18,9,45,30,32,6,10,13,37,45,29,17,13,17,35,45,15,8,38,42,8,42,23,10,38,22,17,45,27,23,49,15,5,28,11,29,25,19,5,16,11,19,25,23,33,29,37,36,39,48,42,30,15,39,12,18,14,6,13,7,25,30,12,6,10,32,33,30,29,16,9,38,41,19,48,40,19,47,27,10,48,47,49,25,27,47,20,19,29,40,15,19,8,25,17,26,23,38,18,8,31,33,32,39,12,20,46,40,34,22,6,17,8,30,29,34,15,11,35,48,14,43,17,35,11,46,46,40,24,8,11,5,48,49,46,17,26,25,26,32,13,30,13,19,14,28,46,12,28,20,30,31,41,8,28,23,40,43,14,29,22,23,40,14,37,9,39,48,38,37,25,21,26,41,19,39,32,11,36,15,14,13,18,17,29,6,39,11,25,22,7,46,43,45,15,43,28,23,8,30,42,46,36,43,49,40,44,41,37,40,7,13,12,37,10,45,43,8,17,6,9,48,31,36,25,12,42,12,7,48,7,26,10,6,27,48,6,42,21,39,38,27,34,12,26,48,40,9,17,33,35,20,46,34,20,16,21,20,16,12,24,7,20,34,49,27,32,44,9,24,44,48,5,34,25,24,10,26,22,12,43,36,37,20,16,42,38,18,40,37,27,49,6,45,25,6,31,13,5,15,7,27,30,8,22,10,39,26,47,19,26,41,46,16,46,42,22,49,39,34,28,46,34,18,10,7,20,11,18,13,19,25,39,6,31,6,39,22,18,24,22,14,29,6,29,37,40,35,18,5,20,7,39,45,10,29,17,38,12,25,38,8,29,19,8,49,16,36,36,32,17,35,18,24,22,33,10,36,33,47,6,27,23,35,9,23,38,14,29,6,15,35,19,13,27,23,13,39,25,13,32,11,20,20,37,8,8,43,44,21,41,43,33,40,42,43,41,39,11,31,32,26,18,11,41,26,9,6,31,25,42,19],\"y0\":\" \",\"yaxis\":\"y\",\"type\":\"box\"}],                        {\"template\":{\"data\":{\"histogram2dcontour\":[{\"type\":\"histogram2dcontour\",\"colorbar\":{\"outlinewidth\":0,\"ticks\":\"\"},\"colorscale\":[[0.0,\"#0d0887\"],[0.1111111111111111,\"#46039f\"],[0.2222222222222222,\"#7201a8\"],[0.3333333333333333,\"#9c179e\"],[0.4444444444444444,\"#bd3786\"],[0.5555555555555556,\"#d8576b\"],[0.6666666666666666,\"#ed7953\"],[0.7777777777777778,\"#fb9f3a\"],[0.8888888888888888,\"#fdca26\"],[1.0,\"#f0f921\"]]}],\"choropleth\":[{\"type\":\"choropleth\",\"colorbar\":{\"outlinewidth\":0,\"ticks\":\"\"}}],\"histogram2d\":[{\"type\":\"histogram2d\",\"colorbar\":{\"outlinewidth\":0,\"ticks\":\"\"},\"colorscale\":[[0.0,\"#0d0887\"],[0.1111111111111111,\"#46039f\"],[0.2222222222222222,\"#7201a8\"],[0.3333333333333333,\"#9c179e\"],[0.4444444444444444,\"#bd3786\"],[0.5555555555555556,\"#d8576b\"],[0.6666666666666666,\"#ed7953\"],[0.7777777777777778,\"#fb9f3a\"],[0.8888888888888888,\"#fdca26\"],[1.0,\"#f0f921\"]]}],\"heatmap\":[{\"type\":\"heatmap\",\"colorbar\":{\"outlinewidth\":0,\"ticks\":\"\"},\"colorscale\":[[0.0,\"#0d0887\"],[0.1111111111111111,\"#46039f\"],[0.2222222222222222,\"#7201a8\"],[0.3333333333333333,\"#9c179e\"],[0.4444444444444444,\"#bd3786\"],[0.5555555555555556,\"#d8576b\"],[0.6666666666666666,\"#ed7953\"],[0.7777777777777778,\"#fb9f3a\"],[0.8888888888888888,\"#fdca26\"],[1.0,\"#f0f921\"]]}],\"heatmapgl\":[{\"type\":\"heatmapgl\",\"colorbar\":{\"outlinewidth\":0,\"ticks\":\"\"},\"colorscale\":[[0.0,\"#0d0887\"],[0.1111111111111111,\"#46039f\"],[0.2222222222222222,\"#7201a8\"],[0.3333333333333333,\"#9c179e\"],[0.4444444444444444,\"#bd3786\"],[0.5555555555555556,\"#d8576b\"],[0.6666666666666666,\"#ed7953\"],[0.7777777777777778,\"#fb9f3a\"],[0.8888888888888888,\"#fdca26\"],[1.0,\"#f0f921\"]]}],\"contourcarpet\":[{\"type\":\"contourcarpet\",\"colorbar\":{\"outlinewidth\":0,\"ticks\":\"\"}}],\"contour\":[{\"type\":\"contour\",\"colorbar\":{\"outlinewidth\":0,\"ticks\":\"\"},\"colorscale\":[[0.0,\"#0d0887\"],[0.1111111111111111,\"#46039f\"],[0.2222222222222222,\"#7201a8\"],[0.3333333333333333,\"#9c179e\"],[0.4444444444444444,\"#bd3786\"],[0.5555555555555556,\"#d8576b\"],[0.6666666666666666,\"#ed7953\"],[0.7777777777777778,\"#fb9f3a\"],[0.8888888888888888,\"#fdca26\"],[1.0,\"#f0f921\"]]}],\"surface\":[{\"type\":\"surface\",\"colorbar\":{\"outlinewidth\":0,\"ticks\":\"\"},\"colorscale\":[[0.0,\"#0d0887\"],[0.1111111111111111,\"#46039f\"],[0.2222222222222222,\"#7201a8\"],[0.3333333333333333,\"#9c179e\"],[0.4444444444444444,\"#bd3786\"],[0.5555555555555556,\"#d8576b\"],[0.6666666666666666,\"#ed7953\"],[0.7777777777777778,\"#fb9f3a\"],[0.8888888888888888,\"#fdca26\"],[1.0,\"#f0f921\"]]}],\"mesh3d\":[{\"type\":\"mesh3d\",\"colorbar\":{\"outlinewidth\":0,\"ticks\":\"\"}}],\"scatter\":[{\"fillpattern\":{\"fillmode\":\"overlay\",\"size\":10,\"solidity\":0.2},\"type\":\"scatter\"}],\"parcoords\":[{\"type\":\"parcoords\",\"line\":{\"colorbar\":{\"outlinewidth\":0,\"ticks\":\"\"}}}],\"scatterpolargl\":[{\"type\":\"scatterpolargl\",\"marker\":{\"colorbar\":{\"outlinewidth\":0,\"ticks\":\"\"}}}],\"bar\":[{\"error_x\":{\"color\":\"#2a3f5f\"},\"error_y\":{\"color\":\"#2a3f5f\"},\"marker\":{\"line\":{\"color\":\"#E5ECF6\",\"width\":0.5},\"pattern\":{\"fillmode\":\"overlay\",\"size\":10,\"solidity\":0.2}},\"type\":\"bar\"}],\"scattergeo\":[{\"type\":\"scattergeo\",\"marker\":{\"colorbar\":{\"outlinewidth\":0,\"ticks\":\"\"}}}],\"scatterpolar\":[{\"type\":\"scatterpolar\",\"marker\":{\"colorbar\":{\"outlinewidth\":0,\"ticks\":\"\"}}}],\"histogram\":[{\"marker\":{\"pattern\":{\"fillmode\":\"overlay\",\"size\":10,\"solidity\":0.2}},\"type\":\"histogram\"}],\"scattergl\":[{\"type\":\"scattergl\",\"marker\":{\"colorbar\":{\"outlinewidth\":0,\"ticks\":\"\"}}}],\"scatter3d\":[{\"type\":\"scatter3d\",\"line\":{\"colorbar\":{\"outlinewidth\":0,\"ticks\":\"\"}},\"marker\":{\"colorbar\":{\"outlinewidth\":0,\"ticks\":\"\"}}}],\"scattermapbox\":[{\"type\":\"scattermapbox\",\"marker\":{\"colorbar\":{\"outlinewidth\":0,\"ticks\":\"\"}}}],\"scatterternary\":[{\"type\":\"scatterternary\",\"marker\":{\"colorbar\":{\"outlinewidth\":0,\"ticks\":\"\"}}}],\"scattercarpet\":[{\"type\":\"scattercarpet\",\"marker\":{\"colorbar\":{\"outlinewidth\":0,\"ticks\":\"\"}}}],\"carpet\":[{\"aaxis\":{\"endlinecolor\":\"#2a3f5f\",\"gridcolor\":\"white\",\"linecolor\":\"white\",\"minorgridcolor\":\"white\",\"startlinecolor\":\"#2a3f5f\"},\"baxis\":{\"endlinecolor\":\"#2a3f5f\",\"gridcolor\":\"white\",\"linecolor\":\"white\",\"minorgridcolor\":\"white\",\"startlinecolor\":\"#2a3f5f\"},\"type\":\"carpet\"}],\"table\":[{\"cells\":{\"fill\":{\"color\":\"#EBF0F8\"},\"line\":{\"color\":\"white\"}},\"header\":{\"fill\":{\"color\":\"#C8D4E3\"},\"line\":{\"color\":\"white\"}},\"type\":\"table\"}],\"barpolar\":[{\"marker\":{\"line\":{\"color\":\"#E5ECF6\",\"width\":0.5},\"pattern\":{\"fillmode\":\"overlay\",\"size\":10,\"solidity\":0.2}},\"type\":\"barpolar\"}],\"pie\":[{\"automargin\":true,\"type\":\"pie\"}]},\"layout\":{\"autotypenumbers\":\"strict\",\"colorway\":[\"#636efa\",\"#EF553B\",\"#00cc96\",\"#ab63fa\",\"#FFA15A\",\"#19d3f3\",\"#FF6692\",\"#B6E880\",\"#FF97FF\",\"#FECB52\"],\"font\":{\"color\":\"#2a3f5f\"},\"hovermode\":\"closest\",\"hoverlabel\":{\"align\":\"left\"},\"paper_bgcolor\":\"white\",\"plot_bgcolor\":\"#E5ECF6\",\"polar\":{\"bgcolor\":\"#E5ECF6\",\"angularaxis\":{\"gridcolor\":\"white\",\"linecolor\":\"white\",\"ticks\":\"\"},\"radialaxis\":{\"gridcolor\":\"white\",\"linecolor\":\"white\",\"ticks\":\"\"}},\"ternary\":{\"bgcolor\":\"#E5ECF6\",\"aaxis\":{\"gridcolor\":\"white\",\"linecolor\":\"white\",\"ticks\":\"\"},\"baxis\":{\"gridcolor\":\"white\",\"linecolor\":\"white\",\"ticks\":\"\"},\"caxis\":{\"gridcolor\":\"white\",\"linecolor\":\"white\",\"ticks\":\"\"}},\"coloraxis\":{\"colorbar\":{\"outlinewidth\":0,\"ticks\":\"\"}},\"colorscale\":{\"sequential\":[[0.0,\"#0d0887\"],[0.1111111111111111,\"#46039f\"],[0.2222222222222222,\"#7201a8\"],[0.3333333333333333,\"#9c179e\"],[0.4444444444444444,\"#bd3786\"],[0.5555555555555556,\"#d8576b\"],[0.6666666666666666,\"#ed7953\"],[0.7777777777777778,\"#fb9f3a\"],[0.8888888888888888,\"#fdca26\"],[1.0,\"#f0f921\"]],\"sequentialminus\":[[0.0,\"#0d0887\"],[0.1111111111111111,\"#46039f\"],[0.2222222222222222,\"#7201a8\"],[0.3333333333333333,\"#9c179e\"],[0.4444444444444444,\"#bd3786\"],[0.5555555555555556,\"#d8576b\"],[0.6666666666666666,\"#ed7953\"],[0.7777777777777778,\"#fb9f3a\"],[0.8888888888888888,\"#fdca26\"],[1.0,\"#f0f921\"]],\"diverging\":[[0,\"#8e0152\"],[0.1,\"#c51b7d\"],[0.2,\"#de77ae\"],[0.3,\"#f1b6da\"],[0.4,\"#fde0ef\"],[0.5,\"#f7f7f7\"],[0.6,\"#e6f5d0\"],[0.7,\"#b8e186\"],[0.8,\"#7fbc41\"],[0.9,\"#4d9221\"],[1,\"#276419\"]]},\"xaxis\":{\"gridcolor\":\"white\",\"linecolor\":\"white\",\"ticks\":\"\",\"title\":{\"standoff\":15},\"zerolinecolor\":\"white\",\"automargin\":true,\"zerolinewidth\":2},\"yaxis\":{\"gridcolor\":\"white\",\"linecolor\":\"white\",\"ticks\":\"\",\"title\":{\"standoff\":15},\"zerolinecolor\":\"white\",\"automargin\":true,\"zerolinewidth\":2},\"scene\":{\"xaxis\":{\"backgroundcolor\":\"#E5ECF6\",\"gridcolor\":\"white\",\"linecolor\":\"white\",\"showbackground\":true,\"ticks\":\"\",\"zerolinecolor\":\"white\",\"gridwidth\":2},\"yaxis\":{\"backgroundcolor\":\"#E5ECF6\",\"gridcolor\":\"white\",\"linecolor\":\"white\",\"showbackground\":true,\"ticks\":\"\",\"zerolinecolor\":\"white\",\"gridwidth\":2},\"zaxis\":{\"backgroundcolor\":\"#E5ECF6\",\"gridcolor\":\"white\",\"linecolor\":\"white\",\"showbackground\":true,\"ticks\":\"\",\"zerolinecolor\":\"white\",\"gridwidth\":2}},\"shapedefaults\":{\"line\":{\"color\":\"#2a3f5f\"}},\"annotationdefaults\":{\"arrowcolor\":\"#2a3f5f\",\"arrowhead\":0,\"arrowwidth\":1},\"geo\":{\"bgcolor\":\"white\",\"landcolor\":\"#E5ECF6\",\"subunitcolor\":\"white\",\"showland\":true,\"showlakes\":true,\"lakecolor\":\"white\"},\"title\":{\"x\":0.05},\"mapbox\":{\"style\":\"light\"}}},\"xaxis\":{\"anchor\":\"y\",\"domain\":[0.0,1.0],\"title\":{\"text\":\"Preferred Category\"}},\"yaxis\":{\"anchor\":\"x\",\"domain\":[0.0,1.0],\"title\":{\"text\":\"TOTAL_PURCAHSE\"}},\"legend\":{\"tracegroupgap\":0},\"title\":{\"text\":\"Total Purchase by Preferred Category\"},\"boxmode\":\"group\"},                        {\"responsive\": true}                    ).then(function(){\n",
              "                            \n",
              "var gd = document.getElementById('8df3988c-6245-462a-915b-f937ba25237a');\n",
              "var x = new MutationObserver(function (mutations, observer) {{\n",
              "        var display = window.getComputedStyle(gd).display;\n",
              "        if (!display || display === 'none') {{\n",
              "            console.log([gd, 'removed!']);\n",
              "            Plotly.purge(gd);\n",
              "            observer.disconnect();\n",
              "        }}\n",
              "}});\n",
              "\n",
              "// Listen for the removal of the full notebook cells\n",
              "var notebookContainer = gd.closest('#notebook-container');\n",
              "if (notebookContainer) {{\n",
              "    x.observe(notebookContainer, {childList: true});\n",
              "}}\n",
              "\n",
              "// Listen for the clearing of the current output cell\n",
              "var outputEl = gd.closest('.output');\n",
              "if (outputEl) {{\n",
              "    x.observe(outputEl, {childList: true});\n",
              "}}\n",
              "\n",
              "                        })                };                            </script>        </div>\n",
              "</body>\n",
              "</html>"
            ]
          },
          "metadata": {}
        }
      ]
    },
    {
      "cell_type": "markdown",
      "source": [
        "#K-Means Clustering:"
      ],
      "metadata": {
        "id": "28Uj_ca1lbIN"
      }
    },
    {
      "cell_type": "code",
      "source": [
        "data=file.select_dtypes(include=[int])\n",
        "data"
      ],
      "metadata": {
        "id": "BVj8npdZ1ZRW",
        "colab": {
          "base_uri": "https://localhost:8080/",
          "height": 423
        },
        "outputId": "e28289e8-5f2f-4300-9d65-c3615ccc53de"
      },
      "execution_count": 23,
      "outputs": [
        {
          "output_type": "execute_result",
          "data": {
            "text/plain": [
              "     CUSTOMER_ID  ANNUAL_INCOME (USD)  TOTAL_PURCAHSE  AGE  Category_Code\n",
              "0           1001                86133              32   56              1\n",
              "1           1002                91268              19   46              2\n",
              "2           1003                68243              10   32              3\n",
              "3           1004                87384              48   60              2\n",
              "4           1005                61653              24   25              4\n",
              "..           ...                  ...             ...  ...            ...\n",
              "495         1496                85204               6   37              4\n",
              "496         1497                81886              31   41              1\n",
              "497         1498                45563              25   29              4\n",
              "498         1499                39847              42   52              1\n",
              "499         1500                56155              19   50              2\n",
              "\n",
              "[500 rows x 5 columns]"
            ],
            "text/html": [
              "\n",
              "\n",
              "  <div id=\"df-c631c06b-d3fc-4d08-9266-b229ccbfd7e2\">\n",
              "    <div class=\"colab-df-container\">\n",
              "      <div>\n",
              "<style scoped>\n",
              "    .dataframe tbody tr th:only-of-type {\n",
              "        vertical-align: middle;\n",
              "    }\n",
              "\n",
              "    .dataframe tbody tr th {\n",
              "        vertical-align: top;\n",
              "    }\n",
              "\n",
              "    .dataframe thead th {\n",
              "        text-align: right;\n",
              "    }\n",
              "</style>\n",
              "<table border=\"1\" class=\"dataframe\">\n",
              "  <thead>\n",
              "    <tr style=\"text-align: right;\">\n",
              "      <th></th>\n",
              "      <th>CUSTOMER_ID</th>\n",
              "      <th>ANNUAL_INCOME (USD)</th>\n",
              "      <th>TOTAL_PURCAHSE</th>\n",
              "      <th>AGE</th>\n",
              "      <th>Category_Code</th>\n",
              "    </tr>\n",
              "  </thead>\n",
              "  <tbody>\n",
              "    <tr>\n",
              "      <th>0</th>\n",
              "      <td>1001</td>\n",
              "      <td>86133</td>\n",
              "      <td>32</td>\n",
              "      <td>56</td>\n",
              "      <td>1</td>\n",
              "    </tr>\n",
              "    <tr>\n",
              "      <th>1</th>\n",
              "      <td>1002</td>\n",
              "      <td>91268</td>\n",
              "      <td>19</td>\n",
              "      <td>46</td>\n",
              "      <td>2</td>\n",
              "    </tr>\n",
              "    <tr>\n",
              "      <th>2</th>\n",
              "      <td>1003</td>\n",
              "      <td>68243</td>\n",
              "      <td>10</td>\n",
              "      <td>32</td>\n",
              "      <td>3</td>\n",
              "    </tr>\n",
              "    <tr>\n",
              "      <th>3</th>\n",
              "      <td>1004</td>\n",
              "      <td>87384</td>\n",
              "      <td>48</td>\n",
              "      <td>60</td>\n",
              "      <td>2</td>\n",
              "    </tr>\n",
              "    <tr>\n",
              "      <th>4</th>\n",
              "      <td>1005</td>\n",
              "      <td>61653</td>\n",
              "      <td>24</td>\n",
              "      <td>25</td>\n",
              "      <td>4</td>\n",
              "    </tr>\n",
              "    <tr>\n",
              "      <th>...</th>\n",
              "      <td>...</td>\n",
              "      <td>...</td>\n",
              "      <td>...</td>\n",
              "      <td>...</td>\n",
              "      <td>...</td>\n",
              "    </tr>\n",
              "    <tr>\n",
              "      <th>495</th>\n",
              "      <td>1496</td>\n",
              "      <td>85204</td>\n",
              "      <td>6</td>\n",
              "      <td>37</td>\n",
              "      <td>4</td>\n",
              "    </tr>\n",
              "    <tr>\n",
              "      <th>496</th>\n",
              "      <td>1497</td>\n",
              "      <td>81886</td>\n",
              "      <td>31</td>\n",
              "      <td>41</td>\n",
              "      <td>1</td>\n",
              "    </tr>\n",
              "    <tr>\n",
              "      <th>497</th>\n",
              "      <td>1498</td>\n",
              "      <td>45563</td>\n",
              "      <td>25</td>\n",
              "      <td>29</td>\n",
              "      <td>4</td>\n",
              "    </tr>\n",
              "    <tr>\n",
              "      <th>498</th>\n",
              "      <td>1499</td>\n",
              "      <td>39847</td>\n",
              "      <td>42</td>\n",
              "      <td>52</td>\n",
              "      <td>1</td>\n",
              "    </tr>\n",
              "    <tr>\n",
              "      <th>499</th>\n",
              "      <td>1500</td>\n",
              "      <td>56155</td>\n",
              "      <td>19</td>\n",
              "      <td>50</td>\n",
              "      <td>2</td>\n",
              "    </tr>\n",
              "  </tbody>\n",
              "</table>\n",
              "<p>500 rows × 5 columns</p>\n",
              "</div>\n",
              "      <button class=\"colab-df-convert\" onclick=\"convertToInteractive('df-c631c06b-d3fc-4d08-9266-b229ccbfd7e2')\"\n",
              "              title=\"Convert this dataframe to an interactive table.\"\n",
              "              style=\"display:none;\">\n",
              "\n",
              "  <svg xmlns=\"http://www.w3.org/2000/svg\" height=\"24px\"viewBox=\"0 0 24 24\"\n",
              "       width=\"24px\">\n",
              "    <path d=\"M0 0h24v24H0V0z\" fill=\"none\"/>\n",
              "    <path d=\"M18.56 5.44l.94 2.06.94-2.06 2.06-.94-2.06-.94-.94-2.06-.94 2.06-2.06.94zm-11 1L8.5 8.5l.94-2.06 2.06-.94-2.06-.94L8.5 2.5l-.94 2.06-2.06.94zm10 10l.94 2.06.94-2.06 2.06-.94-2.06-.94-.94-2.06-.94 2.06-2.06.94z\"/><path d=\"M17.41 7.96l-1.37-1.37c-.4-.4-.92-.59-1.43-.59-.52 0-1.04.2-1.43.59L10.3 9.45l-7.72 7.72c-.78.78-.78 2.05 0 2.83L4 21.41c.39.39.9.59 1.41.59.51 0 1.02-.2 1.41-.59l7.78-7.78 2.81-2.81c.8-.78.8-2.07 0-2.86zM5.41 20L4 18.59l7.72-7.72 1.47 1.35L5.41 20z\"/>\n",
              "  </svg>\n",
              "      </button>\n",
              "\n",
              "\n",
              "\n",
              "    <div id=\"df-2b6b5f08-1374-43cf-ba9a-0359bbaa9615\">\n",
              "      <button class=\"colab-df-quickchart\" onclick=\"quickchart('df-2b6b5f08-1374-43cf-ba9a-0359bbaa9615')\"\n",
              "              title=\"Suggest charts.\"\n",
              "              style=\"display:none;\">\n",
              "\n",
              "<svg xmlns=\"http://www.w3.org/2000/svg\" height=\"24px\"viewBox=\"0 0 24 24\"\n",
              "     width=\"24px\">\n",
              "    <g>\n",
              "        <path d=\"M19 3H5c-1.1 0-2 .9-2 2v14c0 1.1.9 2 2 2h14c1.1 0 2-.9 2-2V5c0-1.1-.9-2-2-2zM9 17H7v-7h2v7zm4 0h-2V7h2v10zm4 0h-2v-4h2v4z\"/>\n",
              "    </g>\n",
              "</svg>\n",
              "      </button>\n",
              "    </div>\n",
              "\n",
              "<style>\n",
              "  .colab-df-quickchart {\n",
              "    background-color: #E8F0FE;\n",
              "    border: none;\n",
              "    border-radius: 50%;\n",
              "    cursor: pointer;\n",
              "    display: none;\n",
              "    fill: #1967D2;\n",
              "    height: 32px;\n",
              "    padding: 0 0 0 0;\n",
              "    width: 32px;\n",
              "  }\n",
              "\n",
              "  .colab-df-quickchart:hover {\n",
              "    background-color: #E2EBFA;\n",
              "    box-shadow: 0px 1px 2px rgba(60, 64, 67, 0.3), 0px 1px 3px 1px rgba(60, 64, 67, 0.15);\n",
              "    fill: #174EA6;\n",
              "  }\n",
              "\n",
              "  [theme=dark] .colab-df-quickchart {\n",
              "    background-color: #3B4455;\n",
              "    fill: #D2E3FC;\n",
              "  }\n",
              "\n",
              "  [theme=dark] .colab-df-quickchart:hover {\n",
              "    background-color: #434B5C;\n",
              "    box-shadow: 0px 1px 3px 1px rgba(0, 0, 0, 0.15);\n",
              "    filter: drop-shadow(0px 1px 2px rgba(0, 0, 0, 0.3));\n",
              "    fill: #FFFFFF;\n",
              "  }\n",
              "</style>\n",
              "\n",
              "    <script>\n",
              "      async function quickchart(key) {\n",
              "        const containerElement = document.querySelector('#' + key);\n",
              "        const charts = await google.colab.kernel.invokeFunction(\n",
              "            'suggestCharts', [key], {});\n",
              "      }\n",
              "    </script>\n",
              "\n",
              "      <script>\n",
              "\n",
              "function displayQuickchartButton(domScope) {\n",
              "  let quickchartButtonEl =\n",
              "    domScope.querySelector('#df-2b6b5f08-1374-43cf-ba9a-0359bbaa9615 button.colab-df-quickchart');\n",
              "  quickchartButtonEl.style.display =\n",
              "    google.colab.kernel.accessAllowed ? 'block' : 'none';\n",
              "}\n",
              "\n",
              "        displayQuickchartButton(document);\n",
              "      </script>\n",
              "      <style>\n",
              "    .colab-df-container {\n",
              "      display:flex;\n",
              "      flex-wrap:wrap;\n",
              "      gap: 12px;\n",
              "    }\n",
              "\n",
              "    .colab-df-convert {\n",
              "      background-color: #E8F0FE;\n",
              "      border: none;\n",
              "      border-radius: 50%;\n",
              "      cursor: pointer;\n",
              "      display: none;\n",
              "      fill: #1967D2;\n",
              "      height: 32px;\n",
              "      padding: 0 0 0 0;\n",
              "      width: 32px;\n",
              "    }\n",
              "\n",
              "    .colab-df-convert:hover {\n",
              "      background-color: #E2EBFA;\n",
              "      box-shadow: 0px 1px 2px rgba(60, 64, 67, 0.3), 0px 1px 3px 1px rgba(60, 64, 67, 0.15);\n",
              "      fill: #174EA6;\n",
              "    }\n",
              "\n",
              "    [theme=dark] .colab-df-convert {\n",
              "      background-color: #3B4455;\n",
              "      fill: #D2E3FC;\n",
              "    }\n",
              "\n",
              "    [theme=dark] .colab-df-convert:hover {\n",
              "      background-color: #434B5C;\n",
              "      box-shadow: 0px 1px 3px 1px rgba(0, 0, 0, 0.15);\n",
              "      filter: drop-shadow(0px 1px 2px rgba(0, 0, 0, 0.3));\n",
              "      fill: #FFFFFF;\n",
              "    }\n",
              "  </style>\n",
              "\n",
              "      <script>\n",
              "        const buttonEl =\n",
              "          document.querySelector('#df-c631c06b-d3fc-4d08-9266-b229ccbfd7e2 button.colab-df-convert');\n",
              "        buttonEl.style.display =\n",
              "          google.colab.kernel.accessAllowed ? 'block' : 'none';\n",
              "\n",
              "        async function convertToInteractive(key) {\n",
              "          const element = document.querySelector('#df-c631c06b-d3fc-4d08-9266-b229ccbfd7e2');\n",
              "          const dataTable =\n",
              "            await google.colab.kernel.invokeFunction('convertToInteractive',\n",
              "                                                     [key], {});\n",
              "          if (!dataTable) return;\n",
              "\n",
              "          const docLinkHtml = 'Like what you see? Visit the ' +\n",
              "            '<a target=\"_blank\" href=https://colab.research.google.com/notebooks/data_table.ipynb>data table notebook</a>'\n",
              "            + ' to learn more about interactive tables.';\n",
              "          element.innerHTML = '';\n",
              "          dataTable['output_type'] = 'display_data';\n",
              "          await google.colab.output.renderOutput(dataTable, element);\n",
              "          const docLink = document.createElement('div');\n",
              "          docLink.innerHTML = docLinkHtml;\n",
              "          element.appendChild(docLink);\n",
              "        }\n",
              "      </script>\n",
              "    </div>\n",
              "  </div>\n"
            ]
          },
          "metadata": {},
          "execution_count": 23
        }
      ]
    },
    {
      "cell_type": "code",
      "source": [
        "scaled_data=StandardScaler().fit_transform(data)\n",
        "scaled_data"
      ],
      "metadata": {
        "colab": {
          "base_uri": "https://localhost:8080/"
        },
        "id": "_gYSFP4ymIQ-",
        "outputId": "e37311a1-141e-4e5c-8a9f-80427963f15c"
      },
      "execution_count": 24,
      "outputs": [
        {
          "output_type": "execute_result",
          "data": {
            "text/plain": [
              "array([[-1.72859016,  1.08876908,  0.44177326,  1.10065463, -1.30610681],\n",
              "       [-1.72166195,  1.35496053, -0.55875852,  0.35302888, -0.43768473],\n",
              "       [-1.71473373,  0.16137568, -1.25143437, -0.69364717,  0.43073735],\n",
              "       ...,\n",
              "       [ 1.71473373, -1.01432484, -0.09697462, -0.91793489,  1.29915944],\n",
              "       [ 1.72166195, -1.31063455,  1.2114131 ,  0.80160433, -1.30610681],\n",
              "       [ 1.72859016, -0.46524989, -0.55875852,  0.65207918, -0.43768473]])"
            ]
          },
          "metadata": {},
          "execution_count": 24
        }
      ]
    },
    {
      "cell_type": "markdown",
      "source": [
        "Elbow Method:"
      ],
      "metadata": {
        "id": "R_QGF_pFmZ0X"
      }
    },
    {
      "cell_type": "code",
      "source": [
        "\n",
        "inertia=[]\n",
        "for i in range(2,13):\n",
        "  kmeans=KMeans(n_clusters=i)\n",
        "  kmeans.fit(scaled_data)\n",
        "  inertia.append(kmeans.inertia_)\n",
        "plt.plot(list(range(2,13)),inertia,marker='*')\n",
        "plt.xlabel(\"Number OF Clusters----->\")\n",
        "plt.ylabel(\"Inertia--->\")\n",
        "plt.title(\"*****Elbow Method*****\")\n",
        "plt.show()"
      ],
      "metadata": {
        "colab": {
          "base_uri": "https://localhost:8080/",
          "height": 1000
        },
        "id": "lLjDNZKUmSPp",
        "outputId": "eea0648e-08aa-4eb7-ea1c-479299268de9"
      },
      "execution_count": 25,
      "outputs": [
        {
          "output_type": "stream",
          "name": "stderr",
          "text": [
            "/usr/local/lib/python3.10/dist-packages/sklearn/cluster/_kmeans.py:870: FutureWarning:\n",
            "\n",
            "The default value of `n_init` will change from 10 to 'auto' in 1.4. Set the value of `n_init` explicitly to suppress the warning\n",
            "\n",
            "/usr/local/lib/python3.10/dist-packages/sklearn/cluster/_kmeans.py:870: FutureWarning:\n",
            "\n",
            "The default value of `n_init` will change from 10 to 'auto' in 1.4. Set the value of `n_init` explicitly to suppress the warning\n",
            "\n",
            "/usr/local/lib/python3.10/dist-packages/sklearn/cluster/_kmeans.py:870: FutureWarning:\n",
            "\n",
            "The default value of `n_init` will change from 10 to 'auto' in 1.4. Set the value of `n_init` explicitly to suppress the warning\n",
            "\n",
            "/usr/local/lib/python3.10/dist-packages/sklearn/cluster/_kmeans.py:870: FutureWarning:\n",
            "\n",
            "The default value of `n_init` will change from 10 to 'auto' in 1.4. Set the value of `n_init` explicitly to suppress the warning\n",
            "\n",
            "/usr/local/lib/python3.10/dist-packages/sklearn/cluster/_kmeans.py:870: FutureWarning:\n",
            "\n",
            "The default value of `n_init` will change from 10 to 'auto' in 1.4. Set the value of `n_init` explicitly to suppress the warning\n",
            "\n",
            "/usr/local/lib/python3.10/dist-packages/sklearn/cluster/_kmeans.py:870: FutureWarning:\n",
            "\n",
            "The default value of `n_init` will change from 10 to 'auto' in 1.4. Set the value of `n_init` explicitly to suppress the warning\n",
            "\n",
            "/usr/local/lib/python3.10/dist-packages/sklearn/cluster/_kmeans.py:870: FutureWarning:\n",
            "\n",
            "The default value of `n_init` will change from 10 to 'auto' in 1.4. Set the value of `n_init` explicitly to suppress the warning\n",
            "\n",
            "/usr/local/lib/python3.10/dist-packages/sklearn/cluster/_kmeans.py:870: FutureWarning:\n",
            "\n",
            "The default value of `n_init` will change from 10 to 'auto' in 1.4. Set the value of `n_init` explicitly to suppress the warning\n",
            "\n",
            "/usr/local/lib/python3.10/dist-packages/sklearn/cluster/_kmeans.py:870: FutureWarning:\n",
            "\n",
            "The default value of `n_init` will change from 10 to 'auto' in 1.4. Set the value of `n_init` explicitly to suppress the warning\n",
            "\n",
            "/usr/local/lib/python3.10/dist-packages/sklearn/cluster/_kmeans.py:870: FutureWarning:\n",
            "\n",
            "The default value of `n_init` will change from 10 to 'auto' in 1.4. Set the value of `n_init` explicitly to suppress the warning\n",
            "\n",
            "/usr/local/lib/python3.10/dist-packages/sklearn/cluster/_kmeans.py:870: FutureWarning:\n",
            "\n",
            "The default value of `n_init` will change from 10 to 'auto' in 1.4. Set the value of `n_init` explicitly to suppress the warning\n",
            "\n"
          ]
        },
        {
          "output_type": "display_data",
          "data": {
            "text/plain": [
              "<Figure size 640x480 with 1 Axes>"
            ],
            "image/png": "[encoded data removed]"
          },
          "metadata": {}
        }
      ]
    },
    {
      "cell_type": "code",
      "source": [
        "number_of_cluster=4\n",
        "kmeans=KMeans(n_clusters=4)\n",
        "data[\"Cluster Number\"]=kmeans.fit_predict(scaled_data)\n",
        "data"
      ],
      "metadata": {
        "colab": {
          "base_uri": "https://localhost:8080/",
          "height": 496
        },
        "id": "eDDhSVHAnNeh",
        "outputId": "a74d3079-469e-45c9-956c-96a38b79edad"
      },
      "execution_count": 26,
      "outputs": [
        {
          "output_type": "stream",
          "name": "stderr",
          "text": [
            "/usr/local/lib/python3.10/dist-packages/sklearn/cluster/_kmeans.py:870: FutureWarning:\n",
            "\n",
            "The default value of `n_init` will change from 10 to 'auto' in 1.4. Set the value of `n_init` explicitly to suppress the warning\n",
            "\n"
          ]
        },
        {
          "output_type": "execute_result",
          "data": {
            "text/plain": [
              "     CUSTOMER_ID  ANNUAL_INCOME (USD)  TOTAL_PURCAHSE  AGE  Category_Code  \\\n",
              "0           1001                86133              32   56              1   \n",
              "1           1002                91268              19   46              2   \n",
              "2           1003                68243              10   32              3   \n",
              "3           1004                87384              48   60              2   \n",
              "4           1005                61653              24   25              4   \n",
              "..           ...                  ...             ...  ...            ...   \n",
              "495         1496                85204               6   37              4   \n",
              "496         1497                81886              31   41              1   \n",
              "497         1498                45563              25   29              4   \n",
              "498         1499                39847              42   52              1   \n",
              "499         1500                56155              19   50              2   \n",
              "\n",
              "     Cluster Number  \n",
              "0                 3  \n",
              "1                 3  \n",
              "2                 3  \n",
              "3                 3  \n",
              "4                 1  \n",
              "..              ...  \n",
              "495               0  \n",
              "496               2  \n",
              "497               0  \n",
              "498               2  \n",
              "499               0  \n",
              "\n",
              "[500 rows x 6 columns]"
            ],
            "text/html": [
              "\n",
              "\n",
              "  <div id=\"df-cb73eab9-a5de-4eb7-a4f0-9f44730b22b9\">\n",
              "    <div class=\"colab-df-container\">\n",
              "      <div>\n",
              "<style scoped>\n",
              "    .dataframe tbody tr th:only-of-type {\n",
              "        vertical-align: middle;\n",
              "    }\n",
              "\n",
              "    .dataframe tbody tr th {\n",
              "        vertical-align: top;\n",
              "    }\n",
              "\n",
              "    .dataframe thead th {\n",
              "        text-align: right;\n",
              "    }\n",
              "</style>\n",
              "<table border=\"1\" class=\"dataframe\">\n",
              "  <thead>\n",
              "    <tr style=\"text-align: right;\">\n",
              "      <th></th>\n",
              "      <th>CUSTOMER_ID</th>\n",
              "      <th>ANNUAL_INCOME (USD)</th>\n",
              "      <th>TOTAL_PURCAHSE</th>\n",
              "      <th>AGE</th>\n",
              "      <th>Category_Code</th>\n",
              "      <th>Cluster Number</th>\n",
              "    </tr>\n",
              "  </thead>\n",
              "  <tbody>\n",
              "    <tr>\n",
              "      <th>0</th>\n",
              "      <td>1001</td>\n",
              "      <td>86133</td>\n",
              "      <td>32</td>\n",
              "      <td>56</td>\n",
              "      <td>1</td>\n",
              "      <td>3</td>\n",
              "    </tr>\n",
              "    <tr>\n",
              "      <th>1</th>\n",
              "      <td>1002</td>\n",
              "      <td>91268</td>\n",
              "      <td>19</td>\n",
              "      <td>46</td>\n",
              "      <td>2</td>\n",
              "      <td>3</td>\n",
              "    </tr>\n",
              "    <tr>\n",
              "      <th>2</th>\n",
              "      <td>1003</td>\n",
              "      <td>68243</td>\n",
              "      <td>10</td>\n",
              "      <td>32</td>\n",
              "      <td>3</td>\n",
              "      <td>3</td>\n",
              "    </tr>\n",
              "    <tr>\n",
              "      <th>3</th>\n",
              "      <td>1004</td>\n",
              "      <td>87384</td>\n",
              "      <td>48</td>\n",
              "      <td>60</td>\n",
              "      <td>2</td>\n",
              "      <td>3</td>\n",
              "    </tr>\n",
              "    <tr>\n",
              "      <th>4</th>\n",
              "      <td>1005</td>\n",
              "      <td>61653</td>\n",
              "      <td>24</td>\n",
              "      <td>25</td>\n",
              "      <td>4</td>\n",
              "      <td>1</td>\n",
              "    </tr>\n",
              "    <tr>\n",
              "      <th>...</th>\n",
              "      <td>...</td>\n",
              "      <td>...</td>\n",
              "      <td>...</td>\n",
              "      <td>...</td>\n",
              "      <td>...</td>\n",
              "      <td>...</td>\n",
              "    </tr>\n",
              "    <tr>\n",
              "      <th>495</th>\n",
              "      <td>1496</td>\n",
              "      <td>85204</td>\n",
              "      <td>6</td>\n",
              "      <td>37</td>\n",
              "      <td>4</td>\n",
              "      <td>0</td>\n",
              "    </tr>\n",
              "    <tr>\n",
              "      <th>496</th>\n",
              "      <td>1497</td>\n",
              "      <td>81886</td>\n",
              "      <td>31</td>\n",
              "      <td>41</td>\n",
              "      <td>1</td>\n",
              "      <td>2</td>\n",
              "    </tr>\n",
              "    <tr>\n",
              "      <th>497</th>\n",
              "      <td>1498</td>\n",
              "      <td>45563</td>\n",
              "      <td>25</td>\n",
              "      <td>29</td>\n",
              "      <td>4</td>\n",
              "      <td>0</td>\n",
              "    </tr>\n",
              "    <tr>\n",
              "      <th>498</th>\n",
              "      <td>1499</td>\n",
              "      <td>39847</td>\n",
              "      <td>42</td>\n",
              "      <td>52</td>\n",
              "      <td>1</td>\n",
              "      <td>2</td>\n",
              "    </tr>\n",
              "    <tr>\n",
              "      <th>499</th>\n",
              "      <td>1500</td>\n",
              "      <td>56155</td>\n",
              "      <td>19</td>\n",
              "      <td>50</td>\n",
              "      <td>2</td>\n",
              "      <td>0</td>\n",
              "    </tr>\n",
              "  </tbody>\n",
              "</table>\n",
              "<p>500 rows × 6 columns</p>\n",
              "</div>\n",
              "      <button class=\"colab-df-convert\" onclick=\"convertToInteractive('df-cb73eab9-a5de-4eb7-a4f0-9f44730b22b9')\"\n",
              "              title=\"Convert this dataframe to an interactive table.\"\n",
              "              style=\"display:none;\">\n",
              "\n",
              "  <svg xmlns=\"http://www.w3.org/2000/svg\" height=\"24px\"viewBox=\"0 0 24 24\"\n",
              "       width=\"24px\">\n",
              "    <path d=\"M0 0h24v24H0V0z\" fill=\"none\"/>\n",
              "    <path d=\"M18.56 5.44l.94 2.06.94-2.06 2.06-.94-2.06-.94-.94-2.06-.94 2.06-2.06.94zm-11 1L8.5 8.5l.94-2.06 2.06-.94-2.06-.94L8.5 2.5l-.94 2.06-2.06.94zm10 10l.94 2.06.94-2.06 2.06-.94-2.06-.94-.94-2.06-.94 2.06-2.06.94z\"/><path d=\"M17.41 7.96l-1.37-1.37c-.4-.4-.92-.59-1.43-.59-.52 0-1.04.2-1.43.59L10.3 9.45l-7.72 7.72c-.78.78-.78 2.05 0 2.83L4 21.41c.39.39.9.59 1.41.59.51 0 1.02-.2 1.41-.59l7.78-7.78 2.81-2.81c.8-.78.8-2.07 0-2.86zM5.41 20L4 18.59l7.72-7.72 1.47 1.35L5.41 20z\"/>\n",
              "  </svg>\n",
              "      </button>\n",
              "\n",
              "\n",
              "\n",
              "    <div id=\"df-ace8d6be-cf77-4596-9761-fdcaea06be00\">\n",
              "      <button class=\"colab-df-quickchart\" onclick=\"quickchart('df-ace8d6be-cf77-4596-9761-fdcaea06be00')\"\n",
              "              title=\"Suggest charts.\"\n",
              "              style=\"display:none;\">\n",
              "\n",
              "<svg xmlns=\"http://www.w3.org/2000/svg\" height=\"24px\"viewBox=\"0 0 24 24\"\n",
              "     width=\"24px\">\n",
              "    <g>\n",
              "        <path d=\"M19 3H5c-1.1 0-2 .9-2 2v14c0 1.1.9 2 2 2h14c1.1 0 2-.9 2-2V5c0-1.1-.9-2-2-2zM9 17H7v-7h2v7zm4 0h-2V7h2v10zm4 0h-2v-4h2v4z\"/>\n",
              "    </g>\n",
              "</svg>\n",
              "      </button>\n",
              "    </div>\n",
              "\n",
              "<style>\n",
              "  .colab-df-quickchart {\n",
              "    background-color: #E8F0FE;\n",
              "    border: none;\n",
              "    border-radius: 50%;\n",
              "    cursor: pointer;\n",
              "    display: none;\n",
              "    fill: #1967D2;\n",
              "    height: 32px;\n",
              "    padding: 0 0 0 0;\n",
              "    width: 32px;\n",
              "  }\n",
              "\n",
              "  .colab-df-quickchart:hover {\n",
              "    background-color: #E2EBFA;\n",
              "    box-shadow: 0px 1px 2px rgba(60, 64, 67, 0.3), 0px 1px 3px 1px rgba(60, 64, 67, 0.15);\n",
              "    fill: #174EA6;\n",
              "  }\n",
              "\n",
              "  [theme=dark] .colab-df-quickchart {\n",
              "    background-color: #3B4455;\n",
              "    fill: #D2E3FC;\n",
              "  }\n",
              "\n",
              "  [theme=dark] .colab-df-quickchart:hover {\n",
              "    background-color: #434B5C;\n",
              "    box-shadow: 0px 1px 3px 1px rgba(0, 0, 0, 0.15);\n",
              "    filter: drop-shadow(0px 1px 2px rgba(0, 0, 0, 0.3));\n",
              "    fill: #FFFFFF;\n",
              "  }\n",
              "</style>\n",
              "\n",
              "    <script>\n",
              "      async function quickchart(key) {\n",
              "        const containerElement = document.querySelector('#' + key);\n",
              "        const charts = await google.colab.kernel.invokeFunction(\n",
              "            'suggestCharts', [key], {});\n",
              "      }\n",
              "    </script>\n",
              "\n",
              "      <script>\n",
              "\n",
              "function displayQuickchartButton(domScope) {\n",
              "  let quickchartButtonEl =\n",
              "    domScope.querySelector('#df-ace8d6be-cf77-4596-9761-fdcaea06be00 button.colab-df-quickchart');\n",
              "  quickchartButtonEl.style.display =\n",
              "    google.colab.kernel.accessAllowed ? 'block' : 'none';\n",
              "}\n",
              "\n",
              "        displayQuickchartButton(document);\n",
              "      </script>\n",
              "      <style>\n",
              "    .colab-df-container {\n",
              "      display:flex;\n",
              "      flex-wrap:wrap;\n",
              "      gap: 12px;\n",
              "    }\n",
              "\n",
              "    .colab-df-convert {\n",
              "      background-color: #E8F0FE;\n",
              "      border: none;\n",
              "      border-radius: 50%;\n",
              "      cursor: pointer;\n",
              "      display: none;\n",
              "      fill: #1967D2;\n",
              "      height: 32px;\n",
              "      padding: 0 0 0 0;\n",
              "      width: 32px;\n",
              "    }\n",
              "\n",
              "    .colab-df-convert:hover {\n",
              "      background-color: #E2EBFA;\n",
              "      box-shadow: 0px 1px 2px rgba(60, 64, 67, 0.3), 0px 1px 3px 1px rgba(60, 64, 67, 0.15);\n",
              "      fill: #174EA6;\n",
              "    }\n",
              "\n",
              "    [theme=dark] .colab-df-convert {\n",
              "      background-color: #3B4455;\n",
              "      fill: #D2E3FC;\n",
              "    }\n",
              "\n",
              "    [theme=dark] .colab-df-convert:hover {\n",
              "      background-color: #434B5C;\n",
              "      box-shadow: 0px 1px 3px 1px rgba(0, 0, 0, 0.15);\n",
              "      filter: drop-shadow(0px 1px 2px rgba(0, 0, 0, 0.3));\n",
              "      fill: #FFFFFF;\n",
              "    }\n",
              "  </style>\n",
              "\n",
              "      <script>\n",
              "        const buttonEl =\n",
              "          document.querySelector('#df-cb73eab9-a5de-4eb7-a4f0-9f44730b22b9 button.colab-df-convert');\n",
              "        buttonEl.style.display =\n",
              "          google.colab.kernel.accessAllowed ? 'block' : 'none';\n",
              "\n",
              "        async function convertToInteractive(key) {\n",
              "          const element = document.querySelector('#df-cb73eab9-a5de-4eb7-a4f0-9f44730b22b9');\n",
              "          const dataTable =\n",
              "            await google.colab.kernel.invokeFunction('convertToInteractive',\n",
              "                                                     [key], {});\n",
              "          if (!dataTable) return;\n",
              "\n",
              "          const docLinkHtml = 'Like what you see? Visit the ' +\n",
              "            '<a target=\"_blank\" href=https://colab.research.google.com/notebooks/data_table.ipynb>data table notebook</a>'\n",
              "            + ' to learn more about interactive tables.';\n",
              "          element.innerHTML = '';\n",
              "          dataTable['output_type'] = 'display_data';\n",
              "          await google.colab.output.renderOutput(dataTable, element);\n",
              "          const docLink = document.createElement('div');\n",
              "          docLink.innerHTML = docLinkHtml;\n",
              "          element.appendChild(docLink);\n",
              "        }\n",
              "      </script>\n",
              "    </div>\n",
              "  </div>\n"
            ]
          },
          "metadata": {},
          "execution_count": 26
        }
      ]
    },
    {
      "cell_type": "code",
      "source": [
        "plt.scatter(file['ANNUAL_INCOME (USD)'],file.TOTAL_PURCAHSE, c=data['Cluster Number'], cmap='viridis')\n",
        "plt.show()"
      ],
      "metadata": {
        "colab": {
          "base_uri": "https://localhost:8080/",
          "height": 430
        },
        "id": "rC1ngqbFrLNW",
        "outputId": "fc869b49-53dd-4962-9ab6-6bd8590a34a2"
      },
      "execution_count": 27,
      "outputs": [
        {
          "output_type": "display_data",
          "data": {
            "text/plain": [
              "<Figure size 640x480 with 1 Axes>"
            ],
            "image/png": "[encoded data removed]"
          },
          "metadata": {}
        }
      ]
    },
    {
      "cell_type": "code",
      "source": [
        "color_map = {0: 'red', 1: 'blue', 2: 'green', 3: 'orange', 4: 'purple'}\n",
        "fig = go.Figure()\n",
        "for cluster_number,color_name in color_map.items():\n",
        "    cluster_data = data[data['Cluster Number'] == cluster_number]\n",
        "    fig.add_trace(go.Scatter(x=cluster_data['ANNUAL_INCOME (USD)'],y=cluster_data['TOTAL_PURCAHSE'],mode='markers'))\n",
        "fig.update_layout(title='Customer Segmentation',template='plotly_dark',xaxis_title='Annual Income (USD)--->',yaxis_title='Total Purchase--->')\n",
        "fig.show()"
      ],
      "metadata": {
        "colab": {
          "base_uri": "https://localhost:8080/",
          "height": 542
        },
        "id": "R2FsZvn5rjk1",
        "outputId": "c8c678ef-9048-4037-92e5-1a196f5fd4dd"
      },
      "execution_count": 28,
      "outputs": [
        {
          "output_type": "display_data",
          "data": {
            "text/html": [
              "<html>\n",
              "<head><meta charset=\"utf-8\" /></head>\n",
              "<body>\n",
              "    <div>            <script src=\"https://cdnjs.cloudflare.com/ajax/libs/mathjax/2.7.5/MathJax.js?config=TeX-AMS-MML_SVG\"></script><script type=\"text/javascript\">if (window.MathJax && window.MathJax.Hub && window.MathJax.Hub.Config) {window.MathJax.Hub.Config({SVG: {font: \"STIX-Web\"}});}</script>                <script type=\"text/javascript\">window.PlotlyConfig = {MathJaxConfig: 'local'};</script>\n",
              "        <script src=\"https://cdn.plot.ly/plotly-2.18.2.min.js\"></script>                <div id=\"c08570ce-dcfe-4e9d-ab11-9ad507f42741\" class=\"plotly-graph-div\" style=\"height:525px; width:100%;\"></div>            <script type=\"text/javascript\">                                    window.PLOTLYENV=window.PLOTLYENV || {};                                    if (document.getElementById(\"c08570ce-dcfe-4e9d-ab11-9ad507f42741\")) {                    Plotly.newPlot(                        \"c08570ce-dcfe-4e9d-ab11-9ad507f42741\",                        [{\"mode\":\"markers\",\"x\":[67641,36737,67265,96150,78543,63039,71844,94754,90504,89720,73642,80106,71755,31591,63130,84302,32719,52890,66509,72534,48787,90461,50953,53821,54860,57083,87372,74064,37813,41745,43025,44288,98878,71846,47482,80975,52042,69214,58602,78290,56431,56385,68158,53019,48639,51563,35776,91788,68827,83625,45251,77837,41536,95455,35109,59759,60015,36154,51804,94288,81195,50581,82648,60087,79930,62981,99298,76167,68559,78787,36368,80069,80861,95641,39078,55003,92768,81047,79786,56015,94881,33389,55683,43629,54826,56630,76163,86446,51288,45313,56745,61890,50022,58380,32356,46082,30661,67412,32920,38946,75500,60027,30956,55963,69063,61860,52015,56958,42201,59426,47778,75241,78364,87056,56723,41561,63142,56916,74965,34648,65133,77064,42588,63397,49816,72240,53499,65946,85204,45563,56155],\"y\":[8,5,5,11,7,9,12,20,11,5,17,14,8,14,9,11,15,14,13,18,17,11,7,12,10,8,17,6,9,12,12,7,7,26,10,27,21,12,26,20,16,21,20,16,12,24,20,9,24,5,25,26,22,20,16,18,27,25,6,13,5,15,7,27,30,8,22,10,19,26,22,28,18,7,20,11,18,13,25,6,6,22,18,24,14,29,6,18,5,7,10,29,17,12,25,8,29,19,8,16,36,17,18,22,10,6,23,9,14,29,6,15,19,13,13,25,11,20,37,8,8,21,11,26,18,11,26,9,6,25,19],\"type\":\"scatter\"},{\"mode\":\"markers\",\"x\":[61653,31622,46725,34263,89052,41664,68709,91120,49250,41555,83276,87492,54762,41046,58769,53150,98247,34853,89129,42112,31524,65111,84912,54354,50581,99626,36960,65772,79481,66408,31341,30338,42254,84756,88053,57935,42182,49541,67198,38820,54070,41122,66062,81571,32983,50662,53510,70998,86846,36640,74547,84620,45317,37564,43919,99346,59629,81184,91916,42984,88606,40616,33430,40816,62733,63933,54951,62413,65400,34494,30806,86638,59757,64636,86979,68197,64157,70042,44199,96262,92483,56172,72874,55425,37906,91413,37287,64701,47674,47602,55931,59192,72520,63742,33020,39516,32396,49129,41303,60561,37314,49623,99274,79138,78845,42987,67311,61575,31007,77517,43281,91246,31435,35084,75539,37491,39077,51427,59241,36540,33093,49982,31980,66444,60707,69110,56589,59009,65488,75004,41653,63662,31560,51927],\"y\":[24,41,33,41,18,16,47,38,29,43,35,47,48,42,24,49,20,46,25,36,47,34,21,31,37,35,20,18,45,30,10,37,45,17,45,42,23,38,17,45,27,49,28,29,33,29,37,36,39,48,42,30,15,39,25,30,32,33,30,16,38,41,40,47,27,48,47,49,29,40,17,26,23,38,32,39,46,40,17,30,34,35,48,43,46,46,24,48,49,25,26,32,30,46,41,23,40,43,29,22,23,40,38,32,29,46,43,45,43,28,30,42,46,43,40,44,40,43,36,48,42,46,34,34,32,44,37,49,41,39,37,35,45,41],\"type\":\"scatter\"},{\"mode\":\"markers\",\"x\":[54574,62913,84028,53874,71873,95082,81756,56292,32469,78874,98344,77638,63062,56660,43507,80192,93888,67567,51195,61598,57082,56029,90545,82930,74413,63756,83268,83331,78901,35626,37424,98916,38711,35655,74859,82098,30526,81027,64531,38712,79268,84615,90112,56143,71688,73408,69499,82269,52431,91681,93483,79153,57424,86985,82326,53398,87660,31925,63320,56289,91550,96435,57961,66877,40326,82579,50049,90315,46309,85230,89321,77908,69443,34703,95128,55849,61585,73585,56017,75350,72229,57490,49975,53279,96061,79153,94324,80677,65046,99350,75893,91272,97649,94674,43760,91367,82233,74738,36276,81886,39847],\"y\":[48,47,40,46,30,37,39,48,37,41,39,36,39,36,49,41,37,37,45,48,31,42,48,39,38,27,34,48,40,33,35,49,27,44,48,34,24,43,36,37,42,38,40,45,31,39,26,47,46,16,46,42,49,34,46,34,19,39,31,39,22,29,40,20,39,38,38,49,36,32,35,24,33,36,33,47,27,35,23,38,35,27,23,39,13,32,20,43,44,41,43,33,40,42,43,39,31,32,41,31,42],\"type\":\"scatter\"},{\"mode\":\"markers\",\"x\":[86133,91268,68243,87384,56657,69952,52180,78756,70809,91396,81226,59402,76828,77924,65737,59373,66397,51172,83002,83302,51792,97298,61987,45850,54058,75420,68890,96017,77304,62921,45048,67904,64008,30060,85337,43350,75186,58145,64020,53051,81474,51520,87134,50491,74623,81860,41344,31750,97957,45896,85761,92552,59711,86276,74813,99768,71786,84237,55510,49426,47850,82375,65435,87132,57345,82393,96081,59430,57788,69974,46371,75084,92187,80072,42676,32050,64801,85619,70600,87775,73001,97364,75028,67573,78280,54262,92211,84842,91665,57376,85554,80948,76600,48297,60448,37657,56685,54578,58831,63660,95160,76542,94772,88762,55559,99669,51754,33972,39903,75648,97675,83947,52534,93620,79708,87932,96672,64832,61966,93852,59257,72207,97889,74569,53411,82307,93416,62196,42857,69341,98760,58541,92046,98577],\"y\":[32,19,10,48,18,6,13,24,30,5,39,10,9,37,46,24,28,33,27,27,12,5,12,33,42,9,26,38,5,30,14,22,30,12,44,16,12,29,8,5,23,9,32,6,13,29,17,13,35,15,8,38,42,10,22,23,15,11,25,19,16,19,25,23,12,18,14,6,13,12,6,10,29,19,19,10,25,27,20,19,15,19,8,25,18,8,31,33,34,22,6,8,29,15,11,14,17,35,11,8,26,13,13,19,28,12,28,20,31,28,14,25,21,26,19,6,25,22,7,15,23,8,13,25,6,6,9,17,20,7,10,12,6,10],\"type\":\"scatter\"},{\"mode\":\"markers\",\"x\":[],\"y\":[],\"type\":\"scatter\"}],                        {\"template\":{\"data\":{\"barpolar\":[{\"marker\":{\"line\":{\"color\":\"rgb(17,17,17)\",\"width\":0.5},\"pattern\":{\"fillmode\":\"overlay\",\"size\":10,\"solidity\":0.2}},\"type\":\"barpolar\"}],\"bar\":[{\"error_x\":{\"color\":\"#f2f5fa\"},\"error_y\":{\"color\":\"#f2f5fa\"},\"marker\":{\"line\":{\"color\":\"rgb(17,17,17)\",\"width\":0.5},\"pattern\":{\"fillmode\":\"overlay\",\"size\":10,\"solidity\":0.2}},\"type\":\"bar\"}],\"carpet\":[{\"aaxis\":{\"endlinecolor\":\"#A2B1C6\",\"gridcolor\":\"#506784\",\"linecolor\":\"#506784\",\"minorgridcolor\":\"#506784\",\"startlinecolor\":\"#A2B1C6\"},\"baxis\":{\"endlinecolor\":\"#A2B1C6\",\"gridcolor\":\"#506784\",\"linecolor\":\"#506784\",\"minorgridcolor\":\"#506784\",\"startlinecolor\":\"#A2B1C6\"},\"type\":\"carpet\"}],\"choropleth\":[{\"colorbar\":{\"outlinewidth\":0,\"ticks\":\"\"},\"type\":\"choropleth\"}],\"contourcarpet\":[{\"colorbar\":{\"outlinewidth\":0,\"ticks\":\"\"},\"type\":\"contourcarpet\"}],\"contour\":[{\"colorbar\":{\"outlinewidth\":0,\"ticks\":\"\"},\"colorscale\":[[0.0,\"#0d0887\"],[0.1111111111111111,\"#46039f\"],[0.2222222222222222,\"#7201a8\"],[0.3333333333333333,\"#9c179e\"],[0.4444444444444444,\"#bd3786\"],[0.5555555555555556,\"#d8576b\"],[0.6666666666666666,\"#ed7953\"],[0.7777777777777778,\"#fb9f3a\"],[0.8888888888888888,\"#fdca26\"],[1.0,\"#f0f921\"]],\"type\":\"contour\"}],\"heatmapgl\":[{\"colorbar\":{\"outlinewidth\":0,\"ticks\":\"\"},\"colorscale\":[[0.0,\"#0d0887\"],[0.1111111111111111,\"#46039f\"],[0.2222222222222222,\"#7201a8\"],[0.3333333333333333,\"#9c179e\"],[0.4444444444444444,\"#bd3786\"],[0.5555555555555556,\"#d8576b\"],[0.6666666666666666,\"#ed7953\"],[0.7777777777777778,\"#fb9f3a\"],[0.8888888888888888,\"#fdca26\"],[1.0,\"#f0f921\"]],\"type\":\"heatmapgl\"}],\"heatmap\":[{\"colorbar\":{\"outlinewidth\":0,\"ticks\":\"\"},\"colorscale\":[[0.0,\"#0d0887\"],[0.1111111111111111,\"#46039f\"],[0.2222222222222222,\"#7201a8\"],[0.3333333333333333,\"#9c179e\"],[0.4444444444444444,\"#bd3786\"],[0.5555555555555556,\"#d8576b\"],[0.6666666666666666,\"#ed7953\"],[0.7777777777777778,\"#fb9f3a\"],[0.8888888888888888,\"#fdca26\"],[1.0,\"#f0f921\"]],\"type\":\"heatmap\"}],\"histogram2dcontour\":[{\"colorbar\":{\"outlinewidth\":0,\"ticks\":\"\"},\"colorscale\":[[0.0,\"#0d0887\"],[0.1111111111111111,\"#46039f\"],[0.2222222222222222,\"#7201a8\"],[0.3333333333333333,\"#9c179e\"],[0.4444444444444444,\"#bd3786\"],[0.5555555555555556,\"#d8576b\"],[0.6666666666666666,\"#ed7953\"],[0.7777777777777778,\"#fb9f3a\"],[0.8888888888888888,\"#fdca26\"],[1.0,\"#f0f921\"]],\"type\":\"histogram2dcontour\"}],\"histogram2d\":[{\"colorbar\":{\"outlinewidth\":0,\"ticks\":\"\"},\"colorscale\":[[0.0,\"#0d0887\"],[0.1111111111111111,\"#46039f\"],[0.2222222222222222,\"#7201a8\"],[0.3333333333333333,\"#9c179e\"],[0.4444444444444444,\"#bd3786\"],[0.5555555555555556,\"#d8576b\"],[0.6666666666666666,\"#ed7953\"],[0.7777777777777778,\"#fb9f3a\"],[0.8888888888888888,\"#fdca26\"],[1.0,\"#f0f921\"]],\"type\":\"histogram2d\"}],\"histogram\":[{\"marker\":{\"pattern\":{\"fillmode\":\"overlay\",\"size\":10,\"solidity\":0.2}},\"type\":\"histogram\"}],\"mesh3d\":[{\"colorbar\":{\"outlinewidth\":0,\"ticks\":\"\"},\"type\":\"mesh3d\"}],\"parcoords\":[{\"line\":{\"colorbar\":{\"outlinewidth\":0,\"ticks\":\"\"}},\"type\":\"parcoords\"}],\"pie\":[{\"automargin\":true,\"type\":\"pie\"}],\"scatter3d\":[{\"line\":{\"colorbar\":{\"outlinewidth\":0,\"ticks\":\"\"}},\"marker\":{\"colorbar\":{\"outlinewidth\":0,\"ticks\":\"\"}},\"type\":\"scatter3d\"}],\"scattercarpet\":[{\"marker\":{\"colorbar\":{\"outlinewidth\":0,\"ticks\":\"\"}},\"type\":\"scattercarpet\"}],\"scattergeo\":[{\"marker\":{\"colorbar\":{\"outlinewidth\":0,\"ticks\":\"\"}},\"type\":\"scattergeo\"}],\"scattergl\":[{\"marker\":{\"line\":{\"color\":\"#283442\"}},\"type\":\"scattergl\"}],\"scattermapbox\":[{\"marker\":{\"colorbar\":{\"outlinewidth\":0,\"ticks\":\"\"}},\"type\":\"scattermapbox\"}],\"scatterpolargl\":[{\"marker\":{\"colorbar\":{\"outlinewidth\":0,\"ticks\":\"\"}},\"type\":\"scatterpolargl\"}],\"scatterpolar\":[{\"marker\":{\"colorbar\":{\"outlinewidth\":0,\"ticks\":\"\"}},\"type\":\"scatterpolar\"}],\"scatter\":[{\"marker\":{\"line\":{\"color\":\"#283442\"}},\"type\":\"scatter\"}],\"scatterternary\":[{\"marker\":{\"colorbar\":{\"outlinewidth\":0,\"ticks\":\"\"}},\"type\":\"scatterternary\"}],\"surface\":[{\"colorbar\":{\"outlinewidth\":0,\"ticks\":\"\"},\"colorscale\":[[0.0,\"#0d0887\"],[0.1111111111111111,\"#46039f\"],[0.2222222222222222,\"#7201a8\"],[0.3333333333333333,\"#9c179e\"],[0.4444444444444444,\"#bd3786\"],[0.5555555555555556,\"#d8576b\"],[0.6666666666666666,\"#ed7953\"],[0.7777777777777778,\"#fb9f3a\"],[0.8888888888888888,\"#fdca26\"],[1.0,\"#f0f921\"]],\"type\":\"surface\"}],\"table\":[{\"cells\":{\"fill\":{\"color\":\"#506784\"},\"line\":{\"color\":\"rgb(17,17,17)\"}},\"header\":{\"fill\":{\"color\":\"#2a3f5f\"},\"line\":{\"color\":\"rgb(17,17,17)\"}},\"type\":\"table\"}]},\"layout\":{\"annotationdefaults\":{\"arrowcolor\":\"#f2f5fa\",\"arrowhead\":0,\"arrowwidth\":1},\"autotypenumbers\":\"strict\",\"coloraxis\":{\"colorbar\":{\"outlinewidth\":0,\"ticks\":\"\"}},\"colorscale\":{\"diverging\":[[0,\"#8e0152\"],[0.1,\"#c51b7d\"],[0.2,\"#de77ae\"],[0.3,\"#f1b6da\"],[0.4,\"#fde0ef\"],[0.5,\"#f7f7f7\"],[0.6,\"#e6f5d0\"],[0.7,\"#b8e186\"],[0.8,\"#7fbc41\"],[0.9,\"#4d9221\"],[1,\"#276419\"]],\"sequential\":[[0.0,\"#0d0887\"],[0.1111111111111111,\"#46039f\"],[0.2222222222222222,\"#7201a8\"],[0.3333333333333333,\"#9c179e\"],[0.4444444444444444,\"#bd3786\"],[0.5555555555555556,\"#d8576b\"],[0.6666666666666666,\"#ed7953\"],[0.7777777777777778,\"#fb9f3a\"],[0.8888888888888888,\"#fdca26\"],[1.0,\"#f0f921\"]],\"sequentialminus\":[[0.0,\"#0d0887\"],[0.1111111111111111,\"#46039f\"],[0.2222222222222222,\"#7201a8\"],[0.3333333333333333,\"#9c179e\"],[0.4444444444444444,\"#bd3786\"],[0.5555555555555556,\"#d8576b\"],[0.6666666666666666,\"#ed7953\"],[0.7777777777777778,\"#fb9f3a\"],[0.8888888888888888,\"#fdca26\"],[1.0,\"#f0f921\"]]},\"colorway\":[\"#636efa\",\"#EF553B\",\"#00cc96\",\"#ab63fa\",\"#FFA15A\",\"#19d3f3\",\"#FF6692\",\"#B6E880\",\"#FF97FF\",\"#FECB52\"],\"font\":{\"color\":\"#f2f5fa\"},\"geo\":{\"bgcolor\":\"rgb(17,17,17)\",\"lakecolor\":\"rgb(17,17,17)\",\"landcolor\":\"rgb(17,17,17)\",\"showlakes\":true,\"showland\":true,\"subunitcolor\":\"#506784\"},\"hoverlabel\":{\"align\":\"left\"},\"hovermode\":\"closest\",\"mapbox\":{\"style\":\"dark\"},\"paper_bgcolor\":\"rgb(17,17,17)\",\"plot_bgcolor\":\"rgb(17,17,17)\",\"polar\":{\"angularaxis\":{\"gridcolor\":\"#506784\",\"linecolor\":\"#506784\",\"ticks\":\"\"},\"bgcolor\":\"rgb(17,17,17)\",\"radialaxis\":{\"gridcolor\":\"#506784\",\"linecolor\":\"#506784\",\"ticks\":\"\"}},\"scene\":{\"xaxis\":{\"backgroundcolor\":\"rgb(17,17,17)\",\"gridcolor\":\"#506784\",\"gridwidth\":2,\"linecolor\":\"#506784\",\"showbackground\":true,\"ticks\":\"\",\"zerolinecolor\":\"#C8D4E3\"},\"yaxis\":{\"backgroundcolor\":\"rgb(17,17,17)\",\"gridcolor\":\"#506784\",\"gridwidth\":2,\"linecolor\":\"#506784\",\"showbackground\":true,\"ticks\":\"\",\"zerolinecolor\":\"#C8D4E3\"},\"zaxis\":{\"backgroundcolor\":\"rgb(17,17,17)\",\"gridcolor\":\"#506784\",\"gridwidth\":2,\"linecolor\":\"#506784\",\"showbackground\":true,\"ticks\":\"\",\"zerolinecolor\":\"#C8D4E3\"}},\"shapedefaults\":{\"line\":{\"color\":\"#f2f5fa\"}},\"sliderdefaults\":{\"bgcolor\":\"#C8D4E3\",\"bordercolor\":\"rgb(17,17,17)\",\"borderwidth\":1,\"tickwidth\":0},\"ternary\":{\"aaxis\":{\"gridcolor\":\"#506784\",\"linecolor\":\"#506784\",\"ticks\":\"\"},\"baxis\":{\"gridcolor\":\"#506784\",\"linecolor\":\"#506784\",\"ticks\":\"\"},\"bgcolor\":\"rgb(17,17,17)\",\"caxis\":{\"gridcolor\":\"#506784\",\"linecolor\":\"#506784\",\"ticks\":\"\"}},\"title\":{\"x\":0.05},\"updatemenudefaults\":{\"bgcolor\":\"#506784\",\"borderwidth\":0},\"xaxis\":{\"automargin\":true,\"gridcolor\":\"#283442\",\"linecolor\":\"#506784\",\"ticks\":\"\",\"title\":{\"standoff\":15},\"zerolinecolor\":\"#283442\",\"zerolinewidth\":2},\"yaxis\":{\"automargin\":true,\"gridcolor\":\"#283442\",\"linecolor\":\"#506784\",\"ticks\":\"\",\"title\":{\"standoff\":15},\"zerolinecolor\":\"#283442\",\"zerolinewidth\":2}}},\"title\":{\"text\":\"Customer Segmentation\"},\"xaxis\":{\"title\":{\"text\":\"Annual Income (USD)--->\"}},\"yaxis\":{\"title\":{\"text\":\"Total Purchase--->\"}}},                        {\"responsive\": true}                    ).then(function(){\n",
              "                            \n",
              "var gd = document.getElementById('c08570ce-dcfe-4e9d-ab11-9ad507f42741');\n",
              "var x = new MutationObserver(function (mutations, observer) {{\n",
              "        var display = window.getComputedStyle(gd).display;\n",
              "        if (!display || display === 'none') {{\n",
              "            console.log([gd, 'removed!']);\n",
              "            Plotly.purge(gd);\n",
              "            observer.disconnect();\n",
              "        }}\n",
              "}});\n",
              "\n",
              "// Listen for the removal of the full notebook cells\n",
              "var notebookContainer = gd.closest('#notebook-container');\n",
              "if (notebookContainer) {{\n",
              "    x.observe(notebookContainer, {childList: true});\n",
              "}}\n",
              "\n",
              "// Listen for the clearing of the current output cell\n",
              "var outputEl = gd.closest('.output');\n",
              "if (outputEl) {{\n",
              "    x.observe(outputEl, {childList: true});\n",
              "}}\n",
              "\n",
              "                        })                };                            </script>        </div>\n",
              "</body>\n",
              "</html>"
            ]
          },
          "metadata": {}
        }
      ]
    },
    {
      "cell_type": "markdown",
      "source": [
        "#Creating DashBoard:"
      ],
      "metadata": {
        "id": "Njq-X_ahJA1t"
      }
    },
    {
      "cell_type": "code",
      "source": [
        "App = dash.Dash(__name__)\n",
        "App.layout = html.Div([html.H1(\"INTERACTIVE DASHBOARD\"),html.P(\"SELECT COLUMNS FOR VISUALIZATION:\"),\n",
        "    dcc.Dropdown(id='Plot-Type',\n",
        "        options=[\n",
        "            {'label': 'Scatter Plot', 'value': 'Scatter Plot'},\n",
        "            {'label': 'Pie Chart', 'value': 'Pie Chart'},\n",
        "            {'label': 'Bar Chart', 'value': 'Bar Chart'},\n",
        "            {'label': 'K-MEAN CLUSTERING BETWEEN ANNUAL INCOME(USD) AND TOTAL PURCHASE ONLY', 'value': 'K-Means'},\n",
        "            {'label': 'Box Plot', 'value': 'Box Plot'}\n",
        "        ],value='Scatter Plot'),\n",
        "    dcc.Dropdown(id='column_x',options=[{'label': col, 'value': col} for col in file.columns],value='ANNUAL_INCOME (USD)',),\n",
        "    dcc.Dropdown(id='column_y',options=[{'label': col, 'value': col} for col in file.columns],value='TOTAL_PURCAHSE',),\n",
        "    dcc.Graph(id='DATA_VISUALIZATION')])\n",
        "@App.callback(\n",
        "    Output('DATA_VISUALIZATION', 'figure'),[Input('Plot-Type', 'value'),Input('column_x', 'value'),Input('column_y', 'value')]\n",
        ")\n",
        "def UPDATE_PLOT(selected_plot, column_x, column_y):\n",
        "    if selected_plot == 'Scatter Plot':\n",
        "        plot = px.scatter(data_frame=file, x=column_x, y=column_y, color='PREFERRED_CATEGORY',size='AGE', hover_data=['CUSTOMER_ID', 'PREFERRED_CATEGORY'],\n",
        "                          title=f'Scatter Plot: {column_x} vs {column_y}')\n",
        "        plot.update_layout(title_font=dict(size=15, color=\"cyan\"), template=\"plotly_dark\")\n",
        "    elif selected_plot == 'Pie Chart':\n",
        "        plot = px.pie(data_frame=file, names=column_x, values=column_y,title=f'Pie Chart: {column_y} and {column_x}')\n",
        "        plot.update_layout(title_font=dict(size=15, color=\"cyan\"), template='plotly_dark')\n",
        "    elif selected_plot == 'K-Means':\n",
        "        scaled_data = StandardScaler().fit_transform(file.select_dtypes(include=['int']))\n",
        "        kmeans = KMeans(n_clusters=4, random_state=42)  # based on elbow method.\n",
        "        file['Cluster Number'] = kmeans.fit_predict(scaled_data)\n",
        "        color_map = {0: 'red', 1: 'blue', 2: 'green', 3: 'orange', 4: 'purple'}\n",
        "        plot = go.Figure()\n",
        "        for cluster_number, color_name in color_map.items():\n",
        "            cluster_data = file[file['Cluster Number'] == cluster_number]\n",
        "            plot.add_trace(go.Scatter(x=cluster_data['ANNUAL_INCOME (USD)'],y=cluster_data['TOTAL_PURCAHSE'],mode='markers',marker=dict(color=color_name)))\n",
        "        plot.update_layout(title='CUSTOMER SEGMENTATION',template='plotly_dark',xaxis_title='Annual Income (USD)--->',yaxis_title='Total Purchase--->')\n",
        "    elif selected_plot == 'Box Plot':\n",
        "        plot = px.box(data_frame=file, x=column_x, y=column_y, title=f'Box Plot Between {column_x} and {column_y}')\n",
        "        plot.update_layout(title_font=dict(size=15, color=\"cyan\"), template='plotly_dark')\n",
        "    else:\n",
        "        plot = px.bar(data_frame=file, x=column_x, y=column_y, color='GENDER',title=f'Bar Chart: {column_y} and {column_x}')\n",
        "        plot.update_layout(title_font=dict(size=15, color=\"cyan\"), template='plotly_dark')\n",
        "    return plot"
      ],
      "metadata": {
        "id": "0bKvrbIL1UR4"
      },
      "execution_count": 29,
      "outputs": []
    },
    {
      "cell_type": "code",
      "source": [
        "if __name__ == '__main__':\n",
        "    App.run_server(debug=True)\n"
      ],
      "metadata": {
        "id": "9tpGY9uIAc4V",
        "colab": {
          "base_uri": "https://localhost:8080/",
          "height": 671
        },
        "outputId": "418ea82b-be07-4eda-9013-bab98b2e8dc1"
      },
      "execution_count": 30,
      "outputs": [
        {
          "output_type": "display_data",
          "data": {
            "text/plain": [
              "<IPython.core.display.Javascript object>"
            ],
            "application/javascript": [
              "(async (port, path, width, height, cache, element) => {\n",
              "    if (!google.colab.kernel.accessAllowed && !cache) {\n",
              "      return;\n",
              "    }\n",
              "    element.appendChild(document.createTextNode(''));\n",
              "    const url = await google.colab.kernel.proxyPort(port, {cache});\n",
              "    const iframe = document.createElement('iframe');\n",
              "    iframe.src = new URL(path, url).toString();\n",
              "    iframe.height = height;\n",
              "    iframe.width = width;\n",
              "    iframe.style.border = 0;\n",
              "    iframe.allow = [\n",
              "        'accelerometer',\n",
              "        'autoplay',\n",
              "        'camera',\n",
              "        'clipboard-read',\n",
              "        'clipboard-write',\n",
              "        'gyroscope',\n",
              "        'magnetometer',\n",
              "        'microphone',\n",
              "        'serial',\n",
              "        'usb',\n",
              "        'xr-spatial-tracking',\n",
              "    ].join('; ');\n",
              "    element.appendChild(iframe);\n",
              "  })(8050, \"/\", \"100%\", 650, false, window.element)"
            ]
          },
          "metadata": {}
        }
      ]
    },
    {
      "cell_type": "code",
      "source": [],
      "metadata": {
        "id": "Gla9F8yII9rC"
      },
      "execution_count": null,
      "outputs": []
    }
  ]
}